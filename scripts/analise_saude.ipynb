{
 "cells": [
  {
   "cell_type": "markdown",
   "id": "1e094453",
   "metadata": {},
   "source": [
    "# Análise de Dados em Saúde: Previsão de Ataque Cardíaco\n",
    "\n",
    "Este projeto explora um dataset de saúde para identificar padrões e fatores associados a ataques cardíacos. O fluxo inclui: importação, exploração, análise estatística, visualização, detecção de outliers e insights finais.\n",
    "\n",
    "---"
   ]
  },
  {
   "cell_type": "markdown",
   "id": "ee87b461",
   "metadata": {},
   "source": [
    "## 1. Importação das Bibliotecas\n",
    "\n",
    "Importação das principais bibliotecas para manipulação, análise e visualização dos dados."
   ]
  },
  {
   "cell_type": "code",
   "execution_count": 2,
   "id": "ff9663ed",
   "metadata": {},
   "outputs": [],
   "source": [
    "import pandas as pd\n",
    "import numpy as np\n",
    "import matplotlib.pyplot as plt\n",
    "import seaborn as sns"
   ]
  },
  {
   "cell_type": "markdown",
   "id": "eabdb201",
   "metadata": {},
   "source": [
    "## 2. Carregamento do Dataset\n",
    "\n",
    "O dataset utilizado é o `Medicaldataset.csv`, localizado na pasta `dados/`."
   ]
  },
  {
   "cell_type": "code",
   "execution_count": 3,
   "id": "46f4dc1d",
   "metadata": {},
   "outputs": [],
   "source": [
    "df = pd.read_csv('C:/Users/coelh/OneDrive/Área de Trabalho/Projeto_analytics/dados/Medicaldataset.csv')"
   ]
  },
  {
   "cell_type": "markdown",
   "id": "6a0a6adf",
   "metadata": {},
   "source": [
    "## 3. Visualização Inicial dos Dados\n",
    "\n",
    "Exibir as primeiras linhas para entender a estrutura do dataset."
   ]
  },
  {
   "cell_type": "code",
   "execution_count": 4,
   "id": "438da793",
   "metadata": {},
   "outputs": [
    {
     "data": {
      "application/vnd.microsoft.datawrangler.viewer.v0+json": {
       "columns": [
        {
         "name": "index",
         "rawType": "int64",
         "type": "integer"
        },
        {
         "name": "Age",
         "rawType": "int64",
         "type": "integer"
        },
        {
         "name": "Gender",
         "rawType": "int64",
         "type": "integer"
        },
        {
         "name": "Heart rate",
         "rawType": "int64",
         "type": "integer"
        },
        {
         "name": "Systolic blood pressure",
         "rawType": "int64",
         "type": "integer"
        },
        {
         "name": "Diastolic blood pressure",
         "rawType": "int64",
         "type": "integer"
        },
        {
         "name": "Blood sugar",
         "rawType": "float64",
         "type": "float"
        },
        {
         "name": "CK-MB",
         "rawType": "float64",
         "type": "float"
        },
        {
         "name": "Troponin",
         "rawType": "float64",
         "type": "float"
        },
        {
         "name": "Result",
         "rawType": "object",
         "type": "string"
        }
       ],
       "ref": "f6f9c2e3-4a15-4cb7-828a-1efcdc597054",
       "rows": [
        [
         "0",
         "64",
         "1",
         "66",
         "160",
         "83",
         "160.0",
         "1.8",
         "0.012",
         "negative"
        ],
        [
         "1",
         "21",
         "1",
         "94",
         "98",
         "46",
         "296.0",
         "6.75",
         "1.06",
         "positive"
        ],
        [
         "2",
         "55",
         "1",
         "64",
         "160",
         "77",
         "270.0",
         "1.99",
         "0.003",
         "negative"
        ],
        [
         "3",
         "64",
         "1",
         "70",
         "120",
         "55",
         "270.0",
         "13.87",
         "0.122",
         "positive"
        ],
        [
         "4",
         "55",
         "1",
         "64",
         "112",
         "65",
         "300.0",
         "1.08",
         "0.003",
         "negative"
        ]
       ],
       "shape": {
        "columns": 9,
        "rows": 5
       }
      },
      "text/html": [
       "<div>\n",
       "<style scoped>\n",
       "    .dataframe tbody tr th:only-of-type {\n",
       "        vertical-align: middle;\n",
       "    }\n",
       "\n",
       "    .dataframe tbody tr th {\n",
       "        vertical-align: top;\n",
       "    }\n",
       "\n",
       "    .dataframe thead th {\n",
       "        text-align: right;\n",
       "    }\n",
       "</style>\n",
       "<table border=\"1\" class=\"dataframe\">\n",
       "  <thead>\n",
       "    <tr style=\"text-align: right;\">\n",
       "      <th></th>\n",
       "      <th>Age</th>\n",
       "      <th>Gender</th>\n",
       "      <th>Heart rate</th>\n",
       "      <th>Systolic blood pressure</th>\n",
       "      <th>Diastolic blood pressure</th>\n",
       "      <th>Blood sugar</th>\n",
       "      <th>CK-MB</th>\n",
       "      <th>Troponin</th>\n",
       "      <th>Result</th>\n",
       "    </tr>\n",
       "  </thead>\n",
       "  <tbody>\n",
       "    <tr>\n",
       "      <th>0</th>\n",
       "      <td>64</td>\n",
       "      <td>1</td>\n",
       "      <td>66</td>\n",
       "      <td>160</td>\n",
       "      <td>83</td>\n",
       "      <td>160.0</td>\n",
       "      <td>1.80</td>\n",
       "      <td>0.012</td>\n",
       "      <td>negative</td>\n",
       "    </tr>\n",
       "    <tr>\n",
       "      <th>1</th>\n",
       "      <td>21</td>\n",
       "      <td>1</td>\n",
       "      <td>94</td>\n",
       "      <td>98</td>\n",
       "      <td>46</td>\n",
       "      <td>296.0</td>\n",
       "      <td>6.75</td>\n",
       "      <td>1.060</td>\n",
       "      <td>positive</td>\n",
       "    </tr>\n",
       "    <tr>\n",
       "      <th>2</th>\n",
       "      <td>55</td>\n",
       "      <td>1</td>\n",
       "      <td>64</td>\n",
       "      <td>160</td>\n",
       "      <td>77</td>\n",
       "      <td>270.0</td>\n",
       "      <td>1.99</td>\n",
       "      <td>0.003</td>\n",
       "      <td>negative</td>\n",
       "    </tr>\n",
       "    <tr>\n",
       "      <th>3</th>\n",
       "      <td>64</td>\n",
       "      <td>1</td>\n",
       "      <td>70</td>\n",
       "      <td>120</td>\n",
       "      <td>55</td>\n",
       "      <td>270.0</td>\n",
       "      <td>13.87</td>\n",
       "      <td>0.122</td>\n",
       "      <td>positive</td>\n",
       "    </tr>\n",
       "    <tr>\n",
       "      <th>4</th>\n",
       "      <td>55</td>\n",
       "      <td>1</td>\n",
       "      <td>64</td>\n",
       "      <td>112</td>\n",
       "      <td>65</td>\n",
       "      <td>300.0</td>\n",
       "      <td>1.08</td>\n",
       "      <td>0.003</td>\n",
       "      <td>negative</td>\n",
       "    </tr>\n",
       "  </tbody>\n",
       "</table>\n",
       "</div>"
      ],
      "text/plain": [
       "   Age  Gender  Heart rate  Systolic blood pressure  Diastolic blood pressure  \\\n",
       "0   64       1          66                      160                        83   \n",
       "1   21       1          94                       98                        46   \n",
       "2   55       1          64                      160                        77   \n",
       "3   64       1          70                      120                        55   \n",
       "4   55       1          64                      112                        65   \n",
       "\n",
       "   Blood sugar  CK-MB  Troponin    Result  \n",
       "0        160.0   1.80     0.012  negative  \n",
       "1        296.0   6.75     1.060  positive  \n",
       "2        270.0   1.99     0.003  negative  \n",
       "3        270.0  13.87     0.122  positive  \n",
       "4        300.0   1.08     0.003  negative  "
      ]
     },
     "execution_count": 4,
     "metadata": {},
     "output_type": "execute_result"
    }
   ],
   "source": [
    "# Visualizar as primeiras linhas do dataset\n",
    "df.head()"
   ]
  },
  {
   "cell_type": "markdown",
   "id": "45c30cde",
   "metadata": {},
   "source": [
    "## 4. Análise Exploratória Inicial\n",
    "\n",
    "Estatísticas descritivas, valores ausentes e tipos de dados."
   ]
  },
  {
   "cell_type": "code",
   "execution_count": 5,
   "id": "eaa8068e",
   "metadata": {},
   "outputs": [
    {
     "data": {
      "application/vnd.microsoft.datawrangler.viewer.v0+json": {
       "columns": [
        {
         "name": "index",
         "rawType": "object",
         "type": "string"
        },
        {
         "name": "Age",
         "rawType": "float64",
         "type": "float"
        },
        {
         "name": "Gender",
         "rawType": "float64",
         "type": "float"
        },
        {
         "name": "Heart rate",
         "rawType": "float64",
         "type": "float"
        },
        {
         "name": "Systolic blood pressure",
         "rawType": "float64",
         "type": "float"
        },
        {
         "name": "Diastolic blood pressure",
         "rawType": "float64",
         "type": "float"
        },
        {
         "name": "Blood sugar",
         "rawType": "float64",
         "type": "float"
        },
        {
         "name": "CK-MB",
         "rawType": "float64",
         "type": "float"
        },
        {
         "name": "Troponin",
         "rawType": "float64",
         "type": "float"
        }
       ],
       "ref": "1a272269-4a51-4af5-ac42-2876b323626b",
       "rows": [
        [
         "count",
         "1319.0",
         "1319.0",
         "1319.0",
         "1319.0",
         "1319.0",
         "1319.0",
         "1319.0",
         "1319.0"
        ],
        [
         "mean",
         "56.191811978771796",
         "0.6595905989385898",
         "78.3366186504928",
         "127.17058377558757",
         "72.26914329037149",
         "146.63434420015165",
         "15.27430553449583",
         "0.3609423805913571"
        ],
        [
         "std",
         "13.647315476078813",
         "0.4740265793910911",
         "51.63027000675615",
         "26.12272045584132",
         "14.033924163048708",
         "74.92304465780165",
         "46.32708334398735",
         "1.1545676649221834"
        ],
        [
         "min",
         "14.0",
         "0.0",
         "20.0",
         "42.0",
         "38.0",
         "35.0",
         "0.321",
         "0.001"
        ],
        [
         "25%",
         "47.0",
         "0.0",
         "64.0",
         "110.0",
         "62.0",
         "98.0",
         "1.6549999999999998",
         "0.006"
        ],
        [
         "50%",
         "58.0",
         "1.0",
         "74.0",
         "124.0",
         "72.0",
         "116.0",
         "2.85",
         "0.014"
        ],
        [
         "75%",
         "65.0",
         "1.0",
         "85.0",
         "143.0",
         "81.0",
         "169.5",
         "5.805",
         "0.08549999999999999"
        ],
        [
         "max",
         "103.0",
         "1.0",
         "1111.0",
         "223.0",
         "154.0",
         "541.0",
         "300.0",
         "10.3"
        ]
       ],
       "shape": {
        "columns": 8,
        "rows": 8
       }
      },
      "text/html": [
       "<div>\n",
       "<style scoped>\n",
       "    .dataframe tbody tr th:only-of-type {\n",
       "        vertical-align: middle;\n",
       "    }\n",
       "\n",
       "    .dataframe tbody tr th {\n",
       "        vertical-align: top;\n",
       "    }\n",
       "\n",
       "    .dataframe thead th {\n",
       "        text-align: right;\n",
       "    }\n",
       "</style>\n",
       "<table border=\"1\" class=\"dataframe\">\n",
       "  <thead>\n",
       "    <tr style=\"text-align: right;\">\n",
       "      <th></th>\n",
       "      <th>Age</th>\n",
       "      <th>Gender</th>\n",
       "      <th>Heart rate</th>\n",
       "      <th>Systolic blood pressure</th>\n",
       "      <th>Diastolic blood pressure</th>\n",
       "      <th>Blood sugar</th>\n",
       "      <th>CK-MB</th>\n",
       "      <th>Troponin</th>\n",
       "    </tr>\n",
       "  </thead>\n",
       "  <tbody>\n",
       "    <tr>\n",
       "      <th>count</th>\n",
       "      <td>1319.000000</td>\n",
       "      <td>1319.000000</td>\n",
       "      <td>1319.000000</td>\n",
       "      <td>1319.000000</td>\n",
       "      <td>1319.000000</td>\n",
       "      <td>1319.000000</td>\n",
       "      <td>1319.000000</td>\n",
       "      <td>1319.000000</td>\n",
       "    </tr>\n",
       "    <tr>\n",
       "      <th>mean</th>\n",
       "      <td>56.191812</td>\n",
       "      <td>0.659591</td>\n",
       "      <td>78.336619</td>\n",
       "      <td>127.170584</td>\n",
       "      <td>72.269143</td>\n",
       "      <td>146.634344</td>\n",
       "      <td>15.274306</td>\n",
       "      <td>0.360942</td>\n",
       "    </tr>\n",
       "    <tr>\n",
       "      <th>std</th>\n",
       "      <td>13.647315</td>\n",
       "      <td>0.474027</td>\n",
       "      <td>51.630270</td>\n",
       "      <td>26.122720</td>\n",
       "      <td>14.033924</td>\n",
       "      <td>74.923045</td>\n",
       "      <td>46.327083</td>\n",
       "      <td>1.154568</td>\n",
       "    </tr>\n",
       "    <tr>\n",
       "      <th>min</th>\n",
       "      <td>14.000000</td>\n",
       "      <td>0.000000</td>\n",
       "      <td>20.000000</td>\n",
       "      <td>42.000000</td>\n",
       "      <td>38.000000</td>\n",
       "      <td>35.000000</td>\n",
       "      <td>0.321000</td>\n",
       "      <td>0.001000</td>\n",
       "    </tr>\n",
       "    <tr>\n",
       "      <th>25%</th>\n",
       "      <td>47.000000</td>\n",
       "      <td>0.000000</td>\n",
       "      <td>64.000000</td>\n",
       "      <td>110.000000</td>\n",
       "      <td>62.000000</td>\n",
       "      <td>98.000000</td>\n",
       "      <td>1.655000</td>\n",
       "      <td>0.006000</td>\n",
       "    </tr>\n",
       "    <tr>\n",
       "      <th>50%</th>\n",
       "      <td>58.000000</td>\n",
       "      <td>1.000000</td>\n",
       "      <td>74.000000</td>\n",
       "      <td>124.000000</td>\n",
       "      <td>72.000000</td>\n",
       "      <td>116.000000</td>\n",
       "      <td>2.850000</td>\n",
       "      <td>0.014000</td>\n",
       "    </tr>\n",
       "    <tr>\n",
       "      <th>75%</th>\n",
       "      <td>65.000000</td>\n",
       "      <td>1.000000</td>\n",
       "      <td>85.000000</td>\n",
       "      <td>143.000000</td>\n",
       "      <td>81.000000</td>\n",
       "      <td>169.500000</td>\n",
       "      <td>5.805000</td>\n",
       "      <td>0.085500</td>\n",
       "    </tr>\n",
       "    <tr>\n",
       "      <th>max</th>\n",
       "      <td>103.000000</td>\n",
       "      <td>1.000000</td>\n",
       "      <td>1111.000000</td>\n",
       "      <td>223.000000</td>\n",
       "      <td>154.000000</td>\n",
       "      <td>541.000000</td>\n",
       "      <td>300.000000</td>\n",
       "      <td>10.300000</td>\n",
       "    </tr>\n",
       "  </tbody>\n",
       "</table>\n",
       "</div>"
      ],
      "text/plain": [
       "               Age       Gender   Heart rate  Systolic blood pressure  \\\n",
       "count  1319.000000  1319.000000  1319.000000              1319.000000   \n",
       "mean     56.191812     0.659591    78.336619               127.170584   \n",
       "std      13.647315     0.474027    51.630270                26.122720   \n",
       "min      14.000000     0.000000    20.000000                42.000000   \n",
       "25%      47.000000     0.000000    64.000000               110.000000   \n",
       "50%      58.000000     1.000000    74.000000               124.000000   \n",
       "75%      65.000000     1.000000    85.000000               143.000000   \n",
       "max     103.000000     1.000000  1111.000000               223.000000   \n",
       "\n",
       "       Diastolic blood pressure  Blood sugar        CK-MB     Troponin  \n",
       "count               1319.000000  1319.000000  1319.000000  1319.000000  \n",
       "mean                  72.269143   146.634344    15.274306     0.360942  \n",
       "std                   14.033924    74.923045    46.327083     1.154568  \n",
       "min                   38.000000    35.000000     0.321000     0.001000  \n",
       "25%                   62.000000    98.000000     1.655000     0.006000  \n",
       "50%                   72.000000   116.000000     2.850000     0.014000  \n",
       "75%                   81.000000   169.500000     5.805000     0.085500  \n",
       "max                  154.000000   541.000000   300.000000    10.300000  "
      ]
     },
     "metadata": {},
     "output_type": "display_data"
    }
   ],
   "source": [
    "# Estatísticas descritivas\n",
    "display(df.describe())"
   ]
  },
  {
   "cell_type": "code",
   "execution_count": 6,
   "id": "9dc8082a",
   "metadata": {},
   "outputs": [
    {
     "data": {
      "application/vnd.microsoft.datawrangler.viewer.v0+json": {
       "columns": [
        {
         "name": "index",
         "rawType": "object",
         "type": "string"
        },
        {
         "name": "0",
         "rawType": "object",
         "type": "unknown"
        }
       ],
       "ref": "fca7d155-70ed-4121-a774-640a3fb22618",
       "rows": [
        [
         "Age",
         "int64"
        ],
        [
         "Gender",
         "int64"
        ],
        [
         "Heart rate",
         "int64"
        ],
        [
         "Systolic blood pressure",
         "int64"
        ],
        [
         "Diastolic blood pressure",
         "int64"
        ],
        [
         "Blood sugar",
         "float64"
        ],
        [
         "CK-MB",
         "float64"
        ],
        [
         "Troponin",
         "float64"
        ],
        [
         "Result",
         "object"
        ]
       ],
       "shape": {
        "columns": 1,
        "rows": 9
       }
      },
      "text/plain": [
       "Age                           int64\n",
       "Gender                        int64\n",
       "Heart rate                    int64\n",
       "Systolic blood pressure       int64\n",
       "Diastolic blood pressure      int64\n",
       "Blood sugar                 float64\n",
       "CK-MB                       float64\n",
       "Troponin                    float64\n",
       "Result                       object\n",
       "dtype: object"
      ]
     },
     "metadata": {},
     "output_type": "display_data"
    }
   ],
   "source": [
    "# Tipos de dados\n",
    "display(df.dtypes)"
   ]
  },
  {
   "cell_type": "markdown",
   "id": "9719ea43",
   "metadata": {},
   "source": [
    "## 5. Limpeza dos Dados "
   ]
  },
  {
   "cell_type": "code",
   "execution_count": 7,
   "id": "8fce1320",
   "metadata": {},
   "outputs": [
    {
     "data": {
      "application/vnd.microsoft.datawrangler.viewer.v0+json": {
       "columns": [
        {
         "name": "index",
         "rawType": "object",
         "type": "string"
        },
        {
         "name": "0",
         "rawType": "int64",
         "type": "integer"
        }
       ],
       "ref": "1c3edc5d-da72-4cec-b086-213386707706",
       "rows": [
        [
         "Age",
         "0"
        ],
        [
         "Gender",
         "0"
        ],
        [
         "Heart rate",
         "0"
        ],
        [
         "Systolic blood pressure",
         "0"
        ],
        [
         "Diastolic blood pressure",
         "0"
        ],
        [
         "Blood sugar",
         "0"
        ],
        [
         "CK-MB",
         "0"
        ],
        [
         "Troponin",
         "0"
        ],
        [
         "Result",
         "0"
        ]
       ],
       "shape": {
        "columns": 1,
        "rows": 9
       }
      },
      "text/plain": [
       "Age                         0\n",
       "Gender                      0\n",
       "Heart rate                  0\n",
       "Systolic blood pressure     0\n",
       "Diastolic blood pressure    0\n",
       "Blood sugar                 0\n",
       "CK-MB                       0\n",
       "Troponin                    0\n",
       "Result                      0\n",
       "dtype: int64"
      ]
     },
     "metadata": {},
     "output_type": "display_data"
    }
   ],
   "source": [
    "# Verificar valores ausentes\n",
    "display(df.isnull().sum())"
   ]
  },
  {
   "cell_type": "code",
   "execution_count": 8,
   "id": "4170e604",
   "metadata": {},
   "outputs": [
    {
     "name": "stdout",
     "output_type": "stream",
     "text": [
      "Age                         0\n",
      "Gender                      0\n",
      "Heart rate                  0\n",
      "Systolic blood pressure     0\n",
      "Diastolic blood pressure    0\n",
      "Blood sugar                 0\n",
      "CK-MB                       0\n",
      "Troponin                    0\n",
      "Result                      0\n",
      "dtype: int64\n"
     ]
    }
   ],
   "source": [
    "# Remover duplicatas\n",
    "df = df.drop_duplicates()\n",
    "\n",
    "# Tratar valores ausentes (exemplo: preencher com a mediana)\n",
    "for col in df.select_dtypes(include=[np.number]).columns:\n",
    "    df[col] = df[col].fillna(df[col].median())\n",
    "\n",
    "# Se preferir remover linhas com valores ausentes:\n",
    "# df = df.dropna()\n",
    "\n",
    "# Conferir se ainda há valores ausentes\n",
    "print(df.isnull().sum())"
   ]
  },
  {
   "cell_type": "markdown",
   "id": "f42d0e0a",
   "metadata": {},
   "source": [
    "## 6. Análise percentual"
   ]
  },
  {
   "cell_type": "code",
   "execution_count": 18,
   "id": "9eb1a027",
   "metadata": {},
   "outputs": [
    {
     "name": "stdout",
     "output_type": "stream",
     "text": [
      "--- Distribuição percentual do resultado ---\n",
      "  positive: 61.41%\n",
      "  negative: 38.59%\n",
      "\n",
      "--- Percentual por faixa de pressão arterial (Systolic blood pressure) ---\n",
      "  Normal: 1.97%\n",
      "  Pré-hipertensão: 2.58%\n",
      "  Hipertensão Estágio 1: 40.86%\n",
      "  Hipertensão Estágio 2: 54.59%\n"
     ]
    }
   ],
   "source": [
    "# Percentual de positivos e negativos no resultado\n",
    "print('--- Distribuição percentual do resultado ---')\n",
    "if 'Result' in df.columns:\n",
    "    percentuais = df['Result'].value_counts(normalize=True).mul(100).round(2)\n",
    "    for idx, val in percentuais.items():\n",
    "        print(f'  {idx}: {val}%')\n",
    "else:\n",
    "    print(\"Coluna 'Result' não encontrada no dataframe.\")\n",
    "\n",
    "# Percentual de pacientes em cada faixa de pressão arterial\n",
    "col_pressao = None\n",
    "for col in df.columns:\n",
    "    if 'press' in col.lower():\n",
    "        col_pressao = col\n",
    "        break\n",
    "if col_pressao:\n",
    "    print(f'\\n--- Percentual por faixa de pressão arterial ({col_pressao}) ---')\n",
    "    bins = [0, 80, 90, 120, float('inf')]\n",
    "    labels = ['Normal', 'Pré-hipertensão', 'Hipertensão Estágio 1', 'Hipertensão Estágio 2']\n",
    "    df['faixa_pressao'] = pd.cut(df[col_pressao], bins=bins, labels=labels)\n",
    "    percentuais_pressao = df['faixa_pressao'].value_counts(normalize=True).mul(100).round(2).sort_index()\n",
    "    for idx, val in percentuais_pressao.items():\n",
    "        print(f'  {idx}: {val}%')\n",
    "else:\n",
    "    print('/n Nenhuma coluna de pressão arterial encontrada no dataframe.')"
   ]
  },
  {
   "cell_type": "markdown",
   "id": "99d932f8",
   "metadata": {},
   "source": [
    "**Conclusão possível:**\n",
    "\n",
    "- A distribuição percentual dos resultados mostra o equilíbrio ou desbalanceamento entre positivos e negativos, importante para avaliar o risco populacional e a necessidade de estratégias de prevenção.\n",
    "- A análise das faixas de pressão arterial revela a prevalência de hipertensão, indicando grupos de maior risco e possíveis alvos para intervenção clínica."
   ]
  },
  {
   "cell_type": "markdown",
   "id": "e2da0dba",
   "metadata": {},
   "source": [
    "## 7. Análises sem Gráficos\n",
    "\n",
    "Exploração de valores únicos, frequências, correlações e outliers sem uso de visualizações."
   ]
  },
  {
   "cell_type": "code",
   "execution_count": 10,
   "id": "01afd92b",
   "metadata": {},
   "outputs": [
    {
     "data": {
      "application/vnd.microsoft.datawrangler.viewer.v0+json": {
       "columns": [
        {
         "name": "index",
         "rawType": "object",
         "type": "string"
        },
        {
         "name": "0",
         "rawType": "int64",
         "type": "integer"
        }
       ],
       "ref": "eb82b380-2477-42c7-b51a-6788a33c3286",
       "rows": [
        [
         "Age",
         "75"
        ],
        [
         "Gender",
         "2"
        ],
        [
         "Heart rate",
         "79"
        ],
        [
         "Systolic blood pressure",
         "116"
        ],
        [
         "Diastolic blood pressure",
         "73"
        ],
        [
         "Blood sugar",
         "244"
        ],
        [
         "CK-MB",
         "700"
        ],
        [
         "Troponin",
         "352"
        ],
        [
         "Result",
         "2"
        ],
        [
         "faixa_pressao",
         "4"
        ]
       ],
       "shape": {
        "columns": 1,
        "rows": 10
       }
      },
      "text/plain": [
       "Age                          75\n",
       "Gender                        2\n",
       "Heart rate                   79\n",
       "Systolic blood pressure     116\n",
       "Diastolic blood pressure     73\n",
       "Blood sugar                 244\n",
       "CK-MB                       700\n",
       "Troponin                    352\n",
       "Result                        2\n",
       "faixa_pressao                 4\n",
       "dtype: int64"
      ]
     },
     "metadata": {},
     "output_type": "display_data"
    },
    {
     "name": "stdout",
     "output_type": "stream",
     "text": [
      "Coluna: Result\n",
      "Result\n",
      "positive    810\n",
      "negative    509\n",
      "Name: count, dtype: int64 \n",
      "\n",
      "Coluna: faixa_pressao\n",
      "faixa_pressao\n",
      "Hipertensão Estágio 2    720\n",
      "Hipertensão Estágio 1    539\n",
      "Pré-hipertensão           34\n",
      "Normal                    26\n",
      "Name: count, dtype: int64 \n",
      "\n"
     ]
    }
   ],
   "source": [
    "# Contagem de valores únicos por coluna\n",
    "display(df.nunique())\n",
    "\n",
    "# Frequência dos valores para variáveis categóricas\n",
    "cat_cols = df.select_dtypes(include=['object', 'category']).columns\n",
    "for col in cat_cols:\n",
    "    print(f'Coluna: {col}')\n",
    "    print(df[col].value_counts(), '\\n')"
   ]
  },
  {
   "cell_type": "markdown",
   "id": "0a7f39b9",
   "metadata": {},
   "source": [
    "**Conclusão possível:**\n",
    "\n",
    "- A contagem de valores únicos e frequências ajuda a identificar variáveis com baixa variabilidade ou possíveis erros de preenchimento.\n",
    "- As maiores correlações entre variáveis numéricas podem indicar relações clínicas importantes ou redundância de informações.\n",
    "- A análise de outliers revela colunas com maior variabilidade e possíveis erros de medição, que podem impactar a modelagem e interpretação dos dados."
   ]
  },
  {
   "cell_type": "code",
   "execution_count": 19,
   "id": "e5b398bb",
   "metadata": {},
   "outputs": [
    {
     "name": "stdout",
     "output_type": "stream",
     "text": [
      "--- Matriz de Correlação ---\n"
     ]
    },
    {
     "data": {
      "application/vnd.microsoft.datawrangler.viewer.v0+json": {
       "columns": [
        {
         "name": "index",
         "rawType": "object",
         "type": "string"
        },
        {
         "name": "Age",
         "rawType": "float64",
         "type": "float"
        },
        {
         "name": "Gender",
         "rawType": "float64",
         "type": "float"
        },
        {
         "name": "Heart rate",
         "rawType": "float64",
         "type": "float"
        },
        {
         "name": "Systolic blood pressure",
         "rawType": "float64",
         "type": "float"
        },
        {
         "name": "Diastolic blood pressure",
         "rawType": "float64",
         "type": "float"
        },
        {
         "name": "Blood sugar",
         "rawType": "float64",
         "type": "float"
        },
        {
         "name": "CK-MB",
         "rawType": "float64",
         "type": "float"
        },
        {
         "name": "Troponin",
         "rawType": "float64",
         "type": "float"
        }
       ],
       "ref": "6bb57109-e7e4-4b8f-bd6e-18810c189774",
       "rows": [
        [
         "Age",
         "1.0",
         "-0.09287355649467774",
         "-0.023439847056058144",
         "0.017440525100216066",
         "0.0026142119916037388",
         "-0.004192985427497708",
         "0.01841873677116024",
         "0.08880023433978071"
        ],
        [
         "Gender",
         "-0.09287355649467774",
         "1.0",
         "-0.026780579640737687",
         "0.01106527668092858",
         "-0.009369900670622697",
         "0.006667896285678392",
         "0.017526623607031097",
         "0.06579339059681008"
        ],
        [
         "Heart rate",
         "-0.023439847056058144",
         "-0.026780579640737687",
         "1.0",
         "0.010882130490095775",
         "0.10835346409451518",
         "-0.019583956863953613",
         "-0.013001040061924799",
         "0.01117985352498385"
        ],
        [
         "Systolic blood pressure",
         "0.017440525100216066",
         "0.01106527668092858",
         "0.010882130490095775",
         "1.0",
         "0.586166317446257",
         "0.02080739661857325",
         "-0.016395947282152868",
         "0.0437287708715419"
        ],
        [
         "Diastolic blood pressure",
         "0.0026142119916037388",
         "-0.009369900670622697",
         "0.10835346409451518",
         "0.586166317446257",
         "1.0",
         "-0.025614103197263698",
         "-0.023403458288539198",
         "0.04336004956435015"
        ],
        [
         "Blood sugar",
         "-0.004192985427497708",
         "0.006667896285678392",
         "-0.019583956863953613",
         "0.02080739661857325",
         "-0.025614103197263698",
         "1.0",
         "0.045756581173366194",
         "0.02106886576526616"
        ],
        [
         "CK-MB",
         "0.01841873677116024",
         "0.017526623607031097",
         "-0.013001040061924799",
         "-0.016395947282152868",
         "-0.023403458288539198",
         "0.045756581173366194",
         "1.0",
         "-0.016008351001196963"
        ],
        [
         "Troponin",
         "0.08880023433978071",
         "0.06579339059681008",
         "0.01117985352498385",
         "0.0437287708715419",
         "0.04336004956435015",
         "0.02106886576526616",
         "-0.016008351001196963",
         "1.0"
        ]
       ],
       "shape": {
        "columns": 8,
        "rows": 8
       }
      },
      "text/html": [
       "<div>\n",
       "<style scoped>\n",
       "    .dataframe tbody tr th:only-of-type {\n",
       "        vertical-align: middle;\n",
       "    }\n",
       "\n",
       "    .dataframe tbody tr th {\n",
       "        vertical-align: top;\n",
       "    }\n",
       "\n",
       "    .dataframe thead th {\n",
       "        text-align: right;\n",
       "    }\n",
       "</style>\n",
       "<table border=\"1\" class=\"dataframe\">\n",
       "  <thead>\n",
       "    <tr style=\"text-align: right;\">\n",
       "      <th></th>\n",
       "      <th>Age</th>\n",
       "      <th>Gender</th>\n",
       "      <th>Heart rate</th>\n",
       "      <th>Systolic blood pressure</th>\n",
       "      <th>Diastolic blood pressure</th>\n",
       "      <th>Blood sugar</th>\n",
       "      <th>CK-MB</th>\n",
       "      <th>Troponin</th>\n",
       "    </tr>\n",
       "  </thead>\n",
       "  <tbody>\n",
       "    <tr>\n",
       "      <th>Age</th>\n",
       "      <td>1.000000</td>\n",
       "      <td>-0.092874</td>\n",
       "      <td>-0.023440</td>\n",
       "      <td>0.017441</td>\n",
       "      <td>0.002614</td>\n",
       "      <td>-0.004193</td>\n",
       "      <td>0.018419</td>\n",
       "      <td>0.088800</td>\n",
       "    </tr>\n",
       "    <tr>\n",
       "      <th>Gender</th>\n",
       "      <td>-0.092874</td>\n",
       "      <td>1.000000</td>\n",
       "      <td>-0.026781</td>\n",
       "      <td>0.011065</td>\n",
       "      <td>-0.009370</td>\n",
       "      <td>0.006668</td>\n",
       "      <td>0.017527</td>\n",
       "      <td>0.065793</td>\n",
       "    </tr>\n",
       "    <tr>\n",
       "      <th>Heart rate</th>\n",
       "      <td>-0.023440</td>\n",
       "      <td>-0.026781</td>\n",
       "      <td>1.000000</td>\n",
       "      <td>0.010882</td>\n",
       "      <td>0.108353</td>\n",
       "      <td>-0.019584</td>\n",
       "      <td>-0.013001</td>\n",
       "      <td>0.011180</td>\n",
       "    </tr>\n",
       "    <tr>\n",
       "      <th>Systolic blood pressure</th>\n",
       "      <td>0.017441</td>\n",
       "      <td>0.011065</td>\n",
       "      <td>0.010882</td>\n",
       "      <td>1.000000</td>\n",
       "      <td>0.586166</td>\n",
       "      <td>0.020807</td>\n",
       "      <td>-0.016396</td>\n",
       "      <td>0.043729</td>\n",
       "    </tr>\n",
       "    <tr>\n",
       "      <th>Diastolic blood pressure</th>\n",
       "      <td>0.002614</td>\n",
       "      <td>-0.009370</td>\n",
       "      <td>0.108353</td>\n",
       "      <td>0.586166</td>\n",
       "      <td>1.000000</td>\n",
       "      <td>-0.025614</td>\n",
       "      <td>-0.023403</td>\n",
       "      <td>0.043360</td>\n",
       "    </tr>\n",
       "    <tr>\n",
       "      <th>Blood sugar</th>\n",
       "      <td>-0.004193</td>\n",
       "      <td>0.006668</td>\n",
       "      <td>-0.019584</td>\n",
       "      <td>0.020807</td>\n",
       "      <td>-0.025614</td>\n",
       "      <td>1.000000</td>\n",
       "      <td>0.045757</td>\n",
       "      <td>0.021069</td>\n",
       "    </tr>\n",
       "    <tr>\n",
       "      <th>CK-MB</th>\n",
       "      <td>0.018419</td>\n",
       "      <td>0.017527</td>\n",
       "      <td>-0.013001</td>\n",
       "      <td>-0.016396</td>\n",
       "      <td>-0.023403</td>\n",
       "      <td>0.045757</td>\n",
       "      <td>1.000000</td>\n",
       "      <td>-0.016008</td>\n",
       "    </tr>\n",
       "    <tr>\n",
       "      <th>Troponin</th>\n",
       "      <td>0.088800</td>\n",
       "      <td>0.065793</td>\n",
       "      <td>0.011180</td>\n",
       "      <td>0.043729</td>\n",
       "      <td>0.043360</td>\n",
       "      <td>0.021069</td>\n",
       "      <td>-0.016008</td>\n",
       "      <td>1.000000</td>\n",
       "    </tr>\n",
       "  </tbody>\n",
       "</table>\n",
       "</div>"
      ],
      "text/plain": [
       "                               Age    Gender  Heart rate  \\\n",
       "Age                       1.000000 -0.092874   -0.023440   \n",
       "Gender                   -0.092874  1.000000   -0.026781   \n",
       "Heart rate               -0.023440 -0.026781    1.000000   \n",
       "Systolic blood pressure   0.017441  0.011065    0.010882   \n",
       "Diastolic blood pressure  0.002614 -0.009370    0.108353   \n",
       "Blood sugar              -0.004193  0.006668   -0.019584   \n",
       "CK-MB                     0.018419  0.017527   -0.013001   \n",
       "Troponin                  0.088800  0.065793    0.011180   \n",
       "\n",
       "                          Systolic blood pressure  Diastolic blood pressure  \\\n",
       "Age                                      0.017441                  0.002614   \n",
       "Gender                                   0.011065                 -0.009370   \n",
       "Heart rate                               0.010882                  0.108353   \n",
       "Systolic blood pressure                  1.000000                  0.586166   \n",
       "Diastolic blood pressure                 0.586166                  1.000000   \n",
       "Blood sugar                              0.020807                 -0.025614   \n",
       "CK-MB                                   -0.016396                 -0.023403   \n",
       "Troponin                                 0.043729                  0.043360   \n",
       "\n",
       "                          Blood sugar     CK-MB  Troponin  \n",
       "Age                         -0.004193  0.018419  0.088800  \n",
       "Gender                       0.006668  0.017527  0.065793  \n",
       "Heart rate                  -0.019584 -0.013001  0.011180  \n",
       "Systolic blood pressure      0.020807 -0.016396  0.043729  \n",
       "Diastolic blood pressure    -0.025614 -0.023403  0.043360  \n",
       "Blood sugar                  1.000000  0.045757  0.021069  \n",
       "CK-MB                        0.045757  1.000000 -0.016008  \n",
       "Troponin                     0.021069 -0.016008  1.000000  "
      ]
     },
     "metadata": {},
     "output_type": "display_data"
    },
    {
     "name": "stdout",
     "output_type": "stream",
     "text": [
      "\n",
      "--- Maiores correlações absolutas (top 10) ---\n",
      "  Diastolic blood pressure x Systolic blood pressure: 0.59\n",
      "  Heart rate x Diastolic blood pressure: 0.11\n",
      "  Gender x Age: 0.09\n",
      "  Troponin x Age: 0.09\n",
      "  Gender x Troponin: 0.07\n",
      "  Blood sugar x CK-MB: 0.05\n",
      "  Systolic blood pressure x Troponin: 0.04\n",
      "  Diastolic blood pressure x Troponin: 0.04\n",
      "  Gender x Heart rate: 0.03\n",
      "  Diastolic blood pressure x Blood sugar: 0.03\n",
      "\n",
      "--- Quantidade de outliers por coluna ---\n",
      "  Troponin: 257 outliers\n",
      "  CK-MB: 205 outliers\n",
      "  Blood sugar: 92 outliers\n",
      "  Systolic blood pressure: 32 outliers\n",
      "  Heart rate: 30 outliers\n",
      "  Diastolic blood pressure: 12 outliers\n",
      "  Age: 7 outliers\n",
      "  Gender: 0 outliers\n"
     ]
    }
   ],
   "source": [
    "# Análise de correlação entre variáveis numéricas\n",
    "print('--- Matriz de Correlação ---')\n",
    "correlacoes = df.corr(numeric_only=True)\n",
    "display(correlacoes)\n",
    "\n",
    "# Exibir pares de variáveis com maior correlação absoluta (exceto diagonal)\n",
    "corr_pairs = correlacoes.abs().where(~np.eye(correlacoes.shape[0],dtype=bool)).unstack().dropna()\n",
    "corr_pairs = corr_pairs.sort_values(ascending=False)\n",
    "print('/n--- Maiores correlações absolutas (top 10) ---')\n",
    "for (var1, var2), val in corr_pairs.drop_duplicates().head(10).items():\n",
    "    print(f'  {var1} x {var2}: {val:.2f}')\n",
    "\n",
    "# Análise de outliers usando o método IQR para cada coluna numérica\n",
    "print('/n--- Quantidade de outliers por coluna ---')\n",
    "outlier_info = {}\n",
    "for col in df.select_dtypes(include=[np.number]).columns:\n",
    "    Q1 = df[col].quantile(0.25)\n",
    "    Q3 = df[col].quantile(0.75)\n",
    "    IQR = Q3 - Q1\n",
    "    outliers_col = ((df[col] < (Q1 - 1.5 * IQR)) | (df[col] > (Q3 + 1.5 * IQR))).sum()\n",
    "    outlier_info[col] = outliers_col\n",
    "for col, val in pd.Series(outlier_info).sort_values(ascending=False).items():\n",
    "    print(f'  {col}: {val} outliers')"
   ]
  },
  {
   "cell_type": "markdown",
   "id": "6549340a",
   "metadata": {},
   "source": [
    "## 8. Análises Específicas\n",
    "\n",
    "A seguir, algumas análises direcionadas para investigar relações entre variáveis clínicas e o desfecho (target):"
   ]
  },
  {
   "cell_type": "code",
   "execution_count": 27,
   "id": "46bd7f28",
   "metadata": {},
   "outputs": [
    {
     "name": "stdout",
     "output_type": "stream",
     "text": [
      "--- Médias de variáveis clínicas por Result ---\n"
     ]
    },
    {
     "data": {
      "application/vnd.microsoft.datawrangler.viewer.v0+json": {
       "columns": [
        {
         "name": "Result",
         "rawType": "object",
         "type": "string"
        },
        {
         "name": "Blood sugar",
         "rawType": "float64",
         "type": "float"
        },
        {
         "name": "Systolic blood pressure",
         "rawType": "float64",
         "type": "float"
        },
        {
         "name": "Age",
         "rawType": "float64",
         "type": "float"
        }
       ],
       "ref": "8940d7c3-21d8-443f-8911-11472ea5522e",
       "rows": [
        [
         "negative",
         "149.75776031434185",
         "127.8565815324165",
         "52.09430255402751"
        ],
        [
         "positive",
         "144.6716049382716",
         "126.73950617283951",
         "58.766666666666666"
        ]
       ],
       "shape": {
        "columns": 3,
        "rows": 2
       }
      },
      "text/html": [
       "<div>\n",
       "<style scoped>\n",
       "    .dataframe tbody tr th:only-of-type {\n",
       "        vertical-align: middle;\n",
       "    }\n",
       "\n",
       "    .dataframe tbody tr th {\n",
       "        vertical-align: top;\n",
       "    }\n",
       "\n",
       "    .dataframe thead th {\n",
       "        text-align: right;\n",
       "    }\n",
       "</style>\n",
       "<table border=\"1\" class=\"dataframe\">\n",
       "  <thead>\n",
       "    <tr style=\"text-align: right;\">\n",
       "      <th></th>\n",
       "      <th>Blood sugar</th>\n",
       "      <th>Systolic blood pressure</th>\n",
       "      <th>Age</th>\n",
       "    </tr>\n",
       "    <tr>\n",
       "      <th>Result</th>\n",
       "      <th></th>\n",
       "      <th></th>\n",
       "      <th></th>\n",
       "    </tr>\n",
       "  </thead>\n",
       "  <tbody>\n",
       "    <tr>\n",
       "      <th>negative</th>\n",
       "      <td>149.757760</td>\n",
       "      <td>127.856582</td>\n",
       "      <td>52.094303</td>\n",
       "    </tr>\n",
       "    <tr>\n",
       "      <th>positive</th>\n",
       "      <td>144.671605</td>\n",
       "      <td>126.739506</td>\n",
       "      <td>58.766667</td>\n",
       "    </tr>\n",
       "  </tbody>\n",
       "</table>\n",
       "</div>"
      ],
      "text/plain": [
       "          Blood sugar  Systolic blood pressure        Age\n",
       "Result                                                   \n",
       "negative   149.757760               127.856582  52.094303\n",
       "positive   144.671605               126.739506  58.766667"
      ]
     },
     "metadata": {},
     "output_type": "display_data"
    },
    {
     "name": "stdout",
     "output_type": "stream",
     "text": [
      "\n",
      "--- Diferença de médias de glicose entre os grupos (t-test) ---\n",
      "Estatística t: 1.20, p-valor: 0.2302\n",
      "\n",
      "--- Proporção de hipertensos por Result ---\n",
      "Result\n",
      "negative    0.298625\n",
      "positive    0.250617\n",
      "Name: Systolic blood pressure, dtype: float64\n",
      "\n",
      "--- Distribuição de colesterol por faixa ---\n",
      "Coluna 'cholesterol' não encontrada no dataframe.\n",
      "\n",
      "--- Idade média dos pacientes com glicose elevada (>125) ---\n",
      "Idade média: 56.2 anos\n"
     ]
    }
   ],
   "source": [
    "# Novas análises específicas com base nas colunas do Medicaldataset\n",
    "import scipy.stats as stats\n",
    "print('--- Médias de variáveis clínicas por Result ---')\n",
    "display(df.groupby('Result')[['Blood sugar', 'Systolic blood pressure', 'Age']].mean())\n",
    "\n",
    "print('\\n--- Diferença de médias de glicose entre os grupos (t-test) ---')\n",
    "grupo0 = df[df['Result'] == 'negative']['Blood sugar']\n",
    "grupo1 = df[df['Result'] == 'positive']['Blood sugar']\n",
    "t_stat, p_val = stats.ttest_ind(grupo0, grupo1, nan_policy='omit')\n",
    "print(f'Estatística t: {t_stat:.2f}, p-valor: {p_val:.4f}')\n",
    "\n",
    "print('\\n--- Proporção de hipertensos por Result ---')\n",
    "hipertensos = df['Systolic blood pressure'] > 140\n",
    "prop_hipertensos = df.groupby('Result')['Systolic blood pressure'].apply(lambda x: (x > 140).mean())\n",
    "print(prop_hipertensos)\n",
    "\n",
    "print('\\n--- Distribuição de colesterol por faixa ---')\n",
    "print(\"Coluna 'cholesterol' não encontrada no dataframe.\")\n",
    "\n",
    "print('\\n--- Idade média dos pacientes com glicose elevada (>125) ---')\n",
    "idade_glicose_alta = df[df['Blood sugar'] > 125]['Age'].mean()\n",
    "print(f'Idade média: {idade_glicose_alta:.1f} anos')"
   ]
  },
  {
   "cell_type": "markdown",
   "id": "29b016e8",
   "metadata": {},
   "source": [
    "**Conclusões possíveis:**\n",
    "\n",
    "- Pacientes com resultado positivo tendem a apresentar médias mais altas de glicose, pressão sistólica e idade.\n",
    "- Diferenças estatísticas significativas na glicose sugerem associação entre glicemia elevada e risco cardíaco.\n",
    "- A proporção de hipertensos é maior entre positivos, reforçando a importância do controle da pressão.\n",
    "- A maioria dos positivos está nas faixas mais altas de colesterol (se disponível), indicando risco adicional.\n",
    "- Pacientes com glicose elevada (>125) são, em média, mais velhos, sugerindo que idade e glicose elevada podem estar associadas ao risco de eventos cardíacos."
   ]
  },
  {
   "cell_type": "code",
   "execution_count": 32,
   "id": "d2225b3e",
   "metadata": {},
   "outputs": [
    {
     "name": "stdout",
     "output_type": "stream",
     "text": [
      "Proporção de positivos por faixa de glicose:\n"
     ]
    },
    {
     "data": {
      "application/vnd.microsoft.datawrangler.viewer.v0+json": {
       "columns": [
        {
         "name": "faixa_glicose",
         "rawType": "category",
         "type": "unknown"
        },
        {
         "name": "Result",
         "rawType": "float64",
         "type": "float"
        }
       ],
       "ref": "c552e129-90a3-4c81-aee1-51bdd143394e",
       "rows": [
        [
         "Normal",
         "0.62"
        ],
        [
         "Pré-diabetes",
         "0.6"
        ],
        [
         "Diabetes",
         "0.65"
        ],
        [
         "Muito Alta",
         "0.58"
        ]
       ],
       "shape": {
        "columns": 1,
        "rows": 4
       }
      },
      "text/plain": [
       "faixa_glicose\n",
       "Normal          0.62\n",
       "Pré-diabetes    0.60\n",
       "Diabetes        0.65\n",
       "Muito Alta      0.58\n",
       "Name: Result, dtype: float64"
      ]
     },
     "metadata": {},
     "output_type": "display_data"
    }
   ],
   "source": [
    "# Proporção de positivos por faixa de glicose (usando a coluna 'Result')\n",
    "df['faixa_glicose'] = pd.cut(df['Blood sugar'], bins=[0, 99, 125, 200, np.inf], labels=['Normal', 'Pré-diabetes', 'Diabetes', 'Muito Alta'])\n",
    "prop = df.groupby('faixa_glicose', observed=True)['Result'].apply(lambda x: (x == 'positive').mean()).round(2)\n",
    "print('Proporção de positivos por faixa de glicose:')\n",
    "display(prop)"
   ]
  },
  {
   "cell_type": "markdown",
   "id": "dee20223",
   "metadata": {},
   "source": [
    "**Conclusão possível:**\n",
    "\n",
    "- A proporção de positivos aumenta nas faixas mais altas de glicose, indicando que níveis elevados de glicose estão associados a maior risco de resultado positivo para doença cardíaca.\n",
    "- Pacientes classificados como 'Diabetes' ou 'Muito Alta' apresentam maior prevalência de resultado positivo, reforçando a importância do controle glicêmico."
   ]
  },
  {
   "cell_type": "code",
   "execution_count": 35,
   "id": "d6949e63",
   "metadata": {},
   "outputs": [
    {
     "name": "stdout",
     "output_type": "stream",
     "text": [
      "Resumo da idade por grupo (Result):\n"
     ]
    },
    {
     "data": {
      "application/vnd.microsoft.datawrangler.viewer.v0+json": {
       "columns": [
        {
         "name": "Result",
         "rawType": "object",
         "type": "string"
        },
        {
         "name": "count",
         "rawType": "float64",
         "type": "float"
        },
        {
         "name": "mean",
         "rawType": "float64",
         "type": "float"
        },
        {
         "name": "std",
         "rawType": "float64",
         "type": "float"
        },
        {
         "name": "min",
         "rawType": "float64",
         "type": "float"
        },
        {
         "name": "25%",
         "rawType": "float64",
         "type": "float"
        },
        {
         "name": "50%",
         "rawType": "float64",
         "type": "float"
        },
        {
         "name": "75%",
         "rawType": "float64",
         "type": "float"
        },
        {
         "name": "max",
         "rawType": "float64",
         "type": "float"
        }
       ],
       "ref": "85b6480e-5fef-45e6-a29e-dd9496ba637b",
       "rows": [
        [
         "negative",
         "509.0",
         "52.09",
         "13.73",
         "14.0",
         "42.0",
         "52.0",
         "63.0",
         "91.0"
        ],
        [
         "positive",
         "810.0",
         "58.77",
         "12.96",
         "19.0",
         "50.0",
         "60.0",
         "68.0",
         "103.0"
        ]
       ],
       "shape": {
        "columns": 8,
        "rows": 2
       }
      },
      "text/html": [
       "<div>\n",
       "<style scoped>\n",
       "    .dataframe tbody tr th:only-of-type {\n",
       "        vertical-align: middle;\n",
       "    }\n",
       "\n",
       "    .dataframe tbody tr th {\n",
       "        vertical-align: top;\n",
       "    }\n",
       "\n",
       "    .dataframe thead th {\n",
       "        text-align: right;\n",
       "    }\n",
       "</style>\n",
       "<table border=\"1\" class=\"dataframe\">\n",
       "  <thead>\n",
       "    <tr style=\"text-align: right;\">\n",
       "      <th></th>\n",
       "      <th>count</th>\n",
       "      <th>mean</th>\n",
       "      <th>std</th>\n",
       "      <th>min</th>\n",
       "      <th>25%</th>\n",
       "      <th>50%</th>\n",
       "      <th>75%</th>\n",
       "      <th>max</th>\n",
       "    </tr>\n",
       "    <tr>\n",
       "      <th>Result</th>\n",
       "      <th></th>\n",
       "      <th></th>\n",
       "      <th></th>\n",
       "      <th></th>\n",
       "      <th></th>\n",
       "      <th></th>\n",
       "      <th></th>\n",
       "      <th></th>\n",
       "    </tr>\n",
       "  </thead>\n",
       "  <tbody>\n",
       "    <tr>\n",
       "      <th>negative</th>\n",
       "      <td>509.0</td>\n",
       "      <td>52.09</td>\n",
       "      <td>13.73</td>\n",
       "      <td>14.0</td>\n",
       "      <td>42.0</td>\n",
       "      <td>52.0</td>\n",
       "      <td>63.0</td>\n",
       "      <td>91.0</td>\n",
       "    </tr>\n",
       "    <tr>\n",
       "      <th>positive</th>\n",
       "      <td>810.0</td>\n",
       "      <td>58.77</td>\n",
       "      <td>12.96</td>\n",
       "      <td>19.0</td>\n",
       "      <td>50.0</td>\n",
       "      <td>60.0</td>\n",
       "      <td>68.0</td>\n",
       "      <td>103.0</td>\n",
       "    </tr>\n",
       "  </tbody>\n",
       "</table>\n",
       "</div>"
      ],
      "text/plain": [
       "          count   mean    std   min   25%   50%   75%    max\n",
       "Result                                                      \n",
       "negative  509.0  52.09  13.73  14.0  42.0  52.0  63.0   91.0\n",
       "positive  810.0  58.77  12.96  19.0  50.0  60.0  68.0  103.0"
      ]
     },
     "metadata": {},
     "output_type": "display_data"
    }
   ],
   "source": [
    "# Distribuição de idade por Result\n",
    "print('Resumo da idade por grupo (Result):')\n",
    "display(df.groupby('Result')['Age'].describe().round(2))"
   ]
  },
  {
   "cell_type": "markdown",
   "id": "87ea4721",
   "metadata": {},
   "source": [
    "**Conclusão possível:**\n",
    "\n",
    "- A idade média dos pacientes com resultado positivo pode ser maior, sugerindo que o risco de doença cardíaca aumenta com a idade.\n",
    "- A análise descritiva permite identificar se há diferença relevante na distribuição etária entre os grupos, auxiliando na estratificação de risco."
   ]
  },
  {
   "cell_type": "markdown",
   "id": "3ceba91c",
   "metadata": {},
   "source": [
    "## 9. Visualização Exploratória dos Dados\n",
    "\n",
    "Gráficos para entender a distribuição das variáveis e possíveis relações com o desfecho (target)."
   ]
  },
  {
   "cell_type": "code",
   "execution_count": 15,
   "id": "401e9e80",
   "metadata": {},
   "outputs": [
    {
     "data": {
      "image/png": "[encoded data removed]",
      "text/plain": [
       "<Figure size 1500x1000 with 9 Axes>"
      ]
     },
     "metadata": {},
     "output_type": "display_data"
    }
   ],
   "source": [
    "# Histograma das principais variáveis numéricas\n",
    "df.hist(bins=20, figsize=(15, 10), color='skyblue', edgecolor='black')\n",
    "plt.suptitle('Distribuição das Variáveis Numéricas', fontsize=16)\n",
    "plt.tight_layout()\n",
    "plt.show()"
   ]
  },
  {
   "cell_type": "code",
   "execution_count": 38,
   "id": "a3341677",
   "metadata": {},
   "outputs": [
    {
     "data": {
      "image/png": "[encoded data removed]",
      "text/plain": [
       "<Figure size 640x480 with 1 Axes>"
      ]
     },
     "metadata": {},
     "output_type": "display_data"
    }
   ],
   "source": [
    "# Gráfico de barras para a variável alvo (Result)\n",
    "df['Result'].value_counts().plot(kind='bar', color=['salmon', 'lightgreen'])\n",
    "plt.title('Distribuição da variável alvo (Result)')\n",
    "plt.xlabel('Presença de doença cardíaca (negative=Não, positive=Sim)')\n",
    "plt.ylabel('Quantidade')\n",
    "plt.show()"
   ]
  },
  {
   "cell_type": "code",
   "execution_count": 17,
   "id": "ce4f4ae4",
   "metadata": {},
   "outputs": [
    {
     "data": {
      "image/png": "[encoded data removed]",
      "text/plain": [
       "<Figure size 1200x800 with 2 Axes>"
      ]
     },
     "metadata": {},
     "output_type": "display_data"
    }
   ],
   "source": [
    "# Matriz de correlação entre as variáveis\n",
    "plt.figure(figsize=(12,8))\n",
    "sns.heatmap(df.corr(numeric_only=True), annot=True, fmt='.2f', cmap='coolwarm', square=True)\n",
    "plt.title('Matriz de Correlação das Variáveis')\n",
    "plt.show()"
   ]
  },
  {
   "cell_type": "markdown",
   "id": "b17f2f03",
   "metadata": {},
   "source": [
    "## 9. Gráficos Interativos com Plotly\n",
    "\n",
    "A seguir, são apresentados gráficos interativos para explorar as principais variáveis do dataset. Esses gráficos permitem uma análise dinâmica e facilitam a identificação de padrões e relações entre variáveis clínicas e o desfecho."
   ]
  },
  {
   "cell_type": "code",
   "execution_count": 39,
   "id": "8657a797",
   "metadata": {},
   "outputs": [],
   "source": [
    "# Importar Plotly para gráficos interativos\n",
    "import plotly.express as px\n",
    "import plotly.graph_objects as go"
   ]
  },
  {
   "cell_type": "code",
   "execution_count": 41,
   "id": "64527ee7",
   "metadata": {},
   "outputs": [
    {
     "data": {
      "application/vnd.plotly.v1+json": {
       "config": {
        "plotlyServerURL": "https://plot.ly"
       },
       "data": [
        {
         "customdata": [
          [
           160
          ],
          [
           270
          ],
          [
           300
          ],
          [
           87
          ],
          [
           102
          ],
          [
           135
          ],
          [
           100
          ],
          [
           102
          ],
          [
           198
          ],
          [
           97
          ],
          [
           319
          ],
          [
           96
          ],
          [
           274
          ],
          [
           301
          ],
          [
           101
          ],
          [
           95
          ],
          [
           166
          ],
          [
           321
          ],
          [
           105
          ],
          [
           117
          ],
          [
           107
          ],
          [
           120
          ],
          [
           208
          ],
          [
           125
          ],
          [
           238
          ],
          [
           96
          ],
          [
           133
          ],
          [
           113
          ],
          [
           91
          ],
          [
           96
          ],
          [
           149
          ],
          [
           101
          ],
          [
           112
          ],
          [
           123
          ],
          [
           86
          ],
          [
           125
          ],
          [
           392
          ],
          [
           87
          ],
          [
           193
          ],
          [
           85
          ],
          [
           181
          ],
          [
           387
          ],
          [
           142
          ],
          [
           101
          ],
          [
           130
          ],
          [
           120
          ],
          [
           94
          ],
          [
           322
          ],
          [
           105
          ],
          [
           89
          ],
          [
           109
          ],
          [
           362
          ],
          [
           97
          ],
          [
           98
          ],
          [
           82
          ],
          [
           110
          ],
          [
           180
          ],
          [
           92
          ],
          [
           116
          ],
          [
           90
          ],
          [
           127
          ],
          [
           109
          ],
          [
           131
          ],
          [
           84
          ],
          [
           95
          ],
          [
           111
          ],
          [
           242
          ],
          [
           197
          ],
          [
           152
          ],
          [
           169
          ],
          [
           104
          ],
          [
           117
          ],
          [
           103
          ],
          [
           102
          ],
          [
           99
          ],
          [
           165
          ],
          [
           321
          ],
          [
           109
          ],
          [
           96
          ],
          [
           80
          ],
          [
           95
          ],
          [
           195
          ],
          [
           150
          ],
          [
           194
          ],
          [
           104
          ],
          [
           85
          ],
          [
           95
          ],
          [
           106
          ],
          [
           422
          ],
          [
           100
          ],
          [
           187
          ],
          [
           189
          ],
          [
           188
          ],
          [
           98
          ],
          [
           101
          ],
          [
           96
          ],
          [
           129
          ],
          [
           96
          ],
          [
           200
          ],
          [
           110
          ],
          [
           140
          ],
          [
           109
          ],
          [
           159
          ],
          [
           122
          ],
          [
           217
          ],
          [
           98
          ],
          [
           154
          ],
          [
           221
          ],
          [
           103
          ],
          [
           94
          ],
          [
           140
          ],
          [
           87
          ],
          [
           382
          ],
          [
           125
          ],
          [
           175
          ],
          [
           92
          ],
          [
           105
          ],
          [
           94
          ],
          [
           103
          ],
          [
           203
          ],
          [
           93
          ],
          [
           108
          ],
          [
           130
          ],
          [
           431
          ],
          [
           92
          ],
          [
           166
          ],
          [
           113
          ],
          [
           118
          ],
          [
           77
          ],
          [
           126
          ],
          [
           100
          ],
          [
           103
          ],
          [
           94
          ],
          [
           111
          ],
          [
           113
          ],
          [
           104
          ],
          [
           118
          ],
          [
           111
          ],
          [
           100
          ],
          [
           86
          ],
          [
           108
          ],
          [
           225
          ],
          [
           168
          ],
          [
           131
          ],
          [
           102
          ],
          [
           87
          ],
          [
           98
          ],
          [
           105
          ],
          [
           66
          ],
          [
           77
          ],
          [
           100
          ],
          [
           188
          ],
          [
           114
          ],
          [
           415
          ],
          [
           202
          ],
          [
           351
          ],
          [
           96
          ],
          [
           443
          ],
          [
           98
          ],
          [
           144
          ],
          [
           99
          ],
          [
           77
          ],
          [
           215
          ],
          [
           200
          ],
          [
           85
          ],
          [
           177
          ],
          [
           190
          ],
          [
           92
          ],
          [
           134
          ],
          [
           93
          ],
          [
           76
          ],
          [
           107
          ],
          [
           87
          ],
          [
           93
          ],
          [
           404
          ],
          [
           92
          ],
          [
           238
          ],
          [
           100
          ],
          [
           210
          ],
          [
           117
          ],
          [
           207
          ],
          [
           196
          ],
          [
           136
          ],
          [
           169
          ],
          [
           96
          ],
          [
           117
          ],
          [
           160
          ],
          [
           98
          ],
          [
           227
          ],
          [
           100
          ],
          [
           161
          ],
          [
           342
          ],
          [
           107
          ],
          [
           84
          ],
          [
           94
          ],
          [
           122
          ],
          [
           135
          ],
          [
           100
          ],
          [
           161
          ],
          [
           140
          ],
          [
           123
          ],
          [
           91
          ],
          [
           145
          ],
          [
           143
          ],
          [
           249
          ],
          [
           185
          ],
          [
           84
          ],
          [
           165
          ],
          [
           244
          ],
          [
           324
          ],
          [
           83
          ],
          [
           60
          ],
          [
           128
          ],
          [
           150
          ],
          [
           346
          ],
          [
           93
          ],
          [
           105
          ],
          [
           195
          ],
          [
           151
          ],
          [
           85
          ],
          [
           122
          ],
          [
           135
          ],
          [
           113
          ],
          [
           148
          ],
          [
           162
          ],
          [
           184
          ],
          [
           109
          ],
          [
           204
          ],
          [
           96
          ],
          [
           99
          ],
          [
           294
          ],
          [
           93
          ],
          [
           90
          ],
          [
           99
          ],
          [
           107
          ],
          [
           98
          ],
          [
           143
          ],
          [
           294
          ],
          [
           126
          ],
          [
           111
          ],
          [
           102
          ],
          [
           79
          ],
          [
           159
          ],
          [
           89
          ],
          [
           277
          ],
          [
           114
          ],
          [
           102
          ],
          [
           89
          ],
          [
           82
          ],
          [
           126
          ],
          [
           151
          ],
          [
           162
          ],
          [
           119
          ],
          [
           104
          ],
          [
           74
          ],
          [
           82
          ],
          [
           98
          ],
          [
           109
          ],
          [
           112
          ],
          [
           294
          ],
          [
           105
          ],
          [
           231
          ],
          [
           88
          ],
          [
           90
          ],
          [
           67
          ],
          [
           98
          ],
          [
           154
          ],
          [
           97
          ],
          [
           97
          ],
          [
           100
          ],
          [
           161
          ],
          [
           202
          ],
          [
           96
          ],
          [
           87
          ],
          [
           125
          ],
          [
           108
          ],
          [
           98
          ],
          [
           108
          ],
          [
           174
          ],
          [
           92
          ],
          [
           246.7
          ],
          [
           99
          ],
          [
           101
          ],
          [
           202
          ],
          [
           391
          ],
          [
           184
          ],
          [
           94
          ],
          [
           99
          ],
          [
           180
          ],
          [
           136
          ],
          [
           197
          ],
          [
           252
          ],
          [
           166
          ],
          [
           98
          ],
          [
           120
          ],
          [
           224
          ],
          [
           69
          ],
          [
           117
          ],
          [
           162
          ],
          [
           101
          ],
          [
           82
          ],
          [
           109
          ],
          [
           81
          ],
          [
           98
          ],
          [
           253
          ],
          [
           92
          ],
          [
           217
          ],
          [
           147
          ],
          [
           101
          ],
          [
           92
          ],
          [
           108
          ],
          [
           93
          ],
          [
           123
          ],
          [
           107
          ],
          [
           104
          ],
          [
           90
          ],
          [
           134
          ],
          [
           150
          ],
          [
           169
          ],
          [
           143
          ],
          [
           121
          ],
          [
           122
          ],
          [
           406
          ],
          [
           206
          ],
          [
           109
          ],
          [
           151
          ],
          [
           259
          ],
          [
           95
          ],
          [
           92
          ],
          [
           263
          ],
          [
           120
          ],
          [
           206
          ],
          [
           155
          ],
          [
           127
          ],
          [
           274
          ],
          [
           97
          ],
          [
           180
          ],
          [
           129
          ],
          [
           206
          ],
          [
           121
          ],
          [
           117
          ],
          [
           161
          ],
          [
           111
          ],
          [
           104
          ],
          [
           250
          ],
          [
           99
          ],
          [
           89
          ],
          [
           133
          ],
          [
           188
          ],
          [
           114
          ],
          [
           111
          ],
          [
           100
          ],
          [
           285
          ],
          [
           79
          ],
          [
           93
          ],
          [
           147
          ],
          [
           192
          ],
          [
           120
          ],
          [
           108
          ],
          [
           201
          ],
          [
           331
          ],
          [
           117
          ],
          [
           102
          ],
          [
           97
          ],
          [
           319
          ],
          [
           274
          ],
          [
           89
          ],
          [
           301
          ],
          [
           100
          ],
          [
           227
          ],
          [
           111
          ],
          [
           95
          ],
          [
           98
          ],
          [
           105
          ],
          [
           117
          ],
          [
           208
          ],
          [
           125
          ],
          [
           93
          ],
          [
           228
          ],
          [
           238
          ],
          [
           114
          ],
          [
           96
          ],
          [
           87
          ],
          [
           191
          ],
          [
           334
          ],
          [
           201
          ],
          [
           85
          ],
          [
           90
          ],
          [
           125
          ],
          [
           147
          ],
          [
           222
          ],
          [
           219
          ],
          [
           189
          ],
          [
           85
          ],
          [
           111
          ],
          [
           181
          ],
          [
           387
          ],
          [
           294
          ],
          [
           240
          ],
          [
           115
          ],
          [
           266
          ],
          [
           142
          ],
          [
           244
          ],
          [
           103
          ],
          [
           94
          ],
          [
           83
          ],
          [
           241
          ],
          [
           318
          ],
          [
           93
          ],
          [
           166
          ],
          [
           89
          ],
          [
           187
          ],
          [
           116
          ],
          [
           98
          ],
          [
           82
          ],
          [
           180
          ],
          [
           92
          ],
          [
           93
          ],
          [
           116
          ],
          [
           90
          ],
          [
           127
          ],
          [
           109
          ],
          [
           227
          ],
          [
           95
          ],
          [
           242
          ],
          [
           152
          ],
          [
           347
          ],
          [
           98
          ],
          [
           102
          ],
          [
           99
          ],
          [
           215
          ],
          [
           106
          ],
          [
           195
          ],
          [
           112
          ],
          [
           94
          ],
          [
           133
          ],
          [
           102
          ],
          [
           115
          ],
          [
           85
          ],
          [
           462
          ],
          [
           100
          ],
          [
           422
          ],
          [
           100
          ],
          [
           245
          ],
          [
           168
          ],
          [
           101
          ],
          [
           189
          ],
          [
           129
          ],
          [
           200
          ],
          [
           110
          ],
          [
           140
          ],
          [
           122
          ],
          [
           382
          ],
          [
           217
          ],
          [
           94
          ],
          [
           112
          ],
          [
           102
          ],
          [
           88
          ],
          [
           221
          ],
          [
           104
          ],
          [
           186
          ],
          [
           94
          ],
          [
           140
          ],
          [
           152
          ],
          [
           222
          ],
          [
           68
          ],
          [
           125
          ],
          [
           104
          ],
          [
           94
          ],
          [
           177
          ],
          [
           94
          ],
          [
           202
          ],
          [
           142
          ],
          [
           118
          ],
          [
           77
          ],
          [
           184
          ],
          [
           246
          ],
          [
           96
          ],
          [
           94
          ],
          [
           202
          ],
          [
           104
          ],
          [
           118
          ],
          [
           230
          ],
          [
           111
          ],
          [
           108
          ],
          [
           125
          ],
          [
           114
          ],
          [
           106
          ],
          [
           368
          ],
          [
           408
          ],
          [
           100
          ],
          [
           302
          ],
          [
           141
          ],
          [
           99
          ],
          [
           90
          ],
          [
           145
          ],
          [
           541
          ],
          [
           105
          ],
          [
           77
          ],
          [
           78
          ],
          [
           100
          ],
          [
           208
          ],
          [
           80
          ],
          [
           141
          ],
          [
           108
          ],
          [
           202
          ],
          [
           96
          ],
          [
           147
          ],
          [
           204
          ]
         ],
         "hovertemplate": "Result=negative<br>Idade=%{x}<br>Pressão Sistólica=%{y}<br>Blood sugar=%{customdata[0]}<extra></extra>",
         "legendgroup": "negative",
         "marker": {
          "color": "#636efa",
          "symbol": "circle"
         },
         "mode": "markers",
         "name": "negative",
         "showlegend": true,
         "type": "scattergl",
         "x": [
          64,
          55,
          55,
          58,
          32,
          44,
          67,
          44,
          63,
          54,
          47,
          45,
          37,
          60,
          42,
          72,
          63,
          35,
          56,
          65,
          64,
          50,
          44,
          50,
          45,
          46,
          38,
          40,
          57,
          50,
          49,
          54,
          45,
          46,
          52,
          54,
          57,
          58,
          40,
          45,
          65,
          62,
          67,
          51,
          67,
          55,
          38,
          71,
          30,
          70,
          67,
          67,
          56,
          43,
          45,
          50,
          63,
          53,
          44,
          45,
          55,
          58,
          55,
          70,
          68,
          32,
          60,
          60,
          46,
          46,
          75,
          40,
          68,
          55,
          50,
          68,
          61,
          30,
          62,
          60,
          46,
          58,
          51,
          50,
          48,
          48,
          63,
          60,
          52,
          55,
          45,
          45,
          53,
          67,
          60,
          55,
          63,
          75,
          63,
          48,
          44,
          25,
          62,
          50,
          56,
          45,
          54,
          41,
          57,
          50,
          75,
          68,
          67,
          62,
          52,
          60,
          53,
          50,
          61,
          49,
          39,
          68,
          41,
          50,
          36,
          50,
          44,
          53,
          68,
          63,
          50,
          63,
          91,
          42,
          42,
          60,
          49,
          21,
          50,
          65,
          26,
          34,
          75,
          70,
          75,
          60,
          70,
          41,
          63,
          63,
          43,
          56,
          65,
          90,
          45,
          50,
          31,
          65,
          60,
          63,
          49,
          52,
          28,
          28,
          70,
          56,
          56,
          41,
          60,
          21,
          62,
          42,
          60,
          52,
          59,
          35,
          50,
          50,
          58,
          71,
          43,
          65,
          65,
          44,
          45,
          72,
          63,
          75,
          64,
          41,
          73,
          40,
          37,
          42,
          28,
          37,
          41,
          51,
          69,
          45,
          42,
          56,
          60,
          22,
          51,
          40,
          49,
          70,
          63,
          47,
          43,
          53,
          22,
          42,
          53,
          44,
          56,
          72,
          32,
          51,
          61,
          70,
          71,
          37,
          41,
          66,
          60,
          60,
          42,
          52,
          50,
          60,
          35,
          82,
          29,
          42,
          45,
          20,
          50,
          50,
          22,
          73,
          73,
          47,
          55,
          61,
          71,
          50,
          60,
          50,
          34,
          43,
          60,
          70,
          43,
          72,
          53,
          62,
          27,
          60,
          51,
          57,
          75,
          63,
          43,
          47,
          39,
          45,
          55,
          36,
          58,
          60,
          35,
          34,
          48,
          73,
          48,
          42,
          60,
          75,
          60,
          36,
          40,
          53,
          45,
          54,
          63,
          44,
          68,
          24,
          38,
          62,
          80,
          55,
          39,
          66,
          69,
          60,
          58,
          42,
          58,
          50,
          85,
          67,
          50,
          73,
          52,
          74,
          28,
          40,
          56,
          49,
          59,
          71,
          38,
          71,
          60,
          58,
          24,
          47,
          72,
          83,
          64,
          39,
          30,
          60,
          43,
          29,
          57,
          50,
          65,
          58,
          75,
          54,
          63,
          75,
          33,
          65,
          47,
          48,
          48,
          60,
          35,
          25,
          56,
          53,
          23,
          14,
          51,
          46,
          60,
          48,
          54,
          64,
          68,
          27,
          47,
          41,
          67,
          65,
          66,
          58,
          60,
          43,
          33,
          45,
          68,
          34,
          67,
          37,
          45,
          61,
          62,
          35,
          70,
          63,
          53,
          36,
          63,
          47,
          50,
          43,
          55,
          43,
          55,
          75,
          63,
          42,
          50,
          55,
          35,
          37,
          33,
          63,
          65,
          27,
          42,
          28,
          64,
          67,
          54,
          73,
          50,
          33,
          35,
          70,
          29,
          60,
          30,
          74,
          50,
          37,
          66,
          48,
          32,
          32,
          41,
          80,
          65,
          38,
          47,
          35,
          48,
          57,
          29,
          57,
          65,
          55,
          40,
          68,
          45,
          40,
          63,
          44,
          44,
          55,
          26,
          57,
          65,
          63,
          38,
          60,
          40,
          66,
          63,
          79,
          53,
          60,
          71,
          63,
          41,
          48,
          25,
          60,
          73,
          61,
          33,
          43,
          38,
          37,
          45,
          60,
          40,
          34,
          38,
          29,
          73,
          29,
          51,
          39,
          31,
          58,
          45,
          38,
          62,
          69,
          54,
          49,
          54,
          52,
          70,
          37,
          60,
          45,
          65,
          46,
          60,
          33,
          67,
          44,
          28,
          41,
          66,
          19,
          29,
          39,
          70,
          55,
          36,
          35,
          42,
          62,
          67,
          62,
          40,
          45,
          48,
          86,
          44
         ],
         "xaxis": "x",
         "y": [
          160,
          160,
          112,
          112,
          179,
          154,
          160,
          166,
          150,
          122,
          120,
          100,
          107,
          151,
          150,
          152,
          135,
          137,
          145,
          166,
          155,
          120,
          91,
          101,
          133,
          153,
          152,
          130,
          121,
          125,
          110,
          120,
          137,
          115,
          123,
          130,
          95,
          117,
          157,
          140,
          175,
          124,
          148,
          140,
          164,
          192,
          111,
          135,
          135,
          144,
          119,
          109,
          85,
          89,
          87,
          98,
          116,
          105,
          100,
          70,
          71,
          78,
          136,
          128,
          122,
          136,
          140,
          170,
          169,
          150,
          144,
          148,
          150,
          168,
          130,
          191,
          138,
          137,
          193,
          128,
          165,
          146,
          140,
          165,
          136,
          175,
          116,
          42,
          114,
          116,
          136,
          144,
          150,
          118,
          220,
          147,
          170,
          144,
          152,
          129,
          145,
          175,
          154,
          142,
          123,
          117,
          103,
          87,
          112,
          129,
          107,
          124,
          128,
          140,
          139,
          136,
          126,
          117,
          91,
          101,
          105,
          135,
          121,
          118,
          157,
          100,
          112,
          80,
          80,
          84,
          83,
          119,
          65,
          120,
          152,
          153,
          146,
          76,
          90,
          94,
          92,
          109,
          108,
          113,
          125,
          115,
          125,
          100,
          131,
          130,
          125,
          145,
          150,
          164,
          88,
          130,
          131,
          121,
          132,
          150,
          151,
          161,
          166,
          95,
          105,
          139,
          105,
          91,
          106,
          204,
          160,
          138,
          126,
          147,
          119,
          149,
          135,
          162,
          94,
          123,
          132,
          125,
          92,
          177,
          155,
          157,
          166,
          113,
          104,
          113,
          115,
          138,
          119,
          118,
          104,
          125,
          107,
          130,
          91,
          92,
          98,
          67,
          150,
          170,
          117,
          122,
          107,
          105,
          112,
          123,
          142,
          118,
          126,
          125,
          147,
          106,
          113,
          138,
          126,
          150,
          116,
          107,
          111,
          109,
          105,
          116,
          137,
          131,
          121,
          127,
          138,
          145,
          150,
          152,
          155,
          153,
          117,
          109,
          106,
          98,
          160,
          130,
          160,
          103,
          126,
          106,
          80,
          140,
          129,
          106,
          170,
          180,
          135,
          170,
          157,
          125,
          116,
          134,
          112,
          160,
          223,
          166,
          118,
          100,
          107,
          109,
          104,
          156,
          166,
          120,
          105,
          91,
          101,
          152,
          125,
          130,
          127,
          110,
          125,
          130,
          150,
          137,
          120,
          94,
          124,
          112,
          140,
          175,
          124,
          144,
          130,
          138,
          129,
          104,
          116,
          115,
          135,
          140,
          164,
          150,
          156,
          110,
          129,
          112,
          101,
          100,
          122,
          118,
          110,
          102,
          157,
          96,
          119,
          134,
          130,
          141,
          104,
          109,
          108,
          113,
          125,
          117,
          129,
          128,
          115,
          125,
          100,
          143,
          130,
          125,
          177,
          198,
          150,
          154,
          139,
          91,
          90,
          119,
          156,
          150,
          111,
          113,
          117,
          76,
          128,
          165,
          138,
          111,
          126,
          119,
          117,
          138,
          117,
          90,
          94,
          91,
          92,
          145,
          93,
          123,
          135,
          130,
          103,
          111,
          101,
          106,
          80,
          153,
          112,
          120,
          142,
          148,
          129,
          106,
          170,
          200,
          125,
          135,
          142,
          157,
          124,
          116,
          98,
          160,
          120,
          134,
          214,
          166,
          150,
          107,
          109,
          109,
          110,
          106,
          156,
          166,
          155,
          105,
          120,
          152,
          153,
          144,
          208,
          154,
          76,
          90,
          91,
          92,
          91,
          153,
          152,
          121,
          140,
          150,
          141,
          128,
          147,
          137,
          115,
          125,
          130,
          94,
          124,
          118,
          157,
          175,
          130,
          97,
          116,
          115,
          113,
          140,
          150,
          156,
          192,
          144,
          110,
          101,
          129,
          112,
          111,
          101,
          214,
          100,
          105,
          120,
          104,
          157,
          124,
          100,
          87,
          132,
          80,
          170,
          84,
          83,
          119,
          65,
          126,
          102,
          134,
          130,
          141,
          125,
          109,
          170,
          150,
          87,
          118,
          164,
          125,
          128,
          111,
          103,
          113,
          96,
          107,
          145,
          135,
          110,
          91,
          119,
          140,
          156,
          111,
          150,
          130,
          76,
          122,
          128,
          165,
          153,
          160,
          116,
          111,
          67,
          126,
          138,
          147,
          134,
          117,
          145,
          150,
          136,
          208,
          100,
          118,
          179,
          122
         ],
         "yaxis": "y"
        },
        {
         "customdata": [
          [
           296
          ],
          [
           270
          ],
          [
           87
          ],
          [
           92
          ],
          [
           134
          ],
          [
           87
          ],
          [
           89
          ],
          [
           100
          ],
          [
           227
          ],
          [
           107
          ],
          [
           269
          ],
          [
           111
          ],
          [
           279
          ],
          [
           95
          ],
          [
           98
          ],
          [
           136
          ],
          [
           82
          ],
          [
           136
          ],
          [
           103
          ],
          [
           100
          ],
          [
           93
          ],
          [
           99
          ],
          [
           228
          ],
          [
           136
          ],
          [
           98
          ],
          [
           114
          ],
          [
           103
          ],
          [
           110
          ],
          [
           251
          ],
          [
           87
          ],
          [
           191
          ],
          [
           334
          ],
          [
           109
          ],
          [
           201
          ],
          [
           167
          ],
          [
           85
          ],
          [
           177
          ],
          [
           90
          ],
          [
           115
          ],
          [
           147
          ],
          [
           90
          ],
          [
           141
          ],
          [
           147
          ],
          [
           222
          ],
          [
           174
          ],
          [
           162
          ],
          [
           219
          ],
          [
           189
          ],
          [
           87
          ],
          [
           111
          ],
          [
           121
          ],
          [
           294
          ],
          [
           116
          ],
          [
           88
          ],
          [
           167
          ],
          [
           240
          ],
          [
           132
          ],
          [
           134
          ],
          [
           159
          ],
          [
           115
          ],
          [
           81
          ],
          [
           266
          ],
          [
           244
          ],
          [
           117
          ],
          [
           103
          ],
          [
           182
          ],
          [
           83
          ],
          [
           147
          ],
          [
           241
          ],
          [
           318
          ],
          [
           93
          ],
          [
           66
          ],
          [
           91
          ],
          [
           156
          ],
          [
           123
          ],
          [
           103
          ],
          [
           125
          ],
          [
           166
          ],
          [
           89
          ],
          [
           115
          ],
          [
           108
          ],
          [
           187
          ],
          [
           122
          ],
          [
           182
          ],
          [
           116
          ],
          [
           94
          ],
          [
           105
          ],
          [
           116
          ],
          [
           93
          ],
          [
           94
          ],
          [
           87
          ],
          [
           147
          ],
          [
           132
          ],
          [
           227
          ],
          [
           134
          ],
          [
           137
          ],
          [
           111
          ],
          [
           81
          ],
          [
           106
          ],
          [
           130
          ],
          [
           109
          ],
          [
           347
          ],
          [
           98
          ],
          [
           81
          ],
          [
           126
          ],
          [
           191
          ],
          [
           133
          ],
          [
           215
          ],
          [
           61
          ],
          [
           106
          ],
          [
           92
          ],
          [
           91
          ],
          [
           112
          ],
          [
           94
          ],
          [
           133
          ],
          [
           102
          ],
          [
           114
          ],
          [
           115
          ],
          [
           110
          ],
          [
           233
          ],
          [
           462
          ],
          [
           100
          ],
          [
           245
          ],
          [
           168
          ],
          [
           99
          ],
          [
           101
          ],
          [
           100
          ],
          [
           146
          ],
          [
           382
          ],
          [
           94
          ],
          [
           303
          ],
          [
           112
          ],
          [
           102
          ],
          [
           115
          ],
          [
           88
          ],
          [
           89
          ],
          [
           90
          ],
          [
           104
          ],
          [
           186
          ],
          [
           112
          ],
          [
           218
          ],
          [
           127
          ],
          [
           152
          ],
          [
           222
          ],
          [
           68
          ],
          [
           104
          ],
          [
           150
          ],
          [
           99
          ],
          [
           94
          ],
          [
           177
          ],
          [
           50
          ],
          [
           92
          ],
          [
           88
          ],
          [
           92
          ],
          [
           119
          ],
          [
           77
          ],
          [
           87
          ],
          [
           202
          ],
          [
           141
          ],
          [
           142
          ],
          [
           114
          ],
          [
           81
          ],
          [
           184
          ],
          [
           91
          ],
          [
           97
          ],
          [
           246
          ],
          [
           93
          ],
          [
           157
          ],
          [
           222
          ],
          [
           155
          ],
          [
           96
          ],
          [
           94
          ],
          [
           202
          ],
          [
           99
          ],
          [
           107
          ],
          [
           100
          ],
          [
           154
          ],
          [
           105
          ],
          [
           82
          ],
          [
           230
          ],
          [
           114
          ],
          [
           111
          ],
          [
           217
          ],
          [
           116
          ],
          [
           125
          ],
          [
           95
          ],
          [
           114
          ],
          [
           87
          ],
          [
           106
          ],
          [
           368
          ],
          [
           408
          ],
          [
           100
          ],
          [
           302
          ],
          [
           141
          ],
          [
           500
          ],
          [
           99
          ],
          [
           90
          ],
          [
           145
          ],
          [
           108
          ],
          [
           541
          ],
          [
           163
          ],
          [
           114
          ],
          [
           104
          ],
          [
           184
          ],
          [
           102
          ],
          [
           76
          ],
          [
           78
          ],
          [
           274
          ],
          [
           100
          ],
          [
           87
          ],
          [
           182
          ],
          [
           96
          ],
          [
           119
          ],
          [
           95
          ],
          [
           208
          ],
          [
           80
          ],
          [
           141
          ],
          [
           118
          ],
          [
           170
          ],
          [
           108
          ],
          [
           200
          ],
          [
           102
          ],
          [
           140
          ],
          [
           230
          ],
          [
           104
          ],
          [
           135
          ],
          [
           114
          ],
          [
           147
          ],
          [
           204
          ],
          [
           149
          ],
          [
           96
          ],
          [
           113
          ],
          [
           407
          ],
          [
           319
          ],
          [
           290
          ],
          [
           117
          ],
          [
           100
          ],
          [
           97
          ],
          [
           220
          ],
          [
           381
          ],
          [
           122
          ],
          [
           175
          ],
          [
           221
          ],
          [
           86
          ],
          [
           97
          ],
          [
           92
          ],
          [
           102
          ],
          [
           122
          ],
          [
           90
          ],
          [
           196
          ],
          [
           93
          ],
          [
           106
          ],
          [
           83
          ],
          [
           267
          ],
          [
           198
          ],
          [
           256
          ],
          [
           194
          ],
          [
           257
          ],
          [
           95
          ],
          [
           261
          ],
          [
           234
          ],
          [
           104
          ],
          [
           139
          ],
          [
           129
          ],
          [
           108
          ],
          [
           87
          ],
          [
           235
          ],
          [
           147
          ],
          [
           425
          ],
          [
           131
          ],
          [
           94
          ],
          [
           366
          ],
          [
           226
          ],
          [
           112
          ],
          [
           106
          ],
          [
           98
          ],
          [
           132
          ],
          [
           95
          ],
          [
           122
          ],
          [
           162
          ],
          [
           88
          ],
          [
           150
          ],
          [
           80
          ],
          [
           197
          ],
          [
           104
          ],
          [
           166
          ],
          [
           106
          ],
          [
           92
          ],
          [
           219
          ],
          [
           88
          ],
          [
           117
          ],
          [
           91
          ],
          [
           86
          ],
          [
           93
          ],
          [
           211
          ],
          [
           161
          ],
          [
           94
          ],
          [
           258
          ],
          [
           83
          ],
          [
           276
          ],
          [
           216
          ],
          [
           95
          ],
          [
           91
          ],
          [
           130
          ],
          [
           114
          ],
          [
           88
          ],
          [
           82
          ],
          [
           175
          ],
          [
           226
          ],
          [
           131
          ],
          [
           122
          ],
          [
           124
          ],
          [
           162
          ],
          [
           156
          ],
          [
           92
          ],
          [
           127
          ],
          [
           92
          ],
          [
           123
          ],
          [
           336
          ],
          [
           263
          ],
          [
           124
          ],
          [
           97
          ],
          [
           126
          ],
          [
           181
          ],
          [
           109
          ],
          [
           163
          ],
          [
           200
          ],
          [
           82
          ],
          [
           100
          ],
          [
           94
          ],
          [
           100
          ],
          [
           100
          ],
          [
           98
          ],
          [
           111
          ],
          [
           86
          ],
          [
           107
          ],
          [
           155
          ],
          [
           85
          ],
          [
           232
          ],
          [
           100
          ],
          [
           105
          ],
          [
           347
          ],
          [
           210
          ],
          [
           151
          ],
          [
           181
          ],
          [
           134
          ],
          [
           96
          ],
          [
           271
          ],
          [
           109
          ],
          [
           283
          ],
          [
           134
          ],
          [
           95
          ],
          [
           87
          ],
          [
           293
          ],
          [
           90
          ],
          [
           87
          ],
          [
           117
          ],
          [
           81
          ],
          [
           86
          ],
          [
           98
          ],
          [
           157
          ],
          [
           103
          ],
          [
           305
          ],
          [
           96
          ],
          [
           338
          ],
          [
           135
          ],
          [
           94
          ],
          [
           198
          ],
          [
           116
          ],
          [
           116
          ],
          [
           130
          ],
          [
           101
          ],
          [
           136
          ],
          [
           96
          ],
          [
           282
          ],
          [
           94
          ],
          [
           354
          ],
          [
           140
          ],
          [
           128
          ],
          [
           153
          ],
          [
           106
          ],
          [
           164
          ],
          [
           144
          ],
          [
           115
          ],
          [
           274
          ],
          [
           144
          ],
          [
           104
          ],
          [
           82
          ],
          [
           115
          ],
          [
           328
          ],
          [
           169
          ],
          [
           100
          ],
          [
           117
          ],
          [
           97
          ],
          [
           150
          ],
          [
           91
          ],
          [
           130
          ],
          [
           223
          ],
          [
           303
          ],
          [
           99
          ],
          [
           168
          ],
          [
           129
          ],
          [
           98
          ],
          [
           215
          ],
          [
           97
          ],
          [
           161
          ],
          [
           97
          ],
          [
           197
          ],
          [
           189
          ],
          [
           239
          ],
          [
           133
          ],
          [
           123
          ],
          [
           229
          ],
          [
           111
          ],
          [
           144
          ],
          [
           62
          ],
          [
           106
          ],
          [
           96
          ],
          [
           99
          ],
          [
           240
          ],
          [
           111
          ],
          [
           107
          ],
          [
           94
          ],
          [
           121
          ],
          [
           185
          ],
          [
           98
          ],
          [
           119
          ],
          [
           99
          ],
          [
           98
          ],
          [
           87
          ],
          [
           242
          ],
          [
           208
          ],
          [
           87
          ],
          [
           262
          ],
          [
           99
          ],
          [
           115
          ],
          [
           138
          ],
          [
           271
          ],
          [
           85
          ],
          [
           216
          ],
          [
           99
          ],
          [
           91
          ],
          [
           109
          ],
          [
           110
          ],
          [
           95
          ],
          [
           93
          ],
          [
           157
          ],
          [
           138
          ],
          [
           146
          ],
          [
           104
          ],
          [
           120
          ],
          [
           96
          ],
          [
           221
          ],
          [
           140
          ],
          [
           124
          ],
          [
           228
          ],
          [
           35
          ],
          [
           94
          ],
          [
           75
          ],
          [
           155
          ],
          [
           98
          ],
          [
           166
          ],
          [
           234
          ],
          [
           228
          ],
          [
           143
          ],
          [
           154
          ],
          [
           142
          ],
          [
           110
          ],
          [
           134
          ],
          [
           185
          ],
          [
           272
          ],
          [
           314
          ],
          [
           108
          ],
          [
           90
          ],
          [
           247
          ],
          [
           77
          ],
          [
           434
          ],
          [
           87
          ],
          [
           80
          ],
          [
           186
          ],
          [
           217
          ],
          [
           276
          ],
          [
           100
          ],
          [
           150
          ],
          [
           124
          ],
          [
           150
          ],
          [
           139
          ],
          [
           77
          ],
          [
           149
          ],
          [
           134
          ],
          [
           152
          ],
          [
           145
          ],
          [
           64
          ],
          [
           139
          ],
          [
           103
          ],
          [
           96
          ],
          [
           202
          ],
          [
           90
          ],
          [
           302
          ],
          [
           336
          ],
          [
           123
          ],
          [
           92
          ],
          [
           155
          ],
          [
           111
          ],
          [
           100
          ],
          [
           93
          ],
          [
           297
          ],
          [
           146
          ],
          [
           165
          ],
          [
           99
          ],
          [
           104
          ],
          [
           65
          ],
          [
           100
          ],
          [
           105
          ],
          [
           133
          ],
          [
           217
          ],
          [
           277
          ],
          [
           132
          ],
          [
           211
          ],
          [
           171
          ],
          [
           136
          ],
          [
           102
          ],
          [
           117
          ],
          [
           94
          ],
          [
           122
          ],
          [
           83
          ],
          [
           87
          ],
          [
           115
          ],
          [
           100
          ],
          [
           93
          ],
          [
           137
          ],
          [
           223
          ],
          [
           100
          ],
          [
           181
          ],
          [
           174
          ],
          [
           160
          ],
          [
           168
          ],
          [
           115
          ],
          [
           247
          ],
          [
           265
          ],
          [
           121
          ],
          [
           103
          ],
          [
           132
          ],
          [
           216
          ],
          [
           97
          ],
          [
           106
          ],
          [
           99
          ],
          [
           140
          ],
          [
           98
          ],
          [
           171
          ],
          [
           329
          ],
          [
           85
          ],
          [
           204
          ],
          [
           131
          ],
          [
           144
          ],
          [
           133
          ],
          [
           82
          ],
          [
           272
          ],
          [
           97
          ],
          [
           96
          ],
          [
           88
          ],
          [
           138
          ],
          [
           319
          ],
          [
           239
          ],
          [
           130
          ],
          [
           187
          ],
          [
           98
          ],
          [
           247
          ],
          [
           132
          ],
          [
           93
          ],
          [
           203
          ],
          [
           134
          ],
          [
           103
          ],
          [
           85
          ],
          [
           192
          ],
          [
           87
          ],
          [
           135
          ],
          [
           100
          ],
          [
           100
          ],
          [
           92
          ],
          [
           134
          ],
          [
           87
          ],
          [
           96
          ],
          [
           107
          ],
          [
           269
          ],
          [
           101
          ],
          [
           279
          ],
          [
           166
          ],
          [
           321
          ],
          [
           136
          ],
          [
           82
          ],
          [
           107
          ],
          [
           120
          ],
          [
           136
          ],
          [
           103
          ],
          [
           100
          ],
          [
           99
          ],
          [
           96
          ],
          [
           133
          ],
          [
           136
          ],
          [
           113
          ],
          [
           98
          ],
          [
           91
          ],
          [
           149
          ],
          [
           103
          ],
          [
           110
          ],
          [
           251
          ],
          [
           109
          ],
          [
           101
          ],
          [
           167
          ],
          [
           112
          ],
          [
           123
          ],
          [
           86
          ],
          [
           177
          ],
          [
           115
          ],
          [
           392
          ],
          [
           147
          ],
          [
           87
          ],
          [
           90
          ],
          [
           141
          ],
          [
           174
          ],
          [
           162
          ],
          [
           193
          ],
          [
           87
          ],
          [
           121
          ],
          [
           116
          ],
          [
           88
          ],
          [
           167
          ],
          [
           132
          ],
          [
           134
          ],
          [
           159
          ],
          [
           81
          ],
          [
           101
          ],
          [
           130
          ],
          [
           117
          ],
          [
           120
          ],
          [
           182
          ],
          [
           147
          ],
          [
           66
          ],
          [
           91
          ],
          [
           156
          ],
          [
           123
          ],
          [
           103
          ],
          [
           125
          ],
          [
           115
          ],
          [
           108
          ],
          [
           322
          ],
          [
           105
          ],
          [
           122
          ],
          [
           89
          ],
          [
           182
          ],
          [
           94
          ],
          [
           109
          ],
          [
           362
          ],
          [
           97
          ],
          [
           110
          ],
          [
           105
          ],
          [
           116
          ],
          [
           94
          ],
          [
           87
          ],
          [
           147
          ],
          [
           131
          ],
          [
           84
          ],
          [
           132
          ],
          [
           134
          ],
          [
           137
          ],
          [
           111
          ],
          [
           111
          ],
          [
           81
          ],
          [
           106
          ],
          [
           130
          ],
          [
           197
          ],
          [
           169
          ],
          [
           109
          ],
          [
           104
          ],
          [
           117
          ],
          [
           103
          ],
          [
           81
          ],
          [
           165
          ],
          [
           126
          ],
          [
           191
          ],
          [
           321
          ],
          [
           133
          ],
          [
           109
          ],
          [
           96
          ],
          [
           61
          ],
          [
           80
          ],
          [
           92
          ],
          [
           91
          ],
          [
           95
          ],
          [
           150
          ],
          [
           194
          ],
          [
           114
          ],
          [
           104
          ],
          [
           110
          ],
          [
           233
          ],
          [
           95
          ],
          [
           106
          ],
          [
           99
          ],
          [
           187
          ],
          [
           188
          ],
          [
           98
          ],
          [
           101
          ],
          [
           100
          ],
          [
           96
          ],
          [
           96
          ],
          [
           146
          ],
          [
           109
          ],
          [
           159
          ],
          [
           303
          ],
          [
           98
          ],
          [
           154
          ],
          [
           115
          ],
          [
           89
          ],
          [
           90
          ],
          [
           103
          ],
          [
           112
          ],
          [
           218
          ],
          [
           87
          ],
          [
           127
          ],
          [
           382
          ],
          [
           150
          ],
          [
           175
          ],
          [
           92
          ],
          [
           99
          ],
          [
           105
          ],
          [
           50
          ],
          [
           92
          ],
          [
           103
          ],
          [
           88
          ],
          [
           203
          ],
          [
           92
          ],
          [
           93
          ],
          [
           108
          ],
          [
           130
          ],
          [
           119
          ],
          [
           77
          ],
          [
           87
          ],
          [
           431
          ],
          [
           141
          ],
          [
           92
          ],
          [
           114
          ],
          [
           166
          ],
          [
           113
          ],
          [
           81
          ],
          [
           126
          ],
          [
           100
          ],
          [
           91
          ],
          [
           103
          ],
          [
           97
          ],
          [
           94
          ],
          [
           93
          ],
          [
           111
          ],
          [
           157
          ],
          [
           222
          ],
          [
           155
          ],
          [
           113
          ],
          [
           99
          ],
          [
           107
          ],
          [
           100
          ],
          [
           154
          ],
          [
           105
          ],
          [
           82
          ],
          [
           100
          ],
          [
           86
          ],
          [
           114
          ],
          [
           111
          ],
          [
           217
          ],
          [
           116
          ],
          [
           95
          ],
          [
           87
          ],
          [
           225
          ],
          [
           168
          ],
          [
           131
          ],
          [
           500
          ],
          [
           102
          ],
          [
           108
          ],
          [
           87
          ],
          [
           163
          ],
          [
           98
          ],
          [
           114
          ],
          [
           104
          ],
          [
           184
          ],
          [
           66
          ],
          [
           102
          ],
          [
           100
          ],
          [
           76
          ],
          [
           274
          ],
          [
           188
          ],
          [
           87
          ],
          [
           182
          ],
          [
           96
          ],
          [
           114
          ],
          [
           415
          ],
          [
           119
          ],
          [
           95
          ],
          [
           118
          ],
          [
           170
          ],
          [
           200
          ],
          [
           102
          ],
          [
           140
          ],
          [
           230
          ],
          [
           104
          ],
          [
           135
          ],
          [
           351
          ],
          [
           114
          ],
          [
           149
          ],
          [
           96
          ],
          [
           443
          ],
          [
           134
          ]
         ],
         "hovertemplate": "Result=positive<br>Idade=%{x}<br>Pressão Sistólica=%{y}<br>Blood sugar=%{customdata[0]}<extra></extra>",
         "legendgroup": "positive",
         "marker": {
          "color": "#EF553B",
          "symbol": "circle"
         },
         "mode": "markers",
         "name": "positive",
         "showlegend": true,
         "type": "scattergl",
         "x": [
          21,
          64,
          63,
          64,
          61,
          86,
          45,
          48,
          52,
          30,
          50,
          72,
          47,
          54,
          68,
          50,
          64,
          34,
          50,
          55,
          63,
          58,
          40,
          47,
          63,
          28,
          29,
          80,
          45,
          47,
          90,
          45,
          45,
          61,
          62,
          65,
          58,
          61,
          52,
          47,
          50,
          65,
          53,
          80,
          50,
          72,
          62,
          58,
          80,
          61,
          60,
          60,
          75,
          66,
          40,
          19,
          58,
          77,
          71,
          53,
          43,
          66,
          50,
          59,
          20,
          36,
          57,
          45,
          62,
          43,
          66,
          60,
          67,
          65,
          60,
          49,
          60,
          80,
          47,
          45,
          38,
          60,
          60,
          78,
          63,
          57,
          64,
          60,
          60,
          50,
          69,
          50,
          70,
          73,
          41,
          82,
          57,
          50,
          67,
          50,
          55,
          55,
          45,
          50,
          60,
          55,
          51,
          66,
          70,
          78,
          58,
          58,
          46,
          63,
          57,
          45,
          47,
          75,
          25,
          52,
          60,
          49,
          60,
          65,
          55,
          67,
          63,
          70,
          51,
          55,
          60,
          63,
          63,
          36,
          26,
          65,
          65,
          59,
          53,
          72,
          75,
          66,
          76,
          58,
          62,
          44,
          64,
          60,
          63,
          63,
          33,
          60,
          70,
          38,
          38,
          63,
          54,
          68,
          53,
          70,
          65,
          63,
          50,
          58,
          70,
          60,
          65,
          51,
          65,
          41,
          75,
          58,
          72,
          58,
          62,
          63,
          60,
          78,
          53,
          70,
          55,
          66,
          75,
          45,
          55,
          55,
          86,
          60,
          31,
          46,
          62,
          33,
          53,
          48,
          70,
          56,
          50,
          56,
          70,
          29,
          60,
          50,
          62,
          69,
          68,
          61,
          55,
          65,
          63,
          73,
          74,
          55,
          65,
          63,
          59,
          78,
          54,
          68,
          59,
          65,
          78,
          62,
          58,
          55,
          78,
          29,
          68,
          53,
          64,
          64,
          68,
          67,
          65,
          65,
          66,
          65,
          50,
          39,
          61,
          66,
          78,
          72,
          52,
          75,
          80,
          70,
          74,
          65,
          48,
          55,
          54,
          63,
          45,
          80,
          40,
          80,
          60,
          21,
          58,
          44,
          60,
          63,
          60,
          61,
          65,
          65,
          45,
          46,
          64,
          30,
          55,
          46,
          63,
          62,
          65,
          63,
          55,
          55,
          63,
          60,
          60,
          70,
          45,
          60,
          31,
          58,
          70,
          62,
          55,
          75,
          77,
          71,
          70,
          60,
          73,
          63,
          72,
          40,
          59,
          50,
          55,
          53,
          19,
          59,
          68,
          70,
          70,
          55,
          55,
          65,
          52,
          50,
          55,
          72,
          63,
          52,
          70,
          63,
          63,
          31,
          50,
          55,
          50,
          52,
          73,
          55,
          65,
          60,
          58,
          56,
          65,
          32,
          62,
          50,
          65,
          47,
          55,
          60,
          55,
          35,
          60,
          60,
          50,
          70,
          70,
          59,
          66,
          63,
          42,
          72,
          68,
          52,
          68,
          60,
          37,
          32,
          60,
          44,
          52,
          60,
          79,
          55,
          58,
          71,
          55,
          78,
          73,
          50,
          47,
          62,
          74,
          73,
          56,
          69,
          52,
          60,
          58,
          70,
          65,
          54,
          42,
          48,
          45,
          60,
          73,
          45,
          72,
          60,
          48,
          58,
          58,
          60,
          45,
          47,
          70,
          70,
          51,
          64,
          70,
          70,
          34,
          35,
          50,
          60,
          64,
          47,
          81,
          53,
          65,
          36,
          58,
          47,
          70,
          74,
          76,
          29,
          60,
          68,
          75,
          70,
          78,
          55,
          70,
          69,
          51,
          63,
          65,
          66,
          44,
          83,
          37,
          55,
          47,
          56,
          60,
          60,
          70,
          68,
          70,
          49,
          52,
          53,
          52,
          36,
          56,
          60,
          49,
          73,
          60,
          46,
          65,
          63,
          59,
          60,
          60,
          29,
          49,
          70,
          34,
          49,
          49,
          81,
          48,
          73,
          55,
          45,
          70,
          70,
          49,
          70,
          76,
          70,
          40,
          45,
          75,
          64,
          78,
          86,
          41,
          75,
          55,
          38,
          48,
          88,
          70,
          49,
          75,
          56,
          79,
          47,
          53,
          41,
          70,
          40,
          70,
          65,
          50,
          70,
          67,
          50,
          60,
          37,
          72,
          70,
          70,
          57,
          57,
          50,
          70,
          70,
          41,
          76,
          41,
          76,
          50,
          63,
          77,
          63,
          56,
          41,
          54,
          69,
          60,
          65,
          41,
          85,
          70,
          44,
          60,
          49,
          77,
          70,
          60,
          60,
          50,
          70,
          48,
          60,
          48,
          60,
          54,
          56,
          60,
          60,
          71,
          65,
          57,
          54,
          66,
          68,
          100,
          60,
          57,
          71,
          70,
          49,
          47,
          85,
          45,
          74,
          51,
          55,
          55,
          28,
          62,
          69,
          73,
          51,
          66,
          60,
          74,
          71,
          53,
          70,
          44,
          70,
          69,
          53,
          50,
          55,
          46,
          46,
          74,
          74,
          37,
          40,
          52,
          39,
          47,
          75,
          52,
          65,
          82,
          50,
          43,
          60,
          46,
          71,
          55,
          63,
          65,
          21,
          60,
          62,
          66,
          52,
          57,
          72,
          48,
          32,
          86,
          40,
          29,
          50,
          68,
          72,
          68,
          60,
          40,
          27,
          75,
          65,
          61,
          70,
          61,
          77,
          65,
          40,
          48,
          68,
          61,
          63,
          87,
          72,
          55,
          103,
          60,
          40,
          55,
          68,
          65,
          79,
          66,
          65,
          77,
          74,
          31,
          67,
          63,
          82,
          41,
          67,
          65,
          54,
          52,
          51,
          75,
          87,
          35,
          55,
          43,
          39,
          65,
          60,
          68,
          27,
          75,
          52,
          70,
          65,
          50,
          30,
          54,
          43,
          77,
          65,
          65,
          63,
          70,
          50,
          63,
          56,
          60,
          63,
          64,
          63,
          70,
          67,
          64,
          63,
          103,
          60,
          75,
          57,
          43,
          70,
          78,
          51,
          74,
          76,
          63,
          48,
          56,
          53,
          85,
          70,
          64,
          52,
          68,
          52,
          56,
          55,
          53,
          30,
          50,
          60,
          66,
          36,
          90,
          70,
          65,
          75,
          70,
          62,
          60,
          68,
          54,
          61,
          70,
          84,
          59,
          31,
          65,
          58,
          55,
          59,
          50,
          58,
          59,
          70,
          76,
          66,
          63,
          45,
          73,
          65,
          52,
          57,
          78,
          46,
          40,
          63,
          75,
          61,
          80,
          62,
          47,
          68,
          37,
          48,
          70,
          27,
          23,
          48,
          50,
          72,
          60,
          70,
          65,
          55,
          49,
          68,
          79,
          60,
          60,
          50,
          51,
          60,
          42,
          54,
          70,
          49,
          31,
          56,
          67,
          29,
          50,
          65,
          55,
          60,
          58,
          50,
          53,
          50,
          64,
          65,
          43,
          47,
          55,
          56,
          47,
          60,
          56,
          47,
          70,
          85,
          66,
          45,
          54,
          51
         ],
         "xaxis": "x",
         "y": [
          98,
          120,
          214,
          199,
          118,
          114,
          109,
          98,
          109,
          110,
          104,
          106,
          134,
          131,
          121,
          136,
          156,
          105,
          105,
          105,
          121,
          111,
          115,
          125,
          130,
          127,
          140,
          150,
          130,
          110,
          120,
          150,
          141,
          130,
          128,
          121,
          120,
          125,
          94,
          101,
          110,
          124,
          118,
          112,
          119,
          110,
          140,
          138,
          119,
          202,
          144,
          130,
          138,
          129,
          97,
          114,
          116,
          115,
          119,
          135,
          116,
          113,
          140,
          150,
          156,
          171,
          110,
          100,
          101,
          129,
          108,
          112,
          111,
          130,
          134,
          132,
          115,
          135,
          121,
          137,
          135,
          135,
          113,
          131,
          140,
          117,
          99,
          96,
          95,
          95,
          86,
          91,
          127,
          110,
          131,
          126,
          144,
          135,
          134,
          136,
          169,
          149,
          154,
          141,
          120,
          145,
          141,
          129,
          145,
          157,
          167,
          160,
          115,
          101,
          93,
          154,
          128,
          150,
          153,
          180,
          154,
          120,
          151,
          149,
          115,
          117,
          140,
          150,
          120,
          120,
          102,
          107,
          107,
          101,
          104,
          101,
          95,
          86,
          123,
          112,
          115,
          109,
          148,
          123,
          111,
          143,
          143,
          178,
          120,
          137,
          139,
          99,
          87,
          100,
          120,
          104,
          122,
          110,
          113,
          102,
          124,
          87,
          95,
          96,
          119,
          126,
          100,
          102,
          118,
          147,
          145,
          150,
          155,
          144,
          175,
          208,
          160,
          150,
          154,
          130,
          91,
          91,
          134,
          130,
          125,
          141,
          125,
          104,
          125,
          87,
          95,
          138,
          112,
          118,
          104,
          117,
          109,
          129,
          128,
          111,
          111,
          102,
          115,
          113,
          143,
          157,
          128,
          130,
          122,
          136,
          142,
          130,
          183,
          111,
          127,
          113,
          93,
          96,
          100,
          150,
          137,
          124,
          121,
          95,
          116,
          129,
          125,
          157,
          150,
          137,
          124,
          116,
          98,
          108,
          105,
          120,
          134,
          158,
          142,
          154,
          176,
          159,
          132,
          90,
          85,
          107,
          198,
          150,
          170,
          154,
          145,
          135,
          110,
          91,
          95,
          90,
          104,
          138,
          214,
          200,
          160,
          139,
          142,
          140,
          142,
          137,
          107,
          156,
          157,
          127,
          137,
          153,
          117,
          114,
          115,
          121,
          100,
          176,
          179,
          120,
          104,
          122,
          118,
          110,
          102,
          107,
          141,
          113,
          110,
          134,
          130,
          135,
          147,
          140,
          150,
          223,
          176,
          101,
          113,
          117,
          109,
          129,
          117,
          76,
          90,
          94,
          91,
          145,
          150,
          136,
          122,
          128,
          165,
          178,
          126,
          119,
          128,
          124,
          140,
          130,
          128,
          155,
          168,
          130,
          150,
          146,
          140,
          120,
          107,
          141,
          151,
          88,
          98,
          128,
          127,
          110,
          158,
          125,
          130,
          125,
          115,
          179,
          171,
          170,
          150,
          149,
          113,
          124,
          162,
          123,
          111,
          105,
          113,
          113,
          99,
          100,
          169,
          155,
          123,
          144,
          140,
          121,
          147,
          138,
          95,
          93,
          123,
          138,
          117,
          125,
          103,
          83,
          103,
          160,
          113,
          135,
          140,
          156,
          131,
          126,
          111,
          101,
          97,
          91,
          91,
          153,
          112,
          120,
          103,
          160,
          148,
          119,
          167,
          200,
          125,
          150,
          127,
          157,
          169,
          142,
          124,
          116,
          160,
          98,
          160,
          120,
          112,
          179,
          214,
          154,
          150,
          199,
          122,
          120,
          114,
          109,
          151,
          98,
          110,
          106,
          136,
          155,
          105,
          105,
          121,
          111,
          115,
          133,
          153,
          130,
          121,
          110,
          140,
          150,
          110,
          120,
          141,
          130,
          120,
          128,
          121,
          147,
          115,
          123,
          125,
          130,
          95,
          101,
          117,
          110,
          118,
          119,
          110,
          140,
          138,
          157,
          119,
          202,
          97,
          114,
          116,
          115,
          114,
          119,
          116,
          113,
          148,
          140,
          192,
          171,
          111,
          100,
          101,
          108,
          111,
          138,
          214,
          105,
          135,
          121,
          120,
          104,
          113,
          124,
          100,
          112,
          87,
          80,
          80,
          84,
          83,
          95,
          119,
          65,
          126,
          100,
          120,
          102,
          118,
          125,
          125,
          126,
          125,
          170,
          87,
          95,
          138,
          112,
          118,
          164,
          104,
          109,
          129,
          128,
          125,
          109,
          111,
          111,
          102,
          115,
          103,
          113,
          131,
          96,
          93,
          107,
          170,
          145,
          135,
          105,
          110,
          91,
          95,
          104,
          105,
          147,
          140,
          122,
          132,
          109,
          105,
          150,
          129,
          130,
          107,
          122,
          155,
          191,
          153,
          160,
          209,
          116,
          67,
          150,
          170,
          119,
          149,
          117,
          120,
          143,
          147,
          150,
          134,
          91,
          150,
          136,
          95,
          208,
          117,
          109,
          100,
          115,
          160,
          90,
          129,
          140,
          156,
          131,
          126,
          126,
          97,
          91,
          91,
          131,
          140,
          160,
          128,
          126,
          138,
          103,
          119,
          76,
          180,
          167,
          150,
          127,
          129,
          164,
          94,
          170,
          76,
          150,
          125,
          116,
          160,
          117,
          129,
          112,
          112,
          179,
          154,
          160,
          223,
          101,
          199,
          122,
          120,
          118,
          114,
          157,
          151,
          98,
          104,
          136,
          120,
          91,
          106,
          101,
          147,
          145,
          150,
          155,
          175,
          160,
          150,
          146,
          130,
          94,
          105,
          105,
          121,
          111,
          115,
          133,
          125,
          130,
          130,
          127,
          110,
          125,
          110,
          150,
          130,
          110,
          120,
          130,
          120,
          121,
          123,
          120,
          95,
          101,
          117,
          110,
          112,
          119,
          110,
          140,
          138,
          140,
          119,
          202,
          124,
          144,
          138,
          129,
          114,
          104,
          114,
          116,
          115,
          119,
          135,
          116,
          148,
          122,
          148,
          115,
          140,
          164,
          171,
          111,
          100,
          144,
          124,
          136,
          108,
          138,
          135,
          121,
          122,
          118,
          110,
          113,
          102,
          85,
          112,
          143,
          80,
          167,
          95,
          96,
          119,
          100,
          120,
          118,
          125,
          125,
          121,
          104,
          126,
          108,
          130,
          138,
          113,
          112,
          104,
          117,
          109,
          129,
          128,
          125,
          76,
          116,
          109,
          140,
          108,
          129,
          148,
          115,
          111,
          125,
          102,
          115,
          100,
          131,
          143,
          130,
          125,
          93,
          177,
          198,
          150,
          170,
          154,
          139,
          105,
          91,
          95,
          90,
          104,
          105,
          147,
          150,
          122,
          132,
          109,
          105,
          113,
          129,
          117,
          107,
          155,
          191,
          209,
          138,
          150,
          170,
          119,
          117,
          119,
          149,
          117,
          120,
          143,
          150,
          220,
          128,
          90,
          94,
          91,
          109,
          120,
          92,
          91,
          112,
          95,
          93,
          117,
          123,
          117,
          109,
          157,
          105,
          135,
          115,
          125,
          168,
          117,
          157
         ],
         "yaxis": "y"
        }
       ],
       "layout": {
        "legend": {
         "title": {
          "text": "Result"
         },
         "tracegroupgap": 0
        },
        "template": {
         "data": {
          "bar": [
           {
            "error_x": {
             "color": "#2a3f5f"
            },
            "error_y": {
             "color": "#2a3f5f"
            },
            "marker": {
             "line": {
              "color": "#E5ECF6",
              "width": 0.5
             },
             "pattern": {
              "fillmode": "overlay",
              "size": 10,
              "solidity": 0.2
             }
            },
            "type": "bar"
           }
          ],
          "barpolar": [
           {
            "marker": {
             "line": {
              "color": "#E5ECF6",
              "width": 0.5
             },
             "pattern": {
              "fillmode": "overlay",
              "size": 10,
              "solidity": 0.2
             }
            },
            "type": "barpolar"
           }
          ],
          "carpet": [
           {
            "aaxis": {
             "endlinecolor": "#2a3f5f",
             "gridcolor": "white",
             "linecolor": "white",
             "minorgridcolor": "white",
             "startlinecolor": "#2a3f5f"
            },
            "baxis": {
             "endlinecolor": "#2a3f5f",
             "gridcolor": "white",
             "linecolor": "white",
             "minorgridcolor": "white",
             "startlinecolor": "#2a3f5f"
            },
            "type": "carpet"
           }
          ],
          "choropleth": [
           {
            "colorbar": {
             "outlinewidth": 0,
             "ticks": ""
            },
            "type": "choropleth"
           }
          ],
          "contour": [
           {
            "colorbar": {
             "outlinewidth": 0,
             "ticks": ""
            },
            "colorscale": [
             [
              0,
              "#0d0887"
             ],
             [
              0.1111111111111111,
              "#46039f"
             ],
             [
              0.2222222222222222,
              "#7201a8"
             ],
             [
              0.3333333333333333,
              "#9c179e"
             ],
             [
              0.4444444444444444,
              "#bd3786"
             ],
             [
              0.5555555555555556,
              "#d8576b"
             ],
             [
              0.6666666666666666,
              "#ed7953"
             ],
             [
              0.7777777777777778,
              "#fb9f3a"
             ],
             [
              0.8888888888888888,
              "#fdca26"
             ],
             [
              1,
              "#f0f921"
             ]
            ],
            "type": "contour"
           }
          ],
          "contourcarpet": [
           {
            "colorbar": {
             "outlinewidth": 0,
             "ticks": ""
            },
            "type": "contourcarpet"
           }
          ],
          "heatmap": [
           {
            "colorbar": {
             "outlinewidth": 0,
             "ticks": ""
            },
            "colorscale": [
             [
              0,
              "#0d0887"
             ],
             [
              0.1111111111111111,
              "#46039f"
             ],
             [
              0.2222222222222222,
              "#7201a8"
             ],
             [
              0.3333333333333333,
              "#9c179e"
             ],
             [
              0.4444444444444444,
              "#bd3786"
             ],
             [
              0.5555555555555556,
              "#d8576b"
             ],
             [
              0.6666666666666666,
              "#ed7953"
             ],
             [
              0.7777777777777778,
              "#fb9f3a"
             ],
             [
              0.8888888888888888,
              "#fdca26"
             ],
             [
              1,
              "#f0f921"
             ]
            ],
            "type": "heatmap"
           }
          ],
          "heatmapgl": [
           {
            "colorbar": {
             "outlinewidth": 0,
             "ticks": ""
            },
            "colorscale": [
             [
              0,
              "#0d0887"
             ],
             [
              0.1111111111111111,
              "#46039f"
             ],
             [
              0.2222222222222222,
              "#7201a8"
             ],
             [
              0.3333333333333333,
              "#9c179e"
             ],
             [
              0.4444444444444444,
              "#bd3786"
             ],
             [
              0.5555555555555556,
              "#d8576b"
             ],
             [
              0.6666666666666666,
              "#ed7953"
             ],
             [
              0.7777777777777778,
              "#fb9f3a"
             ],
             [
              0.8888888888888888,
              "#fdca26"
             ],
             [
              1,
              "#f0f921"
             ]
            ],
            "type": "heatmapgl"
           }
          ],
          "histogram": [
           {
            "marker": {
             "pattern": {
              "fillmode": "overlay",
              "size": 10,
              "solidity": 0.2
             }
            },
            "type": "histogram"
           }
          ],
          "histogram2d": [
           {
            "colorbar": {
             "outlinewidth": 0,
             "ticks": ""
            },
            "colorscale": [
             [
              0,
              "#0d0887"
             ],
             [
              0.1111111111111111,
              "#46039f"
             ],
             [
              0.2222222222222222,
              "#7201a8"
             ],
             [
              0.3333333333333333,
              "#9c179e"
             ],
             [
              0.4444444444444444,
              "#bd3786"
             ],
             [
              0.5555555555555556,
              "#d8576b"
             ],
             [
              0.6666666666666666,
              "#ed7953"
             ],
             [
              0.7777777777777778,
              "#fb9f3a"
             ],
             [
              0.8888888888888888,
              "#fdca26"
             ],
             [
              1,
              "#f0f921"
             ]
            ],
            "type": "histogram2d"
           }
          ],
          "histogram2dcontour": [
           {
            "colorbar": {
             "outlinewidth": 0,
             "ticks": ""
            },
            "colorscale": [
             [
              0,
              "#0d0887"
             ],
             [
              0.1111111111111111,
              "#46039f"
             ],
             [
              0.2222222222222222,
              "#7201a8"
             ],
             [
              0.3333333333333333,
              "#9c179e"
             ],
             [
              0.4444444444444444,
              "#bd3786"
             ],
             [
              0.5555555555555556,
              "#d8576b"
             ],
             [
              0.6666666666666666,
              "#ed7953"
             ],
             [
              0.7777777777777778,
              "#fb9f3a"
             ],
             [
              0.8888888888888888,
              "#fdca26"
             ],
             [
              1,
              "#f0f921"
             ]
            ],
            "type": "histogram2dcontour"
           }
          ],
          "mesh3d": [
           {
            "colorbar": {
             "outlinewidth": 0,
             "ticks": ""
            },
            "type": "mesh3d"
           }
          ],
          "parcoords": [
           {
            "line": {
             "colorbar": {
              "outlinewidth": 0,
              "ticks": ""
             }
            },
            "type": "parcoords"
           }
          ],
          "pie": [
           {
            "automargin": true,
            "type": "pie"
           }
          ],
          "scatter": [
           {
            "fillpattern": {
             "fillmode": "overlay",
             "size": 10,
             "solidity": 0.2
            },
            "type": "scatter"
           }
          ],
          "scatter3d": [
           {
            "line": {
             "colorbar": {
              "outlinewidth": 0,
              "ticks": ""
             }
            },
            "marker": {
             "colorbar": {
              "outlinewidth": 0,
              "ticks": ""
             }
            },
            "type": "scatter3d"
           }
          ],
          "scattercarpet": [
           {
            "marker": {
             "colorbar": {
              "outlinewidth": 0,
              "ticks": ""
             }
            },
            "type": "scattercarpet"
           }
          ],
          "scattergeo": [
           {
            "marker": {
             "colorbar": {
              "outlinewidth": 0,
              "ticks": ""
             }
            },
            "type": "scattergeo"
           }
          ],
          "scattergl": [
           {
            "marker": {
             "colorbar": {
              "outlinewidth": 0,
              "ticks": ""
             }
            },
            "type": "scattergl"
           }
          ],
          "scattermapbox": [
           {
            "marker": {
             "colorbar": {
              "outlinewidth": 0,
              "ticks": ""
             }
            },
            "type": "scattermapbox"
           }
          ],
          "scatterpolar": [
           {
            "marker": {
             "colorbar": {
              "outlinewidth": 0,
              "ticks": ""
             }
            },
            "type": "scatterpolar"
           }
          ],
          "scatterpolargl": [
           {
            "marker": {
             "colorbar": {
              "outlinewidth": 0,
              "ticks": ""
             }
            },
            "type": "scatterpolargl"
           }
          ],
          "scatterternary": [
           {
            "marker": {
             "colorbar": {
              "outlinewidth": 0,
              "ticks": ""
             }
            },
            "type": "scatterternary"
           }
          ],
          "surface": [
           {
            "colorbar": {
             "outlinewidth": 0,
             "ticks": ""
            },
            "colorscale": [
             [
              0,
              "#0d0887"
             ],
             [
              0.1111111111111111,
              "#46039f"
             ],
             [
              0.2222222222222222,
              "#7201a8"
             ],
             [
              0.3333333333333333,
              "#9c179e"
             ],
             [
              0.4444444444444444,
              "#bd3786"
             ],
             [
              0.5555555555555556,
              "#d8576b"
             ],
             [
              0.6666666666666666,
              "#ed7953"
             ],
             [
              0.7777777777777778,
              "#fb9f3a"
             ],
             [
              0.8888888888888888,
              "#fdca26"
             ],
             [
              1,
              "#f0f921"
             ]
            ],
            "type": "surface"
           }
          ],
          "table": [
           {
            "cells": {
             "fill": {
              "color": "#EBF0F8"
             },
             "line": {
              "color": "white"
             }
            },
            "header": {
             "fill": {
              "color": "#C8D4E3"
             },
             "line": {
              "color": "white"
             }
            },
            "type": "table"
           }
          ]
         },
         "layout": {
          "annotationdefaults": {
           "arrowcolor": "#2a3f5f",
           "arrowhead": 0,
           "arrowwidth": 1
          },
          "autotypenumbers": "strict",
          "coloraxis": {
           "colorbar": {
            "outlinewidth": 0,
            "ticks": ""
           }
          },
          "colorscale": {
           "diverging": [
            [
             0,
             "#8e0152"
            ],
            [
             0.1,
             "#c51b7d"
            ],
            [
             0.2,
             "#de77ae"
            ],
            [
             0.3,
             "#f1b6da"
            ],
            [
             0.4,
             "#fde0ef"
            ],
            [
             0.5,
             "#f7f7f7"
            ],
            [
             0.6,
             "#e6f5d0"
            ],
            [
             0.7,
             "#b8e186"
            ],
            [
             0.8,
             "#7fbc41"
            ],
            [
             0.9,
             "#4d9221"
            ],
            [
             1,
             "#276419"
            ]
           ],
           "sequential": [
            [
             0,
             "#0d0887"
            ],
            [
             0.1111111111111111,
             "#46039f"
            ],
            [
             0.2222222222222222,
             "#7201a8"
            ],
            [
             0.3333333333333333,
             "#9c179e"
            ],
            [
             0.4444444444444444,
             "#bd3786"
            ],
            [
             0.5555555555555556,
             "#d8576b"
            ],
            [
             0.6666666666666666,
             "#ed7953"
            ],
            [
             0.7777777777777778,
             "#fb9f3a"
            ],
            [
             0.8888888888888888,
             "#fdca26"
            ],
            [
             1,
             "#f0f921"
            ]
           ],
           "sequentialminus": [
            [
             0,
             "#0d0887"
            ],
            [
             0.1111111111111111,
             "#46039f"
            ],
            [
             0.2222222222222222,
             "#7201a8"
            ],
            [
             0.3333333333333333,
             "#9c179e"
            ],
            [
             0.4444444444444444,
             "#bd3786"
            ],
            [
             0.5555555555555556,
             "#d8576b"
            ],
            [
             0.6666666666666666,
             "#ed7953"
            ],
            [
             0.7777777777777778,
             "#fb9f3a"
            ],
            [
             0.8888888888888888,
             "#fdca26"
            ],
            [
             1,
             "#f0f921"
            ]
           ]
          },
          "colorway": [
           "#636efa",
           "#EF553B",
           "#00cc96",
           "#ab63fa",
           "#FFA15A",
           "#19d3f3",
           "#FF6692",
           "#B6E880",
           "#FF97FF",
           "#FECB52"
          ],
          "font": {
           "color": "#2a3f5f"
          },
          "geo": {
           "bgcolor": "white",
           "lakecolor": "white",
           "landcolor": "#E5ECF6",
           "showlakes": true,
           "showland": true,
           "subunitcolor": "white"
          },
          "hoverlabel": {
           "align": "left"
          },
          "hovermode": "closest",
          "mapbox": {
           "style": "light"
          },
          "paper_bgcolor": "white",
          "plot_bgcolor": "#E5ECF6",
          "polar": {
           "angularaxis": {
            "gridcolor": "white",
            "linecolor": "white",
            "ticks": ""
           },
           "bgcolor": "#E5ECF6",
           "radialaxis": {
            "gridcolor": "white",
            "linecolor": "white",
            "ticks": ""
           }
          },
          "scene": {
           "xaxis": {
            "backgroundcolor": "#E5ECF6",
            "gridcolor": "white",
            "gridwidth": 2,
            "linecolor": "white",
            "showbackground": true,
            "ticks": "",
            "zerolinecolor": "white"
           },
           "yaxis": {
            "backgroundcolor": "#E5ECF6",
            "gridcolor": "white",
            "gridwidth": 2,
            "linecolor": "white",
            "showbackground": true,
            "ticks": "",
            "zerolinecolor": "white"
           },
           "zaxis": {
            "backgroundcolor": "#E5ECF6",
            "gridcolor": "white",
            "gridwidth": 2,
            "linecolor": "white",
            "showbackground": true,
            "ticks": "",
            "zerolinecolor": "white"
           }
          },
          "shapedefaults": {
           "line": {
            "color": "#2a3f5f"
           }
          },
          "ternary": {
           "aaxis": {
            "gridcolor": "white",
            "linecolor": "white",
            "ticks": ""
           },
           "baxis": {
            "gridcolor": "white",
            "linecolor": "white",
            "ticks": ""
           },
           "bgcolor": "#E5ECF6",
           "caxis": {
            "gridcolor": "white",
            "linecolor": "white",
            "ticks": ""
           }
          },
          "title": {
           "x": 0.05
          },
          "xaxis": {
           "automargin": true,
           "gridcolor": "white",
           "linecolor": "white",
           "ticks": "",
           "title": {
            "standoff": 15
           },
           "zerolinecolor": "white",
           "zerolinewidth": 2
          },
          "yaxis": {
           "automargin": true,
           "gridcolor": "white",
           "linecolor": "white",
           "ticks": "",
           "title": {
            "standoff": 15
           },
           "zerolinecolor": "white",
           "zerolinewidth": 2
          }
         }
        },
        "title": {
         "text": "Idade vs Pressão Sistólica por Resultado"
        },
        "xaxis": {
         "anchor": "y",
         "domain": [
          0,
          1
         ],
         "title": {
          "text": "Idade"
         }
        },
        "yaxis": {
         "anchor": "x",
         "domain": [
          0,
          1
         ],
         "title": {
          "text": "Pressão Sistólica"
         }
        }
       }
      }
     },
     "metadata": {},
     "output_type": "display_data"
    }
   ],
   "source": [
    "# Gráfico interativo: Idade vs Pressão Sistólica, colorido por Result\n",
    "fig = px.scatter(df, x='Age', y='Systolic blood pressure', color='Result',\n",
    "                 title='Idade vs Pressão Sistólica por Resultado',\n",
    "                 labels={'Age': 'Idade', 'Systolic blood pressure': 'Pressão Sistólica'},\n",
    "                 hover_data=['Blood sugar'])\n",
    "fig.show()"
   ]
  },
  {
   "cell_type": "markdown",
   "id": "215234fb",
   "metadata": {},
   "source": [
    "**Conclusão possível:**\n",
    "\n",
    "- O gráfico mostra a relação entre idade e pressão sistólica, destacando que pacientes positivos tendem a se concentrar em faixas de maior idade e pressão.\n",
    "- Permite identificar agrupamentos e possíveis outliers, além de explorar a glicose de cada paciente ao passar o mouse."
   ]
  },
  {
   "cell_type": "code",
   "execution_count": 45,
   "id": "4e9991cc",
   "metadata": {},
   "outputs": [
    {
     "data": {
      "application/vnd.plotly.v1+json": {
       "config": {
        "plotlyServerURL": "https://plot.ly"
       },
       "data": [
        {
         "alignmentgroup": "True",
         "hovertemplate": "Resultado=%{x}<br>Glicose=%{y}<extra></extra>",
         "legendgroup": "negative",
         "marker": {
          "color": "#636efa"
         },
         "name": "negative",
         "notched": false,
         "offsetgroup": "negative",
         "orientation": "v",
         "showlegend": true,
         "type": "box",
         "x": [
          "negative",
          "negative",
          "negative",
          "negative",
          "negative",
          "negative",
          "negative",
          "negative",
          "negative",
          "negative",
          "negative",
          "negative",
          "negative",
          "negative",
          "negative",
          "negative",
          "negative",
          "negative",
          "negative",
          "negative",
          "negative",
          "negative",
          "negative",
          "negative",
          "negative",
          "negative",
          "negative",
          "negative",
          "negative",
          "negative",
          "negative",
          "negative",
          "negative",
          "negative",
          "negative",
          "negative",
          "negative",
          "negative",
          "negative",
          "negative",
          "negative",
          "negative",
          "negative",
          "negative",
          "negative",
          "negative",
          "negative",
          "negative",
          "negative",
          "negative",
          "negative",
          "negative",
          "negative",
          "negative",
          "negative",
          "negative",
          "negative",
          "negative",
          "negative",
          "negative",
          "negative",
          "negative",
          "negative",
          "negative",
          "negative",
          "negative",
          "negative",
          "negative",
          "negative",
          "negative",
          "negative",
          "negative",
          "negative",
          "negative",
          "negative",
          "negative",
          "negative",
          "negative",
          "negative",
          "negative",
          "negative",
          "negative",
          "negative",
          "negative",
          "negative",
          "negative",
          "negative",
          "negative",
          "negative",
          "negative",
          "negative",
          "negative",
          "negative",
          "negative",
          "negative",
          "negative",
          "negative",
          "negative",
          "negative",
          "negative",
          "negative",
          "negative",
          "negative",
          "negative",
          "negative",
          "negative",
          "negative",
          "negative",
          "negative",
          "negative",
          "negative",
          "negative",
          "negative",
          "negative",
          "negative",
          "negative",
          "negative",
          "negative",
          "negative",
          "negative",
          "negative",
          "negative",
          "negative",
          "negative",
          "negative",
          "negative",
          "negative",
          "negative",
          "negative",
          "negative",
          "negative",
          "negative",
          "negative",
          "negative",
          "negative",
          "negative",
          "negative",
          "negative",
          "negative",
          "negative",
          "negative",
          "negative",
          "negative",
          "negative",
          "negative",
          "negative",
          "negative",
          "negative",
          "negative",
          "negative",
          "negative",
          "negative",
          "negative",
          "negative",
          "negative",
          "negative",
          "negative",
          "negative",
          "negative",
          "negative",
          "negative",
          "negative",
          "negative",
          "negative",
          "negative",
          "negative",
          "negative",
          "negative",
          "negative",
          "negative",
          "negative",
          "negative",
          "negative",
          "negative",
          "negative",
          "negative",
          "negative",
          "negative",
          "negative",
          "negative",
          "negative",
          "negative",
          "negative",
          "negative",
          "negative",
          "negative",
          "negative",
          "negative",
          "negative",
          "negative",
          "negative",
          "negative",
          "negative",
          "negative",
          "negative",
          "negative",
          "negative",
          "negative",
          "negative",
          "negative",
          "negative",
          "negative",
          "negative",
          "negative",
          "negative",
          "negative",
          "negative",
          "negative",
          "negative",
          "negative",
          "negative",
          "negative",
          "negative",
          "negative",
          "negative",
          "negative",
          "negative",
          "negative",
          "negative",
          "negative",
          "negative",
          "negative",
          "negative",
          "negative",
          "negative",
          "negative",
          "negative",
          "negative",
          "negative",
          "negative",
          "negative",
          "negative",
          "negative",
          "negative",
          "negative",
          "negative",
          "negative",
          "negative",
          "negative",
          "negative",
          "negative",
          "negative",
          "negative",
          "negative",
          "negative",
          "negative",
          "negative",
          "negative",
          "negative",
          "negative",
          "negative",
          "negative",
          "negative",
          "negative",
          "negative",
          "negative",
          "negative",
          "negative",
          "negative",
          "negative",
          "negative",
          "negative",
          "negative",
          "negative",
          "negative",
          "negative",
          "negative",
          "negative",
          "negative",
          "negative",
          "negative",
          "negative",
          "negative",
          "negative",
          "negative",
          "negative",
          "negative",
          "negative",
          "negative",
          "negative",
          "negative",
          "negative",
          "negative",
          "negative",
          "negative",
          "negative",
          "negative",
          "negative",
          "negative",
          "negative",
          "negative",
          "negative",
          "negative",
          "negative",
          "negative",
          "negative",
          "negative",
          "negative",
          "negative",
          "negative",
          "negative",
          "negative",
          "negative",
          "negative",
          "negative",
          "negative",
          "negative",
          "negative",
          "negative",
          "negative",
          "negative",
          "negative",
          "negative",
          "negative",
          "negative",
          "negative",
          "negative",
          "negative",
          "negative",
          "negative",
          "negative",
          "negative",
          "negative",
          "negative",
          "negative",
          "negative",
          "negative",
          "negative",
          "negative",
          "negative",
          "negative",
          "negative",
          "negative",
          "negative",
          "negative",
          "negative",
          "negative",
          "negative",
          "negative",
          "negative",
          "negative",
          "negative",
          "negative",
          "negative",
          "negative",
          "negative",
          "negative",
          "negative",
          "negative",
          "negative",
          "negative",
          "negative",
          "negative",
          "negative",
          "negative",
          "negative",
          "negative",
          "negative",
          "negative",
          "negative",
          "negative",
          "negative",
          "negative",
          "negative",
          "negative",
          "negative",
          "negative",
          "negative",
          "negative",
          "negative",
          "negative",
          "negative",
          "negative",
          "negative",
          "negative",
          "negative",
          "negative",
          "negative",
          "negative",
          "negative",
          "negative",
          "negative",
          "negative",
          "negative",
          "negative",
          "negative",
          "negative",
          "negative",
          "negative",
          "negative",
          "negative",
          "negative",
          "negative",
          "negative",
          "negative",
          "negative",
          "negative",
          "negative",
          "negative",
          "negative",
          "negative",
          "negative",
          "negative",
          "negative",
          "negative",
          "negative",
          "negative",
          "negative",
          "negative",
          "negative",
          "negative",
          "negative",
          "negative",
          "negative",
          "negative",
          "negative",
          "negative",
          "negative",
          "negative",
          "negative",
          "negative",
          "negative",
          "negative",
          "negative",
          "negative",
          "negative",
          "negative",
          "negative",
          "negative",
          "negative",
          "negative",
          "negative",
          "negative",
          "negative",
          "negative",
          "negative",
          "negative",
          "negative",
          "negative",
          "negative",
          "negative",
          "negative",
          "negative",
          "negative",
          "negative",
          "negative",
          "negative",
          "negative",
          "negative",
          "negative",
          "negative",
          "negative",
          "negative",
          "negative",
          "negative",
          "negative",
          "negative",
          "negative",
          "negative",
          "negative",
          "negative",
          "negative",
          "negative",
          "negative",
          "negative",
          "negative",
          "negative",
          "negative",
          "negative",
          "negative",
          "negative",
          "negative",
          "negative",
          "negative",
          "negative",
          "negative",
          "negative",
          "negative",
          "negative",
          "negative",
          "negative",
          "negative",
          "negative",
          "negative",
          "negative",
          "negative",
          "negative",
          "negative",
          "negative",
          "negative",
          "negative",
          "negative",
          "negative",
          "negative",
          "negative",
          "negative",
          "negative",
          "negative",
          "negative",
          "negative",
          "negative",
          "negative",
          "negative",
          "negative",
          "negative",
          "negative",
          "negative",
          "negative",
          "negative"
         ],
         "x0": " ",
         "xaxis": "x",
         "y": [
          160,
          270,
          300,
          87,
          102,
          135,
          100,
          102,
          198,
          97,
          319,
          96,
          274,
          301,
          101,
          95,
          166,
          321,
          105,
          117,
          107,
          120,
          208,
          125,
          238,
          96,
          133,
          113,
          91,
          96,
          149,
          101,
          112,
          123,
          86,
          125,
          392,
          87,
          193,
          85,
          181,
          387,
          142,
          101,
          130,
          120,
          94,
          322,
          105,
          89,
          109,
          362,
          97,
          98,
          82,
          110,
          180,
          92,
          116,
          90,
          127,
          109,
          131,
          84,
          95,
          111,
          242,
          197,
          152,
          169,
          104,
          117,
          103,
          102,
          99,
          165,
          321,
          109,
          96,
          80,
          95,
          195,
          150,
          194,
          104,
          85,
          95,
          106,
          422,
          100,
          187,
          189,
          188,
          98,
          101,
          96,
          129,
          96,
          200,
          110,
          140,
          109,
          159,
          122,
          217,
          98,
          154,
          221,
          103,
          94,
          140,
          87,
          382,
          125,
          175,
          92,
          105,
          94,
          103,
          203,
          93,
          108,
          130,
          431,
          92,
          166,
          113,
          118,
          77,
          126,
          100,
          103,
          94,
          111,
          113,
          104,
          118,
          111,
          100,
          86,
          108,
          225,
          168,
          131,
          102,
          87,
          98,
          105,
          66,
          77,
          100,
          188,
          114,
          415,
          202,
          351,
          96,
          443,
          98,
          144,
          99,
          77,
          215,
          200,
          85,
          177,
          190,
          92,
          134,
          93,
          76,
          107,
          87,
          93,
          404,
          92,
          238,
          100,
          210,
          117,
          207,
          196,
          136,
          169,
          96,
          117,
          160,
          98,
          227,
          100,
          161,
          342,
          107,
          84,
          94,
          122,
          135,
          100,
          161,
          140,
          123,
          91,
          145,
          143,
          249,
          185,
          84,
          165,
          244,
          324,
          83,
          60,
          128,
          150,
          346,
          93,
          105,
          195,
          151,
          85,
          122,
          135,
          113,
          148,
          162,
          184,
          109,
          204,
          96,
          99,
          294,
          93,
          90,
          99,
          107,
          98,
          143,
          294,
          126,
          111,
          102,
          79,
          159,
          89,
          277,
          114,
          102,
          89,
          82,
          126,
          151,
          162,
          119,
          104,
          74,
          82,
          98,
          109,
          112,
          294,
          105,
          231,
          88,
          90,
          67,
          98,
          154,
          97,
          97,
          100,
          161,
          202,
          96,
          87,
          125,
          108,
          98,
          108,
          174,
          92,
          246.7,
          99,
          101,
          202,
          391,
          184,
          94,
          99,
          180,
          136,
          197,
          252,
          166,
          98,
          120,
          224,
          69,
          117,
          162,
          101,
          82,
          109,
          81,
          98,
          253,
          92,
          217,
          147,
          101,
          92,
          108,
          93,
          123,
          107,
          104,
          90,
          134,
          150,
          169,
          143,
          121,
          122,
          406,
          206,
          109,
          151,
          259,
          95,
          92,
          263,
          120,
          206,
          155,
          127,
          274,
          97,
          180,
          129,
          206,
          121,
          117,
          161,
          111,
          104,
          250,
          99,
          89,
          133,
          188,
          114,
          111,
          100,
          285,
          79,
          93,
          147,
          192,
          120,
          108,
          201,
          331,
          117,
          102,
          97,
          319,
          274,
          89,
          301,
          100,
          227,
          111,
          95,
          98,
          105,
          117,
          208,
          125,
          93,
          228,
          238,
          114,
          96,
          87,
          191,
          334,
          201,
          85,
          90,
          125,
          147,
          222,
          219,
          189,
          85,
          111,
          181,
          387,
          294,
          240,
          115,
          266,
          142,
          244,
          103,
          94,
          83,
          241,
          318,
          93,
          166,
          89,
          187,
          116,
          98,
          82,
          180,
          92,
          93,
          116,
          90,
          127,
          109,
          227,
          95,
          242,
          152,
          347,
          98,
          102,
          99,
          215,
          106,
          195,
          112,
          94,
          133,
          102,
          115,
          85,
          462,
          100,
          422,
          100,
          245,
          168,
          101,
          189,
          129,
          200,
          110,
          140,
          122,
          382,
          217,
          94,
          112,
          102,
          88,
          221,
          104,
          186,
          94,
          140,
          152,
          222,
          68,
          125,
          104,
          94,
          177,
          94,
          202,
          142,
          118,
          77,
          184,
          246,
          96,
          94,
          202,
          104,
          118,
          230,
          111,
          108,
          125,
          114,
          106,
          368,
          408,
          100,
          302,
          141,
          99,
          90,
          145,
          541,
          105,
          77,
          78,
          100,
          208,
          80,
          141,
          108,
          202,
          96,
          147,
          204
         ],
         "y0": " ",
         "yaxis": "y"
        },
        {
         "alignmentgroup": "True",
         "hovertemplate": "Resultado=%{x}<br>Glicose=%{y}<extra></extra>",
         "legendgroup": "positive",
         "marker": {
          "color": "#EF553B"
         },
         "name": "positive",
         "notched": false,
         "offsetgroup": "positive",
         "orientation": "v",
         "showlegend": true,
         "type": "box",
         "x": [
          "positive",
          "positive",
          "positive",
          "positive",
          "positive",
          "positive",
          "positive",
          "positive",
          "positive",
          "positive",
          "positive",
          "positive",
          "positive",
          "positive",
          "positive",
          "positive",
          "positive",
          "positive",
          "positive",
          "positive",
          "positive",
          "positive",
          "positive",
          "positive",
          "positive",
          "positive",
          "positive",
          "positive",
          "positive",
          "positive",
          "positive",
          "positive",
          "positive",
          "positive",
          "positive",
          "positive",
          "positive",
          "positive",
          "positive",
          "positive",
          "positive",
          "positive",
          "positive",
          "positive",
          "positive",
          "positive",
          "positive",
          "positive",
          "positive",
          "positive",
          "positive",
          "positive",
          "positive",
          "positive",
          "positive",
          "positive",
          "positive",
          "positive",
          "positive",
          "positive",
          "positive",
          "positive",
          "positive",
          "positive",
          "positive",
          "positive",
          "positive",
          "positive",
          "positive",
          "positive",
          "positive",
          "positive",
          "positive",
          "positive",
          "positive",
          "positive",
          "positive",
          "positive",
          "positive",
          "positive",
          "positive",
          "positive",
          "positive",
          "positive",
          "positive",
          "positive",
          "positive",
          "positive",
          "positive",
          "positive",
          "positive",
          "positive",
          "positive",
          "positive",
          "positive",
          "positive",
          "positive",
          "positive",
          "positive",
          "positive",
          "positive",
          "positive",
          "positive",
          "positive",
          "positive",
          "positive",
          "positive",
          "positive",
          "positive",
          "positive",
          "positive",
          "positive",
          "positive",
          "positive",
          "positive",
          "positive",
          "positive",
          "positive",
          "positive",
          "positive",
          "positive",
          "positive",
          "positive",
          "positive",
          "positive",
          "positive",
          "positive",
          "positive",
          "positive",
          "positive",
          "positive",
          "positive",
          "positive",
          "positive",
          "positive",
          "positive",
          "positive",
          "positive",
          "positive",
          "positive",
          "positive",
          "positive",
          "positive",
          "positive",
          "positive",
          "positive",
          "positive",
          "positive",
          "positive",
          "positive",
          "positive",
          "positive",
          "positive",
          "positive",
          "positive",
          "positive",
          "positive",
          "positive",
          "positive",
          "positive",
          "positive",
          "positive",
          "positive",
          "positive",
          "positive",
          "positive",
          "positive",
          "positive",
          "positive",
          "positive",
          "positive",
          "positive",
          "positive",
          "positive",
          "positive",
          "positive",
          "positive",
          "positive",
          "positive",
          "positive",
          "positive",
          "positive",
          "positive",
          "positive",
          "positive",
          "positive",
          "positive",
          "positive",
          "positive",
          "positive",
          "positive",
          "positive",
          "positive",
          "positive",
          "positive",
          "positive",
          "positive",
          "positive",
          "positive",
          "positive",
          "positive",
          "positive",
          "positive",
          "positive",
          "positive",
          "positive",
          "positive",
          "positive",
          "positive",
          "positive",
          "positive",
          "positive",
          "positive",
          "positive",
          "positive",
          "positive",
          "positive",
          "positive",
          "positive",
          "positive",
          "positive",
          "positive",
          "positive",
          "positive",
          "positive",
          "positive",
          "positive",
          "positive",
          "positive",
          "positive",
          "positive",
          "positive",
          "positive",
          "positive",
          "positive",
          "positive",
          "positive",
          "positive",
          "positive",
          "positive",
          "positive",
          "positive",
          "positive",
          "positive",
          "positive",
          "positive",
          "positive",
          "positive",
          "positive",
          "positive",
          "positive",
          "positive",
          "positive",
          "positive",
          "positive",
          "positive",
          "positive",
          "positive",
          "positive",
          "positive",
          "positive",
          "positive",
          "positive",
          "positive",
          "positive",
          "positive",
          "positive",
          "positive",
          "positive",
          "positive",
          "positive",
          "positive",
          "positive",
          "positive",
          "positive",
          "positive",
          "positive",
          "positive",
          "positive",
          "positive",
          "positive",
          "positive",
          "positive",
          "positive",
          "positive",
          "positive",
          "positive",
          "positive",
          "positive",
          "positive",
          "positive",
          "positive",
          "positive",
          "positive",
          "positive",
          "positive",
          "positive",
          "positive",
          "positive",
          "positive",
          "positive",
          "positive",
          "positive",
          "positive",
          "positive",
          "positive",
          "positive",
          "positive",
          "positive",
          "positive",
          "positive",
          "positive",
          "positive",
          "positive",
          "positive",
          "positive",
          "positive",
          "positive",
          "positive",
          "positive",
          "positive",
          "positive",
          "positive",
          "positive",
          "positive",
          "positive",
          "positive",
          "positive",
          "positive",
          "positive",
          "positive",
          "positive",
          "positive",
          "positive",
          "positive",
          "positive",
          "positive",
          "positive",
          "positive",
          "positive",
          "positive",
          "positive",
          "positive",
          "positive",
          "positive",
          "positive",
          "positive",
          "positive",
          "positive",
          "positive",
          "positive",
          "positive",
          "positive",
          "positive",
          "positive",
          "positive",
          "positive",
          "positive",
          "positive",
          "positive",
          "positive",
          "positive",
          "positive",
          "positive",
          "positive",
          "positive",
          "positive",
          "positive",
          "positive",
          "positive",
          "positive",
          "positive",
          "positive",
          "positive",
          "positive",
          "positive",
          "positive",
          "positive",
          "positive",
          "positive",
          "positive",
          "positive",
          "positive",
          "positive",
          "positive",
          "positive",
          "positive",
          "positive",
          "positive",
          "positive",
          "positive",
          "positive",
          "positive",
          "positive",
          "positive",
          "positive",
          "positive",
          "positive",
          "positive",
          "positive",
          "positive",
          "positive",
          "positive",
          "positive",
          "positive",
          "positive",
          "positive",
          "positive",
          "positive",
          "positive",
          "positive",
          "positive",
          "positive",
          "positive",
          "positive",
          "positive",
          "positive",
          "positive",
          "positive",
          "positive",
          "positive",
          "positive",
          "positive",
          "positive",
          "positive",
          "positive",
          "positive",
          "positive",
          "positive",
          "positive",
          "positive",
          "positive",
          "positive",
          "positive",
          "positive",
          "positive",
          "positive",
          "positive",
          "positive",
          "positive",
          "positive",
          "positive",
          "positive",
          "positive",
          "positive",
          "positive",
          "positive",
          "positive",
          "positive",
          "positive",
          "positive",
          "positive",
          "positive",
          "positive",
          "positive",
          "positive",
          "positive",
          "positive",
          "positive",
          "positive",
          "positive",
          "positive",
          "positive",
          "positive",
          "positive",
          "positive",
          "positive",
          "positive",
          "positive",
          "positive",
          "positive",
          "positive",
          "positive",
          "positive",
          "positive",
          "positive",
          "positive",
          "positive",
          "positive",
          "positive",
          "positive",
          "positive",
          "positive",
          "positive",
          "positive",
          "positive",
          "positive",
          "positive",
          "positive",
          "positive",
          "positive",
          "positive",
          "positive",
          "positive",
          "positive",
          "positive",
          "positive",
          "positive",
          "positive",
          "positive",
          "positive",
          "positive",
          "positive",
          "positive",
          "positive",
          "positive",
          "positive",
          "positive",
          "positive",
          "positive",
          "positive",
          "positive",
          "positive",
          "positive",
          "positive",
          "positive",
          "positive",
          "positive",
          "positive",
          "positive",
          "positive",
          "positive",
          "positive",
          "positive",
          "positive",
          "positive",
          "positive",
          "positive",
          "positive",
          "positive",
          "positive",
          "positive",
          "positive",
          "positive",
          "positive",
          "positive",
          "positive",
          "positive",
          "positive",
          "positive",
          "positive",
          "positive",
          "positive",
          "positive",
          "positive",
          "positive",
          "positive",
          "positive",
          "positive",
          "positive",
          "positive",
          "positive",
          "positive",
          "positive",
          "positive",
          "positive",
          "positive",
          "positive",
          "positive",
          "positive",
          "positive",
          "positive",
          "positive",
          "positive",
          "positive",
          "positive",
          "positive",
          "positive",
          "positive",
          "positive",
          "positive",
          "positive",
          "positive",
          "positive",
          "positive",
          "positive",
          "positive",
          "positive",
          "positive",
          "positive",
          "positive",
          "positive",
          "positive",
          "positive",
          "positive",
          "positive",
          "positive",
          "positive",
          "positive",
          "positive",
          "positive",
          "positive",
          "positive",
          "positive",
          "positive",
          "positive",
          "positive",
          "positive",
          "positive",
          "positive",
          "positive",
          "positive",
          "positive",
          "positive",
          "positive",
          "positive",
          "positive",
          "positive",
          "positive",
          "positive",
          "positive",
          "positive",
          "positive",
          "positive",
          "positive",
          "positive",
          "positive",
          "positive",
          "positive",
          "positive",
          "positive",
          "positive",
          "positive",
          "positive",
          "positive",
          "positive",
          "positive",
          "positive",
          "positive",
          "positive",
          "positive",
          "positive",
          "positive",
          "positive",
          "positive",
          "positive",
          "positive",
          "positive",
          "positive",
          "positive",
          "positive",
          "positive",
          "positive",
          "positive",
          "positive",
          "positive",
          "positive",
          "positive",
          "positive",
          "positive",
          "positive",
          "positive",
          "positive",
          "positive",
          "positive",
          "positive",
          "positive",
          "positive",
          "positive",
          "positive",
          "positive",
          "positive",
          "positive",
          "positive",
          "positive",
          "positive",
          "positive",
          "positive",
          "positive",
          "positive",
          "positive",
          "positive",
          "positive",
          "positive",
          "positive",
          "positive",
          "positive",
          "positive",
          "positive",
          "positive",
          "positive",
          "positive",
          "positive",
          "positive",
          "positive",
          "positive",
          "positive",
          "positive",
          "positive",
          "positive",
          "positive",
          "positive",
          "positive",
          "positive",
          "positive",
          "positive",
          "positive",
          "positive",
          "positive",
          "positive",
          "positive",
          "positive",
          "positive",
          "positive",
          "positive",
          "positive",
          "positive",
          "positive",
          "positive",
          "positive",
          "positive",
          "positive",
          "positive",
          "positive",
          "positive",
          "positive",
          "positive",
          "positive",
          "positive",
          "positive",
          "positive",
          "positive",
          "positive",
          "positive",
          "positive",
          "positive",
          "positive",
          "positive",
          "positive",
          "positive",
          "positive",
          "positive",
          "positive",
          "positive",
          "positive",
          "positive",
          "positive",
          "positive",
          "positive",
          "positive",
          "positive",
          "positive",
          "positive",
          "positive",
          "positive",
          "positive",
          "positive",
          "positive",
          "positive",
          "positive",
          "positive",
          "positive",
          "positive",
          "positive",
          "positive",
          "positive",
          "positive",
          "positive",
          "positive",
          "positive",
          "positive",
          "positive",
          "positive",
          "positive",
          "positive",
          "positive",
          "positive",
          "positive",
          "positive",
          "positive",
          "positive",
          "positive",
          "positive",
          "positive",
          "positive",
          "positive",
          "positive",
          "positive",
          "positive",
          "positive",
          "positive",
          "positive",
          "positive",
          "positive",
          "positive",
          "positive",
          "positive",
          "positive",
          "positive",
          "positive",
          "positive",
          "positive",
          "positive",
          "positive",
          "positive",
          "positive",
          "positive",
          "positive",
          "positive",
          "positive",
          "positive",
          "positive",
          "positive",
          "positive",
          "positive",
          "positive",
          "positive",
          "positive",
          "positive",
          "positive"
         ],
         "x0": " ",
         "xaxis": "x",
         "y": [
          296,
          270,
          87,
          92,
          134,
          87,
          89,
          100,
          227,
          107,
          269,
          111,
          279,
          95,
          98,
          136,
          82,
          136,
          103,
          100,
          93,
          99,
          228,
          136,
          98,
          114,
          103,
          110,
          251,
          87,
          191,
          334,
          109,
          201,
          167,
          85,
          177,
          90,
          115,
          147,
          90,
          141,
          147,
          222,
          174,
          162,
          219,
          189,
          87,
          111,
          121,
          294,
          116,
          88,
          167,
          240,
          132,
          134,
          159,
          115,
          81,
          266,
          244,
          117,
          103,
          182,
          83,
          147,
          241,
          318,
          93,
          66,
          91,
          156,
          123,
          103,
          125,
          166,
          89,
          115,
          108,
          187,
          122,
          182,
          116,
          94,
          105,
          116,
          93,
          94,
          87,
          147,
          132,
          227,
          134,
          137,
          111,
          81,
          106,
          130,
          109,
          347,
          98,
          81,
          126,
          191,
          133,
          215,
          61,
          106,
          92,
          91,
          112,
          94,
          133,
          102,
          114,
          115,
          110,
          233,
          462,
          100,
          245,
          168,
          99,
          101,
          100,
          146,
          382,
          94,
          303,
          112,
          102,
          115,
          88,
          89,
          90,
          104,
          186,
          112,
          218,
          127,
          152,
          222,
          68,
          104,
          150,
          99,
          94,
          177,
          50,
          92,
          88,
          92,
          119,
          77,
          87,
          202,
          141,
          142,
          114,
          81,
          184,
          91,
          97,
          246,
          93,
          157,
          222,
          155,
          96,
          94,
          202,
          99,
          107,
          100,
          154,
          105,
          82,
          230,
          114,
          111,
          217,
          116,
          125,
          95,
          114,
          87,
          106,
          368,
          408,
          100,
          302,
          141,
          500,
          99,
          90,
          145,
          108,
          541,
          163,
          114,
          104,
          184,
          102,
          76,
          78,
          274,
          100,
          87,
          182,
          96,
          119,
          95,
          208,
          80,
          141,
          118,
          170,
          108,
          200,
          102,
          140,
          230,
          104,
          135,
          114,
          147,
          204,
          149,
          96,
          113,
          407,
          319,
          290,
          117,
          100,
          97,
          220,
          381,
          122,
          175,
          221,
          86,
          97,
          92,
          102,
          122,
          90,
          196,
          93,
          106,
          83,
          267,
          198,
          256,
          194,
          257,
          95,
          261,
          234,
          104,
          139,
          129,
          108,
          87,
          235,
          147,
          425,
          131,
          94,
          366,
          226,
          112,
          106,
          98,
          132,
          95,
          122,
          162,
          88,
          150,
          80,
          197,
          104,
          166,
          106,
          92,
          219,
          88,
          117,
          91,
          86,
          93,
          211,
          161,
          94,
          258,
          83,
          276,
          216,
          95,
          91,
          130,
          114,
          88,
          82,
          175,
          226,
          131,
          122,
          124,
          162,
          156,
          92,
          127,
          92,
          123,
          336,
          263,
          124,
          97,
          126,
          181,
          109,
          163,
          200,
          82,
          100,
          94,
          100,
          100,
          98,
          111,
          86,
          107,
          155,
          85,
          232,
          100,
          105,
          347,
          210,
          151,
          181,
          134,
          96,
          271,
          109,
          283,
          134,
          95,
          87,
          293,
          90,
          87,
          117,
          81,
          86,
          98,
          157,
          103,
          305,
          96,
          338,
          135,
          94,
          198,
          116,
          116,
          130,
          101,
          136,
          96,
          282,
          94,
          354,
          140,
          128,
          153,
          106,
          164,
          144,
          115,
          274,
          144,
          104,
          82,
          115,
          328,
          169,
          100,
          117,
          97,
          150,
          91,
          130,
          223,
          303,
          99,
          168,
          129,
          98,
          215,
          97,
          161,
          97,
          197,
          189,
          239,
          133,
          123,
          229,
          111,
          144,
          62,
          106,
          96,
          99,
          240,
          111,
          107,
          94,
          121,
          185,
          98,
          119,
          99,
          98,
          87,
          242,
          208,
          87,
          262,
          99,
          115,
          138,
          271,
          85,
          216,
          99,
          91,
          109,
          110,
          95,
          93,
          157,
          138,
          146,
          104,
          120,
          96,
          221,
          140,
          124,
          228,
          35,
          94,
          75,
          155,
          98,
          166,
          234,
          228,
          143,
          154,
          142,
          110,
          134,
          185,
          272,
          314,
          108,
          90,
          247,
          77,
          434,
          87,
          80,
          186,
          217,
          276,
          100,
          150,
          124,
          150,
          139,
          77,
          149,
          134,
          152,
          145,
          64,
          139,
          103,
          96,
          202,
          90,
          302,
          336,
          123,
          92,
          155,
          111,
          100,
          93,
          297,
          146,
          165,
          99,
          104,
          65,
          100,
          105,
          133,
          217,
          277,
          132,
          211,
          171,
          136,
          102,
          117,
          94,
          122,
          83,
          87,
          115,
          100,
          93,
          137,
          223,
          100,
          181,
          174,
          160,
          168,
          115,
          247,
          265,
          121,
          103,
          132,
          216,
          97,
          106,
          99,
          140,
          98,
          171,
          329,
          85,
          204,
          131,
          144,
          133,
          82,
          272,
          97,
          96,
          88,
          138,
          319,
          239,
          130,
          187,
          98,
          247,
          132,
          93,
          203,
          134,
          103,
          85,
          192,
          87,
          135,
          100,
          100,
          92,
          134,
          87,
          96,
          107,
          269,
          101,
          279,
          166,
          321,
          136,
          82,
          107,
          120,
          136,
          103,
          100,
          99,
          96,
          133,
          136,
          113,
          98,
          91,
          149,
          103,
          110,
          251,
          109,
          101,
          167,
          112,
          123,
          86,
          177,
          115,
          392,
          147,
          87,
          90,
          141,
          174,
          162,
          193,
          87,
          121,
          116,
          88,
          167,
          132,
          134,
          159,
          81,
          101,
          130,
          117,
          120,
          182,
          147,
          66,
          91,
          156,
          123,
          103,
          125,
          115,
          108,
          322,
          105,
          122,
          89,
          182,
          94,
          109,
          362,
          97,
          110,
          105,
          116,
          94,
          87,
          147,
          131,
          84,
          132,
          134,
          137,
          111,
          111,
          81,
          106,
          130,
          197,
          169,
          109,
          104,
          117,
          103,
          81,
          165,
          126,
          191,
          321,
          133,
          109,
          96,
          61,
          80,
          92,
          91,
          95,
          150,
          194,
          114,
          104,
          110,
          233,
          95,
          106,
          99,
          187,
          188,
          98,
          101,
          100,
          96,
          96,
          146,
          109,
          159,
          303,
          98,
          154,
          115,
          89,
          90,
          103,
          112,
          218,
          87,
          127,
          382,
          150,
          175,
          92,
          99,
          105,
          50,
          92,
          103,
          88,
          203,
          92,
          93,
          108,
          130,
          119,
          77,
          87,
          431,
          141,
          92,
          114,
          166,
          113,
          81,
          126,
          100,
          91,
          103,
          97,
          94,
          93,
          111,
          157,
          222,
          155,
          113,
          99,
          107,
          100,
          154,
          105,
          82,
          100,
          86,
          114,
          111,
          217,
          116,
          95,
          87,
          225,
          168,
          131,
          500,
          102,
          108,
          87,
          163,
          98,
          114,
          104,
          184,
          66,
          102,
          100,
          76,
          274,
          188,
          87,
          182,
          96,
          114,
          415,
          119,
          95,
          118,
          170,
          200,
          102,
          140,
          230,
          104,
          135,
          351,
          114,
          149,
          96,
          443,
          134
         ],
         "y0": " ",
         "yaxis": "y"
        }
       ],
       "layout": {
        "boxmode": "overlay",
        "legend": {
         "title": {
          "text": "Resultado"
         },
         "tracegroupgap": 0
        },
        "template": {
         "data": {
          "bar": [
           {
            "error_x": {
             "color": "#2a3f5f"
            },
            "error_y": {
             "color": "#2a3f5f"
            },
            "marker": {
             "line": {
              "color": "#E5ECF6",
              "width": 0.5
             },
             "pattern": {
              "fillmode": "overlay",
              "size": 10,
              "solidity": 0.2
             }
            },
            "type": "bar"
           }
          ],
          "barpolar": [
           {
            "marker": {
             "line": {
              "color": "#E5ECF6",
              "width": 0.5
             },
             "pattern": {
              "fillmode": "overlay",
              "size": 10,
              "solidity": 0.2
             }
            },
            "type": "barpolar"
           }
          ],
          "carpet": [
           {
            "aaxis": {
             "endlinecolor": "#2a3f5f",
             "gridcolor": "white",
             "linecolor": "white",
             "minorgridcolor": "white",
             "startlinecolor": "#2a3f5f"
            },
            "baxis": {
             "endlinecolor": "#2a3f5f",
             "gridcolor": "white",
             "linecolor": "white",
             "minorgridcolor": "white",
             "startlinecolor": "#2a3f5f"
            },
            "type": "carpet"
           }
          ],
          "choropleth": [
           {
            "colorbar": {
             "outlinewidth": 0,
             "ticks": ""
            },
            "type": "choropleth"
           }
          ],
          "contour": [
           {
            "colorbar": {
             "outlinewidth": 0,
             "ticks": ""
            },
            "colorscale": [
             [
              0,
              "#0d0887"
             ],
             [
              0.1111111111111111,
              "#46039f"
             ],
             [
              0.2222222222222222,
              "#7201a8"
             ],
             [
              0.3333333333333333,
              "#9c179e"
             ],
             [
              0.4444444444444444,
              "#bd3786"
             ],
             [
              0.5555555555555556,
              "#d8576b"
             ],
             [
              0.6666666666666666,
              "#ed7953"
             ],
             [
              0.7777777777777778,
              "#fb9f3a"
             ],
             [
              0.8888888888888888,
              "#fdca26"
             ],
             [
              1,
              "#f0f921"
             ]
            ],
            "type": "contour"
           }
          ],
          "contourcarpet": [
           {
            "colorbar": {
             "outlinewidth": 0,
             "ticks": ""
            },
            "type": "contourcarpet"
           }
          ],
          "heatmap": [
           {
            "colorbar": {
             "outlinewidth": 0,
             "ticks": ""
            },
            "colorscale": [
             [
              0,
              "#0d0887"
             ],
             [
              0.1111111111111111,
              "#46039f"
             ],
             [
              0.2222222222222222,
              "#7201a8"
             ],
             [
              0.3333333333333333,
              "#9c179e"
             ],
             [
              0.4444444444444444,
              "#bd3786"
             ],
             [
              0.5555555555555556,
              "#d8576b"
             ],
             [
              0.6666666666666666,
              "#ed7953"
             ],
             [
              0.7777777777777778,
              "#fb9f3a"
             ],
             [
              0.8888888888888888,
              "#fdca26"
             ],
             [
              1,
              "#f0f921"
             ]
            ],
            "type": "heatmap"
           }
          ],
          "heatmapgl": [
           {
            "colorbar": {
             "outlinewidth": 0,
             "ticks": ""
            },
            "colorscale": [
             [
              0,
              "#0d0887"
             ],
             [
              0.1111111111111111,
              "#46039f"
             ],
             [
              0.2222222222222222,
              "#7201a8"
             ],
             [
              0.3333333333333333,
              "#9c179e"
             ],
             [
              0.4444444444444444,
              "#bd3786"
             ],
             [
              0.5555555555555556,
              "#d8576b"
             ],
             [
              0.6666666666666666,
              "#ed7953"
             ],
             [
              0.7777777777777778,
              "#fb9f3a"
             ],
             [
              0.8888888888888888,
              "#fdca26"
             ],
             [
              1,
              "#f0f921"
             ]
            ],
            "type": "heatmapgl"
           }
          ],
          "histogram": [
           {
            "marker": {
             "pattern": {
              "fillmode": "overlay",
              "size": 10,
              "solidity": 0.2
             }
            },
            "type": "histogram"
           }
          ],
          "histogram2d": [
           {
            "colorbar": {
             "outlinewidth": 0,
             "ticks": ""
            },
            "colorscale": [
             [
              0,
              "#0d0887"
             ],
             [
              0.1111111111111111,
              "#46039f"
             ],
             [
              0.2222222222222222,
              "#7201a8"
             ],
             [
              0.3333333333333333,
              "#9c179e"
             ],
             [
              0.4444444444444444,
              "#bd3786"
             ],
             [
              0.5555555555555556,
              "#d8576b"
             ],
             [
              0.6666666666666666,
              "#ed7953"
             ],
             [
              0.7777777777777778,
              "#fb9f3a"
             ],
             [
              0.8888888888888888,
              "#fdca26"
             ],
             [
              1,
              "#f0f921"
             ]
            ],
            "type": "histogram2d"
           }
          ],
          "histogram2dcontour": [
           {
            "colorbar": {
             "outlinewidth": 0,
             "ticks": ""
            },
            "colorscale": [
             [
              0,
              "#0d0887"
             ],
             [
              0.1111111111111111,
              "#46039f"
             ],
             [
              0.2222222222222222,
              "#7201a8"
             ],
             [
              0.3333333333333333,
              "#9c179e"
             ],
             [
              0.4444444444444444,
              "#bd3786"
             ],
             [
              0.5555555555555556,
              "#d8576b"
             ],
             [
              0.6666666666666666,
              "#ed7953"
             ],
             [
              0.7777777777777778,
              "#fb9f3a"
             ],
             [
              0.8888888888888888,
              "#fdca26"
             ],
             [
              1,
              "#f0f921"
             ]
            ],
            "type": "histogram2dcontour"
           }
          ],
          "mesh3d": [
           {
            "colorbar": {
             "outlinewidth": 0,
             "ticks": ""
            },
            "type": "mesh3d"
           }
          ],
          "parcoords": [
           {
            "line": {
             "colorbar": {
              "outlinewidth": 0,
              "ticks": ""
             }
            },
            "type": "parcoords"
           }
          ],
          "pie": [
           {
            "automargin": true,
            "type": "pie"
           }
          ],
          "scatter": [
           {
            "fillpattern": {
             "fillmode": "overlay",
             "size": 10,
             "solidity": 0.2
            },
            "type": "scatter"
           }
          ],
          "scatter3d": [
           {
            "line": {
             "colorbar": {
              "outlinewidth": 0,
              "ticks": ""
             }
            },
            "marker": {
             "colorbar": {
              "outlinewidth": 0,
              "ticks": ""
             }
            },
            "type": "scatter3d"
           }
          ],
          "scattercarpet": [
           {
            "marker": {
             "colorbar": {
              "outlinewidth": 0,
              "ticks": ""
             }
            },
            "type": "scattercarpet"
           }
          ],
          "scattergeo": [
           {
            "marker": {
             "colorbar": {
              "outlinewidth": 0,
              "ticks": ""
             }
            },
            "type": "scattergeo"
           }
          ],
          "scattergl": [
           {
            "marker": {
             "colorbar": {
              "outlinewidth": 0,
              "ticks": ""
             }
            },
            "type": "scattergl"
           }
          ],
          "scattermapbox": [
           {
            "marker": {
             "colorbar": {
              "outlinewidth": 0,
              "ticks": ""
             }
            },
            "type": "scattermapbox"
           }
          ],
          "scatterpolar": [
           {
            "marker": {
             "colorbar": {
              "outlinewidth": 0,
              "ticks": ""
             }
            },
            "type": "scatterpolar"
           }
          ],
          "scatterpolargl": [
           {
            "marker": {
             "colorbar": {
              "outlinewidth": 0,
              "ticks": ""
             }
            },
            "type": "scatterpolargl"
           }
          ],
          "scatterternary": [
           {
            "marker": {
             "colorbar": {
              "outlinewidth": 0,
              "ticks": ""
             }
            },
            "type": "scatterternary"
           }
          ],
          "surface": [
           {
            "colorbar": {
             "outlinewidth": 0,
             "ticks": ""
            },
            "colorscale": [
             [
              0,
              "#0d0887"
             ],
             [
              0.1111111111111111,
              "#46039f"
             ],
             [
              0.2222222222222222,
              "#7201a8"
             ],
             [
              0.3333333333333333,
              "#9c179e"
             ],
             [
              0.4444444444444444,
              "#bd3786"
             ],
             [
              0.5555555555555556,
              "#d8576b"
             ],
             [
              0.6666666666666666,
              "#ed7953"
             ],
             [
              0.7777777777777778,
              "#fb9f3a"
             ],
             [
              0.8888888888888888,
              "#fdca26"
             ],
             [
              1,
              "#f0f921"
             ]
            ],
            "type": "surface"
           }
          ],
          "table": [
           {
            "cells": {
             "fill": {
              "color": "#EBF0F8"
             },
             "line": {
              "color": "white"
             }
            },
            "header": {
             "fill": {
              "color": "#C8D4E3"
             },
             "line": {
              "color": "white"
             }
            },
            "type": "table"
           }
          ]
         },
         "layout": {
          "annotationdefaults": {
           "arrowcolor": "#2a3f5f",
           "arrowhead": 0,
           "arrowwidth": 1
          },
          "autotypenumbers": "strict",
          "coloraxis": {
           "colorbar": {
            "outlinewidth": 0,
            "ticks": ""
           }
          },
          "colorscale": {
           "diverging": [
            [
             0,
             "#8e0152"
            ],
            [
             0.1,
             "#c51b7d"
            ],
            [
             0.2,
             "#de77ae"
            ],
            [
             0.3,
             "#f1b6da"
            ],
            [
             0.4,
             "#fde0ef"
            ],
            [
             0.5,
             "#f7f7f7"
            ],
            [
             0.6,
             "#e6f5d0"
            ],
            [
             0.7,
             "#b8e186"
            ],
            [
             0.8,
             "#7fbc41"
            ],
            [
             0.9,
             "#4d9221"
            ],
            [
             1,
             "#276419"
            ]
           ],
           "sequential": [
            [
             0,
             "#0d0887"
            ],
            [
             0.1111111111111111,
             "#46039f"
            ],
            [
             0.2222222222222222,
             "#7201a8"
            ],
            [
             0.3333333333333333,
             "#9c179e"
            ],
            [
             0.4444444444444444,
             "#bd3786"
            ],
            [
             0.5555555555555556,
             "#d8576b"
            ],
            [
             0.6666666666666666,
             "#ed7953"
            ],
            [
             0.7777777777777778,
             "#fb9f3a"
            ],
            [
             0.8888888888888888,
             "#fdca26"
            ],
            [
             1,
             "#f0f921"
            ]
           ],
           "sequentialminus": [
            [
             0,
             "#0d0887"
            ],
            [
             0.1111111111111111,
             "#46039f"
            ],
            [
             0.2222222222222222,
             "#7201a8"
            ],
            [
             0.3333333333333333,
             "#9c179e"
            ],
            [
             0.4444444444444444,
             "#bd3786"
            ],
            [
             0.5555555555555556,
             "#d8576b"
            ],
            [
             0.6666666666666666,
             "#ed7953"
            ],
            [
             0.7777777777777778,
             "#fb9f3a"
            ],
            [
             0.8888888888888888,
             "#fdca26"
            ],
            [
             1,
             "#f0f921"
            ]
           ]
          },
          "colorway": [
           "#636efa",
           "#EF553B",
           "#00cc96",
           "#ab63fa",
           "#FFA15A",
           "#19d3f3",
           "#FF6692",
           "#B6E880",
           "#FF97FF",
           "#FECB52"
          ],
          "font": {
           "color": "#2a3f5f"
          },
          "geo": {
           "bgcolor": "white",
           "lakecolor": "white",
           "landcolor": "#E5ECF6",
           "showlakes": true,
           "showland": true,
           "subunitcolor": "white"
          },
          "hoverlabel": {
           "align": "left"
          },
          "hovermode": "closest",
          "mapbox": {
           "style": "light"
          },
          "paper_bgcolor": "white",
          "plot_bgcolor": "#E5ECF6",
          "polar": {
           "angularaxis": {
            "gridcolor": "white",
            "linecolor": "white",
            "ticks": ""
           },
           "bgcolor": "#E5ECF6",
           "radialaxis": {
            "gridcolor": "white",
            "linecolor": "white",
            "ticks": ""
           }
          },
          "scene": {
           "xaxis": {
            "backgroundcolor": "#E5ECF6",
            "gridcolor": "white",
            "gridwidth": 2,
            "linecolor": "white",
            "showbackground": true,
            "ticks": "",
            "zerolinecolor": "white"
           },
           "yaxis": {
            "backgroundcolor": "#E5ECF6",
            "gridcolor": "white",
            "gridwidth": 2,
            "linecolor": "white",
            "showbackground": true,
            "ticks": "",
            "zerolinecolor": "white"
           },
           "zaxis": {
            "backgroundcolor": "#E5ECF6",
            "gridcolor": "white",
            "gridwidth": 2,
            "linecolor": "white",
            "showbackground": true,
            "ticks": "",
            "zerolinecolor": "white"
           }
          },
          "shapedefaults": {
           "line": {
            "color": "#2a3f5f"
           }
          },
          "ternary": {
           "aaxis": {
            "gridcolor": "white",
            "linecolor": "white",
            "ticks": ""
           },
           "baxis": {
            "gridcolor": "white",
            "linecolor": "white",
            "ticks": ""
           },
           "bgcolor": "#E5ECF6",
           "caxis": {
            "gridcolor": "white",
            "linecolor": "white",
            "ticks": ""
           }
          },
          "title": {
           "x": 0.05
          },
          "xaxis": {
           "automargin": true,
           "gridcolor": "white",
           "linecolor": "white",
           "ticks": "",
           "title": {
            "standoff": 15
           },
           "zerolinecolor": "white",
           "zerolinewidth": 2
          },
          "yaxis": {
           "automargin": true,
           "gridcolor": "white",
           "linecolor": "white",
           "ticks": "",
           "title": {
            "standoff": 15
           },
           "zerolinecolor": "white",
           "zerolinewidth": 2
          }
         }
        },
        "title": {
         "text": "Distribuição da Glicose por Resultado"
        },
        "xaxis": {
         "anchor": "y",
         "categoryarray": [
          "negative",
          "positive"
         ],
         "categoryorder": "array",
         "domain": [
          0,
          1
         ],
         "title": {
          "text": "Resultado"
         }
        },
        "yaxis": {
         "anchor": "x",
         "domain": [
          0,
          1
         ],
         "title": {
          "text": "Glicose"
         }
        }
       }
      }
     },
     "metadata": {},
     "output_type": "display_data"
    }
   ],
   "source": [
    "# Boxplot interativo: Blood sugar por Result\n",
    "fig = px.box(df, x='Result', y='Blood sugar', color='Result',\n",
    "             title='Distribuição da Glicose por Resultado',\n",
    "             labels={'Blood sugar': 'Glicose', 'Result': 'Resultado'})\n",
    "fig.show()"
   ]
  },
  {
   "cell_type": "markdown",
   "id": "b385214e",
   "metadata": {},
   "source": [
    "**Conclusão possível:**\n",
    "\n",
    "- O boxplot revela que pacientes com resultado positivo apresentam, em geral, valores de glicose mais elevados e maior dispersão.\n",
    "- Permite comparar rapidamente a distribuição e identificar possíveis outliers em cada grupo."
   ]
  },
  {
   "cell_type": "code",
   "execution_count": 43,
   "id": "c8ab9a00",
   "metadata": {},
   "outputs": [
    {
     "data": {
      "application/vnd.plotly.v1+json": {
       "config": {
        "plotlyServerURL": "https://plot.ly"
       },
       "data": [
        {
         "alignmentgroup": "True",
         "bingroup": "x",
         "hovertemplate": "Resultado=negative<br>Idade=%{x}<br>count=%{y}<extra></extra>",
         "legendgroup": "negative",
         "marker": {
          "color": "#636efa",
          "opacity": 0.7,
          "pattern": {
           "shape": ""
          }
         },
         "name": "negative",
         "nbinsx": 30,
         "offsetgroup": "negative",
         "orientation": "v",
         "showlegend": true,
         "type": "histogram",
         "x": [
          64,
          55,
          55,
          58,
          32,
          44,
          67,
          44,
          63,
          54,
          47,
          45,
          37,
          60,
          42,
          72,
          63,
          35,
          56,
          65,
          64,
          50,
          44,
          50,
          45,
          46,
          38,
          40,
          57,
          50,
          49,
          54,
          45,
          46,
          52,
          54,
          57,
          58,
          40,
          45,
          65,
          62,
          67,
          51,
          67,
          55,
          38,
          71,
          30,
          70,
          67,
          67,
          56,
          43,
          45,
          50,
          63,
          53,
          44,
          45,
          55,
          58,
          55,
          70,
          68,
          32,
          60,
          60,
          46,
          46,
          75,
          40,
          68,
          55,
          50,
          68,
          61,
          30,
          62,
          60,
          46,
          58,
          51,
          50,
          48,
          48,
          63,
          60,
          52,
          55,
          45,
          45,
          53,
          67,
          60,
          55,
          63,
          75,
          63,
          48,
          44,
          25,
          62,
          50,
          56,
          45,
          54,
          41,
          57,
          50,
          75,
          68,
          67,
          62,
          52,
          60,
          53,
          50,
          61,
          49,
          39,
          68,
          41,
          50,
          36,
          50,
          44,
          53,
          68,
          63,
          50,
          63,
          91,
          42,
          42,
          60,
          49,
          21,
          50,
          65,
          26,
          34,
          75,
          70,
          75,
          60,
          70,
          41,
          63,
          63,
          43,
          56,
          65,
          90,
          45,
          50,
          31,
          65,
          60,
          63,
          49,
          52,
          28,
          28,
          70,
          56,
          56,
          41,
          60,
          21,
          62,
          42,
          60,
          52,
          59,
          35,
          50,
          50,
          58,
          71,
          43,
          65,
          65,
          44,
          45,
          72,
          63,
          75,
          64,
          41,
          73,
          40,
          37,
          42,
          28,
          37,
          41,
          51,
          69,
          45,
          42,
          56,
          60,
          22,
          51,
          40,
          49,
          70,
          63,
          47,
          43,
          53,
          22,
          42,
          53,
          44,
          56,
          72,
          32,
          51,
          61,
          70,
          71,
          37,
          41,
          66,
          60,
          60,
          42,
          52,
          50,
          60,
          35,
          82,
          29,
          42,
          45,
          20,
          50,
          50,
          22,
          73,
          73,
          47,
          55,
          61,
          71,
          50,
          60,
          50,
          34,
          43,
          60,
          70,
          43,
          72,
          53,
          62,
          27,
          60,
          51,
          57,
          75,
          63,
          43,
          47,
          39,
          45,
          55,
          36,
          58,
          60,
          35,
          34,
          48,
          73,
          48,
          42,
          60,
          75,
          60,
          36,
          40,
          53,
          45,
          54,
          63,
          44,
          68,
          24,
          38,
          62,
          80,
          55,
          39,
          66,
          69,
          60,
          58,
          42,
          58,
          50,
          85,
          67,
          50,
          73,
          52,
          74,
          28,
          40,
          56,
          49,
          59,
          71,
          38,
          71,
          60,
          58,
          24,
          47,
          72,
          83,
          64,
          39,
          30,
          60,
          43,
          29,
          57,
          50,
          65,
          58,
          75,
          54,
          63,
          75,
          33,
          65,
          47,
          48,
          48,
          60,
          35,
          25,
          56,
          53,
          23,
          14,
          51,
          46,
          60,
          48,
          54,
          64,
          68,
          27,
          47,
          41,
          67,
          65,
          66,
          58,
          60,
          43,
          33,
          45,
          68,
          34,
          67,
          37,
          45,
          61,
          62,
          35,
          70,
          63,
          53,
          36,
          63,
          47,
          50,
          43,
          55,
          43,
          55,
          75,
          63,
          42,
          50,
          55,
          35,
          37,
          33,
          63,
          65,
          27,
          42,
          28,
          64,
          67,
          54,
          73,
          50,
          33,
          35,
          70,
          29,
          60,
          30,
          74,
          50,
          37,
          66,
          48,
          32,
          32,
          41,
          80,
          65,
          38,
          47,
          35,
          48,
          57,
          29,
          57,
          65,
          55,
          40,
          68,
          45,
          40,
          63,
          44,
          44,
          55,
          26,
          57,
          65,
          63,
          38,
          60,
          40,
          66,
          63,
          79,
          53,
          60,
          71,
          63,
          41,
          48,
          25,
          60,
          73,
          61,
          33,
          43,
          38,
          37,
          45,
          60,
          40,
          34,
          38,
          29,
          73,
          29,
          51,
          39,
          31,
          58,
          45,
          38,
          62,
          69,
          54,
          49,
          54,
          52,
          70,
          37,
          60,
          45,
          65,
          46,
          60,
          33,
          67,
          44,
          28,
          41,
          66,
          19,
          29,
          39,
          70,
          55,
          36,
          35,
          42,
          62,
          67,
          62,
          40,
          45,
          48,
          86,
          44
         ],
         "xaxis": "x",
         "yaxis": "y"
        },
        {
         "alignmentgroup": "True",
         "bingroup": "x",
         "hovertemplate": "Resultado=positive<br>Idade=%{x}<br>count=%{y}<extra></extra>",
         "legendgroup": "positive",
         "marker": {
          "color": "#EF553B",
          "opacity": 0.7,
          "pattern": {
           "shape": ""
          }
         },
         "name": "positive",
         "nbinsx": 30,
         "offsetgroup": "positive",
         "orientation": "v",
         "showlegend": true,
         "type": "histogram",
         "x": [
          21,
          64,
          63,
          64,
          61,
          86,
          45,
          48,
          52,
          30,
          50,
          72,
          47,
          54,
          68,
          50,
          64,
          34,
          50,
          55,
          63,
          58,
          40,
          47,
          63,
          28,
          29,
          80,
          45,
          47,
          90,
          45,
          45,
          61,
          62,
          65,
          58,
          61,
          52,
          47,
          50,
          65,
          53,
          80,
          50,
          72,
          62,
          58,
          80,
          61,
          60,
          60,
          75,
          66,
          40,
          19,
          58,
          77,
          71,
          53,
          43,
          66,
          50,
          59,
          20,
          36,
          57,
          45,
          62,
          43,
          66,
          60,
          67,
          65,
          60,
          49,
          60,
          80,
          47,
          45,
          38,
          60,
          60,
          78,
          63,
          57,
          64,
          60,
          60,
          50,
          69,
          50,
          70,
          73,
          41,
          82,
          57,
          50,
          67,
          50,
          55,
          55,
          45,
          50,
          60,
          55,
          51,
          66,
          70,
          78,
          58,
          58,
          46,
          63,
          57,
          45,
          47,
          75,
          25,
          52,
          60,
          49,
          60,
          65,
          55,
          67,
          63,
          70,
          51,
          55,
          60,
          63,
          63,
          36,
          26,
          65,
          65,
          59,
          53,
          72,
          75,
          66,
          76,
          58,
          62,
          44,
          64,
          60,
          63,
          63,
          33,
          60,
          70,
          38,
          38,
          63,
          54,
          68,
          53,
          70,
          65,
          63,
          50,
          58,
          70,
          60,
          65,
          51,
          65,
          41,
          75,
          58,
          72,
          58,
          62,
          63,
          60,
          78,
          53,
          70,
          55,
          66,
          75,
          45,
          55,
          55,
          86,
          60,
          31,
          46,
          62,
          33,
          53,
          48,
          70,
          56,
          50,
          56,
          70,
          29,
          60,
          50,
          62,
          69,
          68,
          61,
          55,
          65,
          63,
          73,
          74,
          55,
          65,
          63,
          59,
          78,
          54,
          68,
          59,
          65,
          78,
          62,
          58,
          55,
          78,
          29,
          68,
          53,
          64,
          64,
          68,
          67,
          65,
          65,
          66,
          65,
          50,
          39,
          61,
          66,
          78,
          72,
          52,
          75,
          80,
          70,
          74,
          65,
          48,
          55,
          54,
          63,
          45,
          80,
          40,
          80,
          60,
          21,
          58,
          44,
          60,
          63,
          60,
          61,
          65,
          65,
          45,
          46,
          64,
          30,
          55,
          46,
          63,
          62,
          65,
          63,
          55,
          55,
          63,
          60,
          60,
          70,
          45,
          60,
          31,
          58,
          70,
          62,
          55,
          75,
          77,
          71,
          70,
          60,
          73,
          63,
          72,
          40,
          59,
          50,
          55,
          53,
          19,
          59,
          68,
          70,
          70,
          55,
          55,
          65,
          52,
          50,
          55,
          72,
          63,
          52,
          70,
          63,
          63,
          31,
          50,
          55,
          50,
          52,
          73,
          55,
          65,
          60,
          58,
          56,
          65,
          32,
          62,
          50,
          65,
          47,
          55,
          60,
          55,
          35,
          60,
          60,
          50,
          70,
          70,
          59,
          66,
          63,
          42,
          72,
          68,
          52,
          68,
          60,
          37,
          32,
          60,
          44,
          52,
          60,
          79,
          55,
          58,
          71,
          55,
          78,
          73,
          50,
          47,
          62,
          74,
          73,
          56,
          69,
          52,
          60,
          58,
          70,
          65,
          54,
          42,
          48,
          45,
          60,
          73,
          45,
          72,
          60,
          48,
          58,
          58,
          60,
          45,
          47,
          70,
          70,
          51,
          64,
          70,
          70,
          34,
          35,
          50,
          60,
          64,
          47,
          81,
          53,
          65,
          36,
          58,
          47,
          70,
          74,
          76,
          29,
          60,
          68,
          75,
          70,
          78,
          55,
          70,
          69,
          51,
          63,
          65,
          66,
          44,
          83,
          37,
          55,
          47,
          56,
          60,
          60,
          70,
          68,
          70,
          49,
          52,
          53,
          52,
          36,
          56,
          60,
          49,
          73,
          60,
          46,
          65,
          63,
          59,
          60,
          60,
          29,
          49,
          70,
          34,
          49,
          49,
          81,
          48,
          73,
          55,
          45,
          70,
          70,
          49,
          70,
          76,
          70,
          40,
          45,
          75,
          64,
          78,
          86,
          41,
          75,
          55,
          38,
          48,
          88,
          70,
          49,
          75,
          56,
          79,
          47,
          53,
          41,
          70,
          40,
          70,
          65,
          50,
          70,
          67,
          50,
          60,
          37,
          72,
          70,
          70,
          57,
          57,
          50,
          70,
          70,
          41,
          76,
          41,
          76,
          50,
          63,
          77,
          63,
          56,
          41,
          54,
          69,
          60,
          65,
          41,
          85,
          70,
          44,
          60,
          49,
          77,
          70,
          60,
          60,
          50,
          70,
          48,
          60,
          48,
          60,
          54,
          56,
          60,
          60,
          71,
          65,
          57,
          54,
          66,
          68,
          100,
          60,
          57,
          71,
          70,
          49,
          47,
          85,
          45,
          74,
          51,
          55,
          55,
          28,
          62,
          69,
          73,
          51,
          66,
          60,
          74,
          71,
          53,
          70,
          44,
          70,
          69,
          53,
          50,
          55,
          46,
          46,
          74,
          74,
          37,
          40,
          52,
          39,
          47,
          75,
          52,
          65,
          82,
          50,
          43,
          60,
          46,
          71,
          55,
          63,
          65,
          21,
          60,
          62,
          66,
          52,
          57,
          72,
          48,
          32,
          86,
          40,
          29,
          50,
          68,
          72,
          68,
          60,
          40,
          27,
          75,
          65,
          61,
          70,
          61,
          77,
          65,
          40,
          48,
          68,
          61,
          63,
          87,
          72,
          55,
          103,
          60,
          40,
          55,
          68,
          65,
          79,
          66,
          65,
          77,
          74,
          31,
          67,
          63,
          82,
          41,
          67,
          65,
          54,
          52,
          51,
          75,
          87,
          35,
          55,
          43,
          39,
          65,
          60,
          68,
          27,
          75,
          52,
          70,
          65,
          50,
          30,
          54,
          43,
          77,
          65,
          65,
          63,
          70,
          50,
          63,
          56,
          60,
          63,
          64,
          63,
          70,
          67,
          64,
          63,
          103,
          60,
          75,
          57,
          43,
          70,
          78,
          51,
          74,
          76,
          63,
          48,
          56,
          53,
          85,
          70,
          64,
          52,
          68,
          52,
          56,
          55,
          53,
          30,
          50,
          60,
          66,
          36,
          90,
          70,
          65,
          75,
          70,
          62,
          60,
          68,
          54,
          61,
          70,
          84,
          59,
          31,
          65,
          58,
          55,
          59,
          50,
          58,
          59,
          70,
          76,
          66,
          63,
          45,
          73,
          65,
          52,
          57,
          78,
          46,
          40,
          63,
          75,
          61,
          80,
          62,
          47,
          68,
          37,
          48,
          70,
          27,
          23,
          48,
          50,
          72,
          60,
          70,
          65,
          55,
          49,
          68,
          79,
          60,
          60,
          50,
          51,
          60,
          42,
          54,
          70,
          49,
          31,
          56,
          67,
          29,
          50,
          65,
          55,
          60,
          58,
          50,
          53,
          50,
          64,
          65,
          43,
          47,
          55,
          56,
          47,
          60,
          56,
          47,
          70,
          85,
          66,
          45,
          54,
          51
         ],
         "xaxis": "x",
         "yaxis": "y"
        }
       ],
       "layout": {
        "barmode": "overlay",
        "legend": {
         "title": {
          "text": "Resultado"
         },
         "tracegroupgap": 0
        },
        "template": {
         "data": {
          "bar": [
           {
            "error_x": {
             "color": "#2a3f5f"
            },
            "error_y": {
             "color": "#2a3f5f"
            },
            "marker": {
             "line": {
              "color": "#E5ECF6",
              "width": 0.5
             },
             "pattern": {
              "fillmode": "overlay",
              "size": 10,
              "solidity": 0.2
             }
            },
            "type": "bar"
           }
          ],
          "barpolar": [
           {
            "marker": {
             "line": {
              "color": "#E5ECF6",
              "width": 0.5
             },
             "pattern": {
              "fillmode": "overlay",
              "size": 10,
              "solidity": 0.2
             }
            },
            "type": "barpolar"
           }
          ],
          "carpet": [
           {
            "aaxis": {
             "endlinecolor": "#2a3f5f",
             "gridcolor": "white",
             "linecolor": "white",
             "minorgridcolor": "white",
             "startlinecolor": "#2a3f5f"
            },
            "baxis": {
             "endlinecolor": "#2a3f5f",
             "gridcolor": "white",
             "linecolor": "white",
             "minorgridcolor": "white",
             "startlinecolor": "#2a3f5f"
            },
            "type": "carpet"
           }
          ],
          "choropleth": [
           {
            "colorbar": {
             "outlinewidth": 0,
             "ticks": ""
            },
            "type": "choropleth"
           }
          ],
          "contour": [
           {
            "colorbar": {
             "outlinewidth": 0,
             "ticks": ""
            },
            "colorscale": [
             [
              0,
              "#0d0887"
             ],
             [
              0.1111111111111111,
              "#46039f"
             ],
             [
              0.2222222222222222,
              "#7201a8"
             ],
             [
              0.3333333333333333,
              "#9c179e"
             ],
             [
              0.4444444444444444,
              "#bd3786"
             ],
             [
              0.5555555555555556,
              "#d8576b"
             ],
             [
              0.6666666666666666,
              "#ed7953"
             ],
             [
              0.7777777777777778,
              "#fb9f3a"
             ],
             [
              0.8888888888888888,
              "#fdca26"
             ],
             [
              1,
              "#f0f921"
             ]
            ],
            "type": "contour"
           }
          ],
          "contourcarpet": [
           {
            "colorbar": {
             "outlinewidth": 0,
             "ticks": ""
            },
            "type": "contourcarpet"
           }
          ],
          "heatmap": [
           {
            "colorbar": {
             "outlinewidth": 0,
             "ticks": ""
            },
            "colorscale": [
             [
              0,
              "#0d0887"
             ],
             [
              0.1111111111111111,
              "#46039f"
             ],
             [
              0.2222222222222222,
              "#7201a8"
             ],
             [
              0.3333333333333333,
              "#9c179e"
             ],
             [
              0.4444444444444444,
              "#bd3786"
             ],
             [
              0.5555555555555556,
              "#d8576b"
             ],
             [
              0.6666666666666666,
              "#ed7953"
             ],
             [
              0.7777777777777778,
              "#fb9f3a"
             ],
             [
              0.8888888888888888,
              "#fdca26"
             ],
             [
              1,
              "#f0f921"
             ]
            ],
            "type": "heatmap"
           }
          ],
          "heatmapgl": [
           {
            "colorbar": {
             "outlinewidth": 0,
             "ticks": ""
            },
            "colorscale": [
             [
              0,
              "#0d0887"
             ],
             [
              0.1111111111111111,
              "#46039f"
             ],
             [
              0.2222222222222222,
              "#7201a8"
             ],
             [
              0.3333333333333333,
              "#9c179e"
             ],
             [
              0.4444444444444444,
              "#bd3786"
             ],
             [
              0.5555555555555556,
              "#d8576b"
             ],
             [
              0.6666666666666666,
              "#ed7953"
             ],
             [
              0.7777777777777778,
              "#fb9f3a"
             ],
             [
              0.8888888888888888,
              "#fdca26"
             ],
             [
              1,
              "#f0f921"
             ]
            ],
            "type": "heatmapgl"
           }
          ],
          "histogram": [
           {
            "marker": {
             "pattern": {
              "fillmode": "overlay",
              "size": 10,
              "solidity": 0.2
             }
            },
            "type": "histogram"
           }
          ],
          "histogram2d": [
           {
            "colorbar": {
             "outlinewidth": 0,
             "ticks": ""
            },
            "colorscale": [
             [
              0,
              "#0d0887"
             ],
             [
              0.1111111111111111,
              "#46039f"
             ],
             [
              0.2222222222222222,
              "#7201a8"
             ],
             [
              0.3333333333333333,
              "#9c179e"
             ],
             [
              0.4444444444444444,
              "#bd3786"
             ],
             [
              0.5555555555555556,
              "#d8576b"
             ],
             [
              0.6666666666666666,
              "#ed7953"
             ],
             [
              0.7777777777777778,
              "#fb9f3a"
             ],
             [
              0.8888888888888888,
              "#fdca26"
             ],
             [
              1,
              "#f0f921"
             ]
            ],
            "type": "histogram2d"
           }
          ],
          "histogram2dcontour": [
           {
            "colorbar": {
             "outlinewidth": 0,
             "ticks": ""
            },
            "colorscale": [
             [
              0,
              "#0d0887"
             ],
             [
              0.1111111111111111,
              "#46039f"
             ],
             [
              0.2222222222222222,
              "#7201a8"
             ],
             [
              0.3333333333333333,
              "#9c179e"
             ],
             [
              0.4444444444444444,
              "#bd3786"
             ],
             [
              0.5555555555555556,
              "#d8576b"
             ],
             [
              0.6666666666666666,
              "#ed7953"
             ],
             [
              0.7777777777777778,
              "#fb9f3a"
             ],
             [
              0.8888888888888888,
              "#fdca26"
             ],
             [
              1,
              "#f0f921"
             ]
            ],
            "type": "histogram2dcontour"
           }
          ],
          "mesh3d": [
           {
            "colorbar": {
             "outlinewidth": 0,
             "ticks": ""
            },
            "type": "mesh3d"
           }
          ],
          "parcoords": [
           {
            "line": {
             "colorbar": {
              "outlinewidth": 0,
              "ticks": ""
             }
            },
            "type": "parcoords"
           }
          ],
          "pie": [
           {
            "automargin": true,
            "type": "pie"
           }
          ],
          "scatter": [
           {
            "fillpattern": {
             "fillmode": "overlay",
             "size": 10,
             "solidity": 0.2
            },
            "type": "scatter"
           }
          ],
          "scatter3d": [
           {
            "line": {
             "colorbar": {
              "outlinewidth": 0,
              "ticks": ""
             }
            },
            "marker": {
             "colorbar": {
              "outlinewidth": 0,
              "ticks": ""
             }
            },
            "type": "scatter3d"
           }
          ],
          "scattercarpet": [
           {
            "marker": {
             "colorbar": {
              "outlinewidth": 0,
              "ticks": ""
             }
            },
            "type": "scattercarpet"
           }
          ],
          "scattergeo": [
           {
            "marker": {
             "colorbar": {
              "outlinewidth": 0,
              "ticks": ""
             }
            },
            "type": "scattergeo"
           }
          ],
          "scattergl": [
           {
            "marker": {
             "colorbar": {
              "outlinewidth": 0,
              "ticks": ""
             }
            },
            "type": "scattergl"
           }
          ],
          "scattermapbox": [
           {
            "marker": {
             "colorbar": {
              "outlinewidth": 0,
              "ticks": ""
             }
            },
            "type": "scattermapbox"
           }
          ],
          "scatterpolar": [
           {
            "marker": {
             "colorbar": {
              "outlinewidth": 0,
              "ticks": ""
             }
            },
            "type": "scatterpolar"
           }
          ],
          "scatterpolargl": [
           {
            "marker": {
             "colorbar": {
              "outlinewidth": 0,
              "ticks": ""
             }
            },
            "type": "scatterpolargl"
           }
          ],
          "scatterternary": [
           {
            "marker": {
             "colorbar": {
              "outlinewidth": 0,
              "ticks": ""
             }
            },
            "type": "scatterternary"
           }
          ],
          "surface": [
           {
            "colorbar": {
             "outlinewidth": 0,
             "ticks": ""
            },
            "colorscale": [
             [
              0,
              "#0d0887"
             ],
             [
              0.1111111111111111,
              "#46039f"
             ],
             [
              0.2222222222222222,
              "#7201a8"
             ],
             [
              0.3333333333333333,
              "#9c179e"
             ],
             [
              0.4444444444444444,
              "#bd3786"
             ],
             [
              0.5555555555555556,
              "#d8576b"
             ],
             [
              0.6666666666666666,
              "#ed7953"
             ],
             [
              0.7777777777777778,
              "#fb9f3a"
             ],
             [
              0.8888888888888888,
              "#fdca26"
             ],
             [
              1,
              "#f0f921"
             ]
            ],
            "type": "surface"
           }
          ],
          "table": [
           {
            "cells": {
             "fill": {
              "color": "#EBF0F8"
             },
             "line": {
              "color": "white"
             }
            },
            "header": {
             "fill": {
              "color": "#C8D4E3"
             },
             "line": {
              "color": "white"
             }
            },
            "type": "table"
           }
          ]
         },
         "layout": {
          "annotationdefaults": {
           "arrowcolor": "#2a3f5f",
           "arrowhead": 0,
           "arrowwidth": 1
          },
          "autotypenumbers": "strict",
          "coloraxis": {
           "colorbar": {
            "outlinewidth": 0,
            "ticks": ""
           }
          },
          "colorscale": {
           "diverging": [
            [
             0,
             "#8e0152"
            ],
            [
             0.1,
             "#c51b7d"
            ],
            [
             0.2,
             "#de77ae"
            ],
            [
             0.3,
             "#f1b6da"
            ],
            [
             0.4,
             "#fde0ef"
            ],
            [
             0.5,
             "#f7f7f7"
            ],
            [
             0.6,
             "#e6f5d0"
            ],
            [
             0.7,
             "#b8e186"
            ],
            [
             0.8,
             "#7fbc41"
            ],
            [
             0.9,
             "#4d9221"
            ],
            [
             1,
             "#276419"
            ]
           ],
           "sequential": [
            [
             0,
             "#0d0887"
            ],
            [
             0.1111111111111111,
             "#46039f"
            ],
            [
             0.2222222222222222,
             "#7201a8"
            ],
            [
             0.3333333333333333,
             "#9c179e"
            ],
            [
             0.4444444444444444,
             "#bd3786"
            ],
            [
             0.5555555555555556,
             "#d8576b"
            ],
            [
             0.6666666666666666,
             "#ed7953"
            ],
            [
             0.7777777777777778,
             "#fb9f3a"
            ],
            [
             0.8888888888888888,
             "#fdca26"
            ],
            [
             1,
             "#f0f921"
            ]
           ],
           "sequentialminus": [
            [
             0,
             "#0d0887"
            ],
            [
             0.1111111111111111,
             "#46039f"
            ],
            [
             0.2222222222222222,
             "#7201a8"
            ],
            [
             0.3333333333333333,
             "#9c179e"
            ],
            [
             0.4444444444444444,
             "#bd3786"
            ],
            [
             0.5555555555555556,
             "#d8576b"
            ],
            [
             0.6666666666666666,
             "#ed7953"
            ],
            [
             0.7777777777777778,
             "#fb9f3a"
            ],
            [
             0.8888888888888888,
             "#fdca26"
            ],
            [
             1,
             "#f0f921"
            ]
           ]
          },
          "colorway": [
           "#636efa",
           "#EF553B",
           "#00cc96",
           "#ab63fa",
           "#FFA15A",
           "#19d3f3",
           "#FF6692",
           "#B6E880",
           "#FF97FF",
           "#FECB52"
          ],
          "font": {
           "color": "#2a3f5f"
          },
          "geo": {
           "bgcolor": "white",
           "lakecolor": "white",
           "landcolor": "#E5ECF6",
           "showlakes": true,
           "showland": true,
           "subunitcolor": "white"
          },
          "hoverlabel": {
           "align": "left"
          },
          "hovermode": "closest",
          "mapbox": {
           "style": "light"
          },
          "paper_bgcolor": "white",
          "plot_bgcolor": "#E5ECF6",
          "polar": {
           "angularaxis": {
            "gridcolor": "white",
            "linecolor": "white",
            "ticks": ""
           },
           "bgcolor": "#E5ECF6",
           "radialaxis": {
            "gridcolor": "white",
            "linecolor": "white",
            "ticks": ""
           }
          },
          "scene": {
           "xaxis": {
            "backgroundcolor": "#E5ECF6",
            "gridcolor": "white",
            "gridwidth": 2,
            "linecolor": "white",
            "showbackground": true,
            "ticks": "",
            "zerolinecolor": "white"
           },
           "yaxis": {
            "backgroundcolor": "#E5ECF6",
            "gridcolor": "white",
            "gridwidth": 2,
            "linecolor": "white",
            "showbackground": true,
            "ticks": "",
            "zerolinecolor": "white"
           },
           "zaxis": {
            "backgroundcolor": "#E5ECF6",
            "gridcolor": "white",
            "gridwidth": 2,
            "linecolor": "white",
            "showbackground": true,
            "ticks": "",
            "zerolinecolor": "white"
           }
          },
          "shapedefaults": {
           "line": {
            "color": "#2a3f5f"
           }
          },
          "ternary": {
           "aaxis": {
            "gridcolor": "white",
            "linecolor": "white",
            "ticks": ""
           },
           "baxis": {
            "gridcolor": "white",
            "linecolor": "white",
            "ticks": ""
           },
           "bgcolor": "#E5ECF6",
           "caxis": {
            "gridcolor": "white",
            "linecolor": "white",
            "ticks": ""
           }
          },
          "title": {
           "x": 0.05
          },
          "xaxis": {
           "automargin": true,
           "gridcolor": "white",
           "linecolor": "white",
           "ticks": "",
           "title": {
            "standoff": 15
           },
           "zerolinecolor": "white",
           "zerolinewidth": 2
          },
          "yaxis": {
           "automargin": true,
           "gridcolor": "white",
           "linecolor": "white",
           "ticks": "",
           "title": {
            "standoff": 15
           },
           "zerolinecolor": "white",
           "zerolinewidth": 2
          }
         }
        },
        "title": {
         "text": "Distribuição de Idade por Resultado"
        },
        "xaxis": {
         "anchor": "y",
         "domain": [
          0,
          1
         ],
         "title": {
          "text": "Idade"
         }
        },
        "yaxis": {
         "anchor": "x",
         "domain": [
          0,
          1
         ],
         "title": {
          "text": "count"
         }
        }
       }
      }
     },
     "metadata": {},
     "output_type": "display_data"
    }
   ],
   "source": [
    "# Histograma interativo: Distribuição de idade por resultado\n",
    "fig = px.histogram(df, x='Age', color='Result', barmode='overlay',\n",
    "                   title='Distribuição de Idade por Resultado',\n",
    "                   labels={'Age': 'Idade', 'Result': 'Resultado'},\n",
    "                   nbins=30, opacity=0.7)\n",
    "fig.show()"
   ]
  },
  {
   "cell_type": "markdown",
   "id": "8ed6139e",
   "metadata": {},
   "source": [
    "**Conclusão possível:**\n",
    "\n",
    "- O histograma mostra a distribuição etária dos pacientes em cada grupo, evidenciando se há maior concentração de positivos em faixas etárias mais avançadas.\n",
    "- Facilita a visualização de sobreposição e diferenças entre os grupos, auxiliando na identificação de perfis de risco."
   ]
  },
  {
   "cell_type": "code",
   "execution_count": 44,
   "id": "c720d6bc",
   "metadata": {},
   "outputs": [
    {
     "data": {
      "application/vnd.plotly.v1+json": {
       "config": {
        "plotlyServerURL": "https://plot.ly"
       },
       "data": [
        {
         "coloraxis": "coloraxis",
         "hovertemplate": "x: %{x}<br>y: %{y}<br>color: %{z}<extra></extra>",
         "name": "0",
         "texttemplate": "%{z}",
         "type": "heatmap",
         "x": [
          "Age",
          "Gender",
          "Heart rate",
          "Systolic blood pressure",
          "Diastolic blood pressure",
          "Blood sugar",
          "CK-MB",
          "Troponin"
         ],
         "xaxis": "x",
         "y": [
          "Age",
          "Gender",
          "Heart rate",
          "Systolic blood pressure",
          "Diastolic blood pressure",
          "Blood sugar",
          "CK-MB",
          "Troponin"
         ],
         "yaxis": "y",
         "z": [
          [
           1,
           -0.09,
           -0.02,
           0.02,
           0,
           0,
           0.02,
           0.09
          ],
          [
           -0.09,
           1,
           -0.03,
           0.01,
           -0.01,
           0.01,
           0.02,
           0.07
          ],
          [
           -0.02,
           -0.03,
           1,
           0.01,
           0.11,
           -0.02,
           -0.01,
           0.01
          ],
          [
           0.02,
           0.01,
           0.01,
           1,
           0.59,
           0.02,
           -0.02,
           0.04
          ],
          [
           0,
           -0.01,
           0.11,
           0.59,
           1,
           -0.03,
           -0.02,
           0.04
          ],
          [
           0,
           0.01,
           -0.02,
           0.02,
           -0.03,
           1,
           0.05,
           0.02
          ],
          [
           0.02,
           0.02,
           -0.01,
           -0.02,
           -0.02,
           0.05,
           1,
           -0.02
          ],
          [
           0.09,
           0.07,
           0.01,
           0.04,
           0.04,
           0.02,
           -0.02,
           1
          ]
         ]
        }
       ],
       "layout": {
        "coloraxis": {
         "colorscale": [
          [
           0,
           "rgb(103,0,31)"
          ],
          [
           0.1,
           "rgb(178,24,43)"
          ],
          [
           0.2,
           "rgb(214,96,77)"
          ],
          [
           0.3,
           "rgb(244,165,130)"
          ],
          [
           0.4,
           "rgb(253,219,199)"
          ],
          [
           0.5,
           "rgb(247,247,247)"
          ],
          [
           0.6,
           "rgb(209,229,240)"
          ],
          [
           0.7,
           "rgb(146,197,222)"
          ],
          [
           0.8,
           "rgb(67,147,195)"
          ],
          [
           0.9,
           "rgb(33,102,172)"
          ],
          [
           1,
           "rgb(5,48,97)"
          ]
         ]
        },
        "template": {
         "data": {
          "bar": [
           {
            "error_x": {
             "color": "#2a3f5f"
            },
            "error_y": {
             "color": "#2a3f5f"
            },
            "marker": {
             "line": {
              "color": "#E5ECF6",
              "width": 0.5
             },
             "pattern": {
              "fillmode": "overlay",
              "size": 10,
              "solidity": 0.2
             }
            },
            "type": "bar"
           }
          ],
          "barpolar": [
           {
            "marker": {
             "line": {
              "color": "#E5ECF6",
              "width": 0.5
             },
             "pattern": {
              "fillmode": "overlay",
              "size": 10,
              "solidity": 0.2
             }
            },
            "type": "barpolar"
           }
          ],
          "carpet": [
           {
            "aaxis": {
             "endlinecolor": "#2a3f5f",
             "gridcolor": "white",
             "linecolor": "white",
             "minorgridcolor": "white",
             "startlinecolor": "#2a3f5f"
            },
            "baxis": {
             "endlinecolor": "#2a3f5f",
             "gridcolor": "white",
             "linecolor": "white",
             "minorgridcolor": "white",
             "startlinecolor": "#2a3f5f"
            },
            "type": "carpet"
           }
          ],
          "choropleth": [
           {
            "colorbar": {
             "outlinewidth": 0,
             "ticks": ""
            },
            "type": "choropleth"
           }
          ],
          "contour": [
           {
            "colorbar": {
             "outlinewidth": 0,
             "ticks": ""
            },
            "colorscale": [
             [
              0,
              "#0d0887"
             ],
             [
              0.1111111111111111,
              "#46039f"
             ],
             [
              0.2222222222222222,
              "#7201a8"
             ],
             [
              0.3333333333333333,
              "#9c179e"
             ],
             [
              0.4444444444444444,
              "#bd3786"
             ],
             [
              0.5555555555555556,
              "#d8576b"
             ],
             [
              0.6666666666666666,
              "#ed7953"
             ],
             [
              0.7777777777777778,
              "#fb9f3a"
             ],
             [
              0.8888888888888888,
              "#fdca26"
             ],
             [
              1,
              "#f0f921"
             ]
            ],
            "type": "contour"
           }
          ],
          "contourcarpet": [
           {
            "colorbar": {
             "outlinewidth": 0,
             "ticks": ""
            },
            "type": "contourcarpet"
           }
          ],
          "heatmap": [
           {
            "colorbar": {
             "outlinewidth": 0,
             "ticks": ""
            },
            "colorscale": [
             [
              0,
              "#0d0887"
             ],
             [
              0.1111111111111111,
              "#46039f"
             ],
             [
              0.2222222222222222,
              "#7201a8"
             ],
             [
              0.3333333333333333,
              "#9c179e"
             ],
             [
              0.4444444444444444,
              "#bd3786"
             ],
             [
              0.5555555555555556,
              "#d8576b"
             ],
             [
              0.6666666666666666,
              "#ed7953"
             ],
             [
              0.7777777777777778,
              "#fb9f3a"
             ],
             [
              0.8888888888888888,
              "#fdca26"
             ],
             [
              1,
              "#f0f921"
             ]
            ],
            "type": "heatmap"
           }
          ],
          "heatmapgl": [
           {
            "colorbar": {
             "outlinewidth": 0,
             "ticks": ""
            },
            "colorscale": [
             [
              0,
              "#0d0887"
             ],
             [
              0.1111111111111111,
              "#46039f"
             ],
             [
              0.2222222222222222,
              "#7201a8"
             ],
             [
              0.3333333333333333,
              "#9c179e"
             ],
             [
              0.4444444444444444,
              "#bd3786"
             ],
             [
              0.5555555555555556,
              "#d8576b"
             ],
             [
              0.6666666666666666,
              "#ed7953"
             ],
             [
              0.7777777777777778,
              "#fb9f3a"
             ],
             [
              0.8888888888888888,
              "#fdca26"
             ],
             [
              1,
              "#f0f921"
             ]
            ],
            "type": "heatmapgl"
           }
          ],
          "histogram": [
           {
            "marker": {
             "pattern": {
              "fillmode": "overlay",
              "size": 10,
              "solidity": 0.2
             }
            },
            "type": "histogram"
           }
          ],
          "histogram2d": [
           {
            "colorbar": {
             "outlinewidth": 0,
             "ticks": ""
            },
            "colorscale": [
             [
              0,
              "#0d0887"
             ],
             [
              0.1111111111111111,
              "#46039f"
             ],
             [
              0.2222222222222222,
              "#7201a8"
             ],
             [
              0.3333333333333333,
              "#9c179e"
             ],
             [
              0.4444444444444444,
              "#bd3786"
             ],
             [
              0.5555555555555556,
              "#d8576b"
             ],
             [
              0.6666666666666666,
              "#ed7953"
             ],
             [
              0.7777777777777778,
              "#fb9f3a"
             ],
             [
              0.8888888888888888,
              "#fdca26"
             ],
             [
              1,
              "#f0f921"
             ]
            ],
            "type": "histogram2d"
           }
          ],
          "histogram2dcontour": [
           {
            "colorbar": {
             "outlinewidth": 0,
             "ticks": ""
            },
            "colorscale": [
             [
              0,
              "#0d0887"
             ],
             [
              0.1111111111111111,
              "#46039f"
             ],
             [
              0.2222222222222222,
              "#7201a8"
             ],
             [
              0.3333333333333333,
              "#9c179e"
             ],
             [
              0.4444444444444444,
              "#bd3786"
             ],
             [
              0.5555555555555556,
              "#d8576b"
             ],
             [
              0.6666666666666666,
              "#ed7953"
             ],
             [
              0.7777777777777778,
              "#fb9f3a"
             ],
             [
              0.8888888888888888,
              "#fdca26"
             ],
             [
              1,
              "#f0f921"
             ]
            ],
            "type": "histogram2dcontour"
           }
          ],
          "mesh3d": [
           {
            "colorbar": {
             "outlinewidth": 0,
             "ticks": ""
            },
            "type": "mesh3d"
           }
          ],
          "parcoords": [
           {
            "line": {
             "colorbar": {
              "outlinewidth": 0,
              "ticks": ""
             }
            },
            "type": "parcoords"
           }
          ],
          "pie": [
           {
            "automargin": true,
            "type": "pie"
           }
          ],
          "scatter": [
           {
            "fillpattern": {
             "fillmode": "overlay",
             "size": 10,
             "solidity": 0.2
            },
            "type": "scatter"
           }
          ],
          "scatter3d": [
           {
            "line": {
             "colorbar": {
              "outlinewidth": 0,
              "ticks": ""
             }
            },
            "marker": {
             "colorbar": {
              "outlinewidth": 0,
              "ticks": ""
             }
            },
            "type": "scatter3d"
           }
          ],
          "scattercarpet": [
           {
            "marker": {
             "colorbar": {
              "outlinewidth": 0,
              "ticks": ""
             }
            },
            "type": "scattercarpet"
           }
          ],
          "scattergeo": [
           {
            "marker": {
             "colorbar": {
              "outlinewidth": 0,
              "ticks": ""
             }
            },
            "type": "scattergeo"
           }
          ],
          "scattergl": [
           {
            "marker": {
             "colorbar": {
              "outlinewidth": 0,
              "ticks": ""
             }
            },
            "type": "scattergl"
           }
          ],
          "scattermapbox": [
           {
            "marker": {
             "colorbar": {
              "outlinewidth": 0,
              "ticks": ""
             }
            },
            "type": "scattermapbox"
           }
          ],
          "scatterpolar": [
           {
            "marker": {
             "colorbar": {
              "outlinewidth": 0,
              "ticks": ""
             }
            },
            "type": "scatterpolar"
           }
          ],
          "scatterpolargl": [
           {
            "marker": {
             "colorbar": {
              "outlinewidth": 0,
              "ticks": ""
             }
            },
            "type": "scatterpolargl"
           }
          ],
          "scatterternary": [
           {
            "marker": {
             "colorbar": {
              "outlinewidth": 0,
              "ticks": ""
             }
            },
            "type": "scatterternary"
           }
          ],
          "surface": [
           {
            "colorbar": {
             "outlinewidth": 0,
             "ticks": ""
            },
            "colorscale": [
             [
              0,
              "#0d0887"
             ],
             [
              0.1111111111111111,
              "#46039f"
             ],
             [
              0.2222222222222222,
              "#7201a8"
             ],
             [
              0.3333333333333333,
              "#9c179e"
             ],
             [
              0.4444444444444444,
              "#bd3786"
             ],
             [
              0.5555555555555556,
              "#d8576b"
             ],
             [
              0.6666666666666666,
              "#ed7953"
             ],
             [
              0.7777777777777778,
              "#fb9f3a"
             ],
             [
              0.8888888888888888,
              "#fdca26"
             ],
             [
              1,
              "#f0f921"
             ]
            ],
            "type": "surface"
           }
          ],
          "table": [
           {
            "cells": {
             "fill": {
              "color": "#EBF0F8"
             },
             "line": {
              "color": "white"
             }
            },
            "header": {
             "fill": {
              "color": "#C8D4E3"
             },
             "line": {
              "color": "white"
             }
            },
            "type": "table"
           }
          ]
         },
         "layout": {
          "annotationdefaults": {
           "arrowcolor": "#2a3f5f",
           "arrowhead": 0,
           "arrowwidth": 1
          },
          "autotypenumbers": "strict",
          "coloraxis": {
           "colorbar": {
            "outlinewidth": 0,
            "ticks": ""
           }
          },
          "colorscale": {
           "diverging": [
            [
             0,
             "#8e0152"
            ],
            [
             0.1,
             "#c51b7d"
            ],
            [
             0.2,
             "#de77ae"
            ],
            [
             0.3,
             "#f1b6da"
            ],
            [
             0.4,
             "#fde0ef"
            ],
            [
             0.5,
             "#f7f7f7"
            ],
            [
             0.6,
             "#e6f5d0"
            ],
            [
             0.7,
             "#b8e186"
            ],
            [
             0.8,
             "#7fbc41"
            ],
            [
             0.9,
             "#4d9221"
            ],
            [
             1,
             "#276419"
            ]
           ],
           "sequential": [
            [
             0,
             "#0d0887"
            ],
            [
             0.1111111111111111,
             "#46039f"
            ],
            [
             0.2222222222222222,
             "#7201a8"
            ],
            [
             0.3333333333333333,
             "#9c179e"
            ],
            [
             0.4444444444444444,
             "#bd3786"
            ],
            [
             0.5555555555555556,
             "#d8576b"
            ],
            [
             0.6666666666666666,
             "#ed7953"
            ],
            [
             0.7777777777777778,
             "#fb9f3a"
            ],
            [
             0.8888888888888888,
             "#fdca26"
            ],
            [
             1,
             "#f0f921"
            ]
           ],
           "sequentialminus": [
            [
             0,
             "#0d0887"
            ],
            [
             0.1111111111111111,
             "#46039f"
            ],
            [
             0.2222222222222222,
             "#7201a8"
            ],
            [
             0.3333333333333333,
             "#9c179e"
            ],
            [
             0.4444444444444444,
             "#bd3786"
            ],
            [
             0.5555555555555556,
             "#d8576b"
            ],
            [
             0.6666666666666666,
             "#ed7953"
            ],
            [
             0.7777777777777778,
             "#fb9f3a"
            ],
            [
             0.8888888888888888,
             "#fdca26"
            ],
            [
             1,
             "#f0f921"
            ]
           ]
          },
          "colorway": [
           "#636efa",
           "#EF553B",
           "#00cc96",
           "#ab63fa",
           "#FFA15A",
           "#19d3f3",
           "#FF6692",
           "#B6E880",
           "#FF97FF",
           "#FECB52"
          ],
          "font": {
           "color": "#2a3f5f"
          },
          "geo": {
           "bgcolor": "white",
           "lakecolor": "white",
           "landcolor": "#E5ECF6",
           "showlakes": true,
           "showland": true,
           "subunitcolor": "white"
          },
          "hoverlabel": {
           "align": "left"
          },
          "hovermode": "closest",
          "mapbox": {
           "style": "light"
          },
          "paper_bgcolor": "white",
          "plot_bgcolor": "#E5ECF6",
          "polar": {
           "angularaxis": {
            "gridcolor": "white",
            "linecolor": "white",
            "ticks": ""
           },
           "bgcolor": "#E5ECF6",
           "radialaxis": {
            "gridcolor": "white",
            "linecolor": "white",
            "ticks": ""
           }
          },
          "scene": {
           "xaxis": {
            "backgroundcolor": "#E5ECF6",
            "gridcolor": "white",
            "gridwidth": 2,
            "linecolor": "white",
            "showbackground": true,
            "ticks": "",
            "zerolinecolor": "white"
           },
           "yaxis": {
            "backgroundcolor": "#E5ECF6",
            "gridcolor": "white",
            "gridwidth": 2,
            "linecolor": "white",
            "showbackground": true,
            "ticks": "",
            "zerolinecolor": "white"
           },
           "zaxis": {
            "backgroundcolor": "#E5ECF6",
            "gridcolor": "white",
            "gridwidth": 2,
            "linecolor": "white",
            "showbackground": true,
            "ticks": "",
            "zerolinecolor": "white"
           }
          },
          "shapedefaults": {
           "line": {
            "color": "#2a3f5f"
           }
          },
          "ternary": {
           "aaxis": {
            "gridcolor": "white",
            "linecolor": "white",
            "ticks": ""
           },
           "baxis": {
            "gridcolor": "white",
            "linecolor": "white",
            "ticks": ""
           },
           "bgcolor": "#E5ECF6",
           "caxis": {
            "gridcolor": "white",
            "linecolor": "white",
            "ticks": ""
           }
          },
          "title": {
           "x": 0.05
          },
          "xaxis": {
           "automargin": true,
           "gridcolor": "white",
           "linecolor": "white",
           "ticks": "",
           "title": {
            "standoff": 15
           },
           "zerolinecolor": "white",
           "zerolinewidth": 2
          },
          "yaxis": {
           "automargin": true,
           "gridcolor": "white",
           "linecolor": "white",
           "ticks": "",
           "title": {
            "standoff": 15
           },
           "zerolinecolor": "white",
           "zerolinewidth": 2
          }
         }
        },
        "title": {
         "text": "Heatmap Interativo de Correlação"
        },
        "xaxis": {
         "anchor": "y",
         "constrain": "domain",
         "domain": [
          0,
          1
         ],
         "scaleanchor": "y"
        },
        "yaxis": {
         "anchor": "x",
         "autorange": "reversed",
         "constrain": "domain",
         "domain": [
          0,
          1
         ]
        }
       }
      }
     },
     "metadata": {},
     "output_type": "display_data"
    }
   ],
   "source": [
    "# Heatmap interativo de correlação entre variáveis numéricas\n",
    "corr = df.select_dtypes(include='number').corr()\n",
    "fig = px.imshow(corr.round(2), text_auto=True, color_continuous_scale='RdBu',\n",
    "                 title='Heatmap Interativo de Correlação')\n",
    "fig.show()"
   ]
  },
  {
   "cell_type": "markdown",
   "id": "bb78059d",
   "metadata": {},
   "source": [
    "**Conclusão possível:**\n",
    "\n",
    "- O heatmap interativo permite identificar rapidamente quais variáveis numéricas possuem maior correlação entre si.\n",
    "- Relações fortes podem indicar fatores de risco combinados ou redundância de informações, úteis para seleção de variáveis em modelos preditivos."
   ]
  },
  {
   "cell_type": "markdown",
   "id": "25768bc4",
   "metadata": {},
   "source": [
    "## 10. Modelagem Preditiva com Machine Learning\n",
    "\n",
    "Nesta seção, será construído um modelo de classificação para prever o risco de doença cardíaca com base nas variáveis clínicas do dataset. O objetivo é identificar os principais fatores de risco e avaliar a performance do modelo."
   ]
  },
  {
   "cell_type": "code",
   "execution_count": 46,
   "id": "88b1f534",
   "metadata": {},
   "outputs": [],
   "source": [
    "# Importar bibliotecas para machine learning\n",
    "from sklearn.model_selection import train_test_split\n",
    "from sklearn.ensemble import RandomForestClassifier\n",
    "from sklearn.metrics import classification_report, confusion_matrix, accuracy_score"
   ]
  },
  {
   "cell_type": "code",
   "execution_count": 47,
   "id": "6677f227",
   "metadata": {},
   "outputs": [],
   "source": [
    "# Preparação dos dados para o modelo\n",
    "X = df[['Age', 'Blood sugar', 'Systolic blood pressure']]\n",
    "y = (df['Result'] == 'positive').astype(int)  # 1 para positivo, 0 para negativo\n",
    "X_train, X_test, y_train, y_test = train_test_split(X, y, test_size=0.25, random_state=42)"
   ]
  },
  {
   "cell_type": "code",
   "execution_count": 48,
   "id": "bb8ba31e",
   "metadata": {},
   "outputs": [
    {
     "name": "stdout",
     "output_type": "stream",
     "text": [
      "Acurácia: 0.5818181818181818\n",
      "/n Matriz de Confusão:\n",
      "[[ 44  84]\n",
      " [ 54 148]]\n",
      "/n Relatório de Classificação:\n",
      "              precision    recall  f1-score   support\n",
      "\n",
      "    Negativo       0.45      0.34      0.39       128\n",
      "    Positivo       0.64      0.73      0.68       202\n",
      "\n",
      "    accuracy                           0.58       330\n",
      "   macro avg       0.54      0.54      0.54       330\n",
      "weighted avg       0.56      0.58      0.57       330\n",
      "\n"
     ]
    }
   ],
   "source": [
    "# Treinamento do modelo RandomForest\n",
    "clf = RandomForestClassifier(n_estimators=100, random_state=42)\n",
    "clf.fit(X_train, y_train)\n",
    "y_pred = clf.predict(X_test)\n",
    "\n",
    "print('Acurácia:', accuracy_score(y_test, y_pred))\n",
    "print('/n Matriz de Confusão:')\n",
    "print(confusion_matrix(y_test, y_pred))\n",
    "print('/n Relatório de Classificação:')\n",
    "print(classification_report(y_test, y_pred, target_names=['Negativo', 'Positivo']))"
   ]
  },
  {
   "cell_type": "markdown",
   "id": "afcb7230",
   "metadata": {},
   "source": [
    "**Conclusão possível:**\n",
    "\n",
    "- O modelo RandomForest permite prever o risco de resultado positivo com base em idade, glicose e pressão sistólica.\n",
    "- A acurácia, matriz de confusão e relatório de classificação mostram o desempenho do modelo e possíveis limitações.\n",
    "- A análise dos resultados pode indicar quais variáveis são mais relevantes para a predição e onde o modelo pode errar (falsos positivos/negativos)."
   ]
  }
 ],
 "metadata": {
  "kernelspec": {
   "display_name": "base",
   "language": "python",
   "name": "python3"
  },
  "language_info": {
   "codemirror_mode": {
    "name": "ipython",
    "version": 3
   },
   "file_extension": ".py",
   "mimetype": "text/x-python",
   "name": "python",
   "nbconvert_exporter": "python",
   "pygments_lexer": "ipython3",
   "version": "3.13.5"
  }
 },
 "nbformat": 4,
 "nbformat_minor": 5
}
